{
 "cells": [
  {
   "cell_type": "code",
   "execution_count": null,
   "metadata": {},
   "outputs": [],
   "source": [
    "# Exercise: Merging and Performing Arithmetic on DataFrames\n",
    "\n",
    "# Objective: To merge two datasets with different indices and perform\n",
    "# arithmetic operations on them.\n",
    "\n",
    "# Pandas features:\n",
    "# - Align data based on index labels.\n",
    "# - Deal with dataset from different sources.}\n",
    "\n",
    "# Task\n",
    "# Create DataFrames: Define two DataFrames, sales_2019 and sales_2020,\n",
    "# with product names as indices and sales figures as values. Ensure some\n",
    "# products are common to both DataFrames while others are unique to each.\n",
    "\n",
    "# Perform Arithmetic Operation: Add these two DataFrames to get the total\n",
    "# sales for each product over the two years. Pay attention to how Pandas\n",
    "# handles missing values (products that appear in one DataFrame but not\n",
    "# the other).\n",
    "\n",
    "# Analysis: After the arithmetic operation, analyze how Pandas aligned the\n",
    "# data. Look for NaN values and discuss why they appear."
   ]
  },
  {
   "cell_type": "code",
   "execution_count": 2,
   "metadata": {},
   "outputs": [],
   "source": [
    "import pandas as pd\n",
    "import numpy as np"
   ]
  },
  {
   "cell_type": "code",
   "execution_count": 24,
   "metadata": {},
   "outputs": [
    {
     "name": "stdout",
     "output_type": "stream",
     "text": [
      "           Sales\n",
      "ProductA     NaN\n",
      "ProductB  2600.0\n",
      "ProductC  3600.0\n",
      "ProductD  3300.0\n",
      "ProductE     NaN\n"
     ]
    }
   ],
   "source": [
    "# Create DataFrames\n",
    "sales_2019 = pd.DataFrame({\n",
    "    'Sales': [1000, 1500, 2000, 1200],\n",
    "}, index=['ProductA', 'ProductB', 'ProductC', 'ProductD'])\n",
    "\n",
    "sales_2020 = pd.DataFrame({\n",
    "    'Sales': [1100, 1600, 2100, 1300],\n",
    "}, index=['ProductB', 'ProductC', 'ProductD', 'ProductE'])\n",
    "\n",
    "# Perform Arithmetic Operation\n",
    "total_sales = sales_2019 + sales_2020\n",
    "\n",
    "# Display the result\n",
    "print(total_sales)\n"
   ]
  },
  {
   "cell_type": "code",
   "execution_count": 40,
   "metadata": {},
   "outputs": [
    {
     "data": {
      "text/html": [
       "<div>\n",
       "<style scoped>\n",
       "    .dataframe tbody tr th:only-of-type {\n",
       "        vertical-align: middle;\n",
       "    }\n",
       "\n",
       "    .dataframe tbody tr th {\n",
       "        vertical-align: top;\n",
       "    }\n",
       "\n",
       "    .dataframe thead th {\n",
       "        text-align: right;\n",
       "    }\n",
       "</style>\n",
       "<table border=\"1\" class=\"dataframe\">\n",
       "  <thead>\n",
       "    <tr style=\"text-align: right;\">\n",
       "      <th></th>\n",
       "    </tr>\n",
       "  </thead>\n",
       "  <tbody>\n",
       "    <tr>\n",
       "      <th>2023-01-01</th>\n",
       "    </tr>\n",
       "    <tr>\n",
       "      <th>2023-02-01</th>\n",
       "    </tr>\n",
       "    <tr>\n",
       "      <th>2023-03-01</th>\n",
       "    </tr>\n",
       "    <tr>\n",
       "      <th>2023-04-01</th>\n",
       "    </tr>\n",
       "    <tr>\n",
       "      <th>2023-05-01</th>\n",
       "    </tr>\n",
       "    <tr>\n",
       "      <th>2023-06-01</th>\n",
       "    </tr>\n",
       "    <tr>\n",
       "      <th>2023-07-01</th>\n",
       "    </tr>\n",
       "    <tr>\n",
       "      <th>2023-08-01</th>\n",
       "    </tr>\n",
       "    <tr>\n",
       "      <th>2023-09-01</th>\n",
       "    </tr>\n",
       "    <tr>\n",
       "      <th>2023-10-01</th>\n",
       "    </tr>\n",
       "    <tr>\n",
       "      <th>2023-11-01</th>\n",
       "    </tr>\n",
       "    <tr>\n",
       "      <th>2023-12-01</th>\n",
       "    </tr>\n",
       "  </tbody>\n",
       "</table>\n",
       "</div>"
      ],
      "text/plain": [
       "Empty DataFrame\n",
       "Columns: []\n",
       "Index: [2023-01-01 00:00:00, 2023-02-01 00:00:00, 2023-03-01 00:00:00, 2023-04-01 00:00:00, 2023-05-01 00:00:00, 2023-06-01 00:00:00, 2023-07-01 00:00:00, 2023-08-01 00:00:00, 2023-09-01 00:00:00, 2023-10-01 00:00:00, 2023-11-01 00:00:00, 2023-12-01 00:00:00]"
      ]
     },
     "execution_count": 40,
     "metadata": {},
     "output_type": "execute_result"
    }
   ],
   "source": [
    "# Create a date range for each month in a year\n",
    "months = pd.date_range(start='2023-01-01', end='2023-12-31', freq='MS')\n",
    "\n",
    "# Create a DataFrame with this date range as the index\n",
    "sales_data = pd.DataFrame(index=months)\n",
    "sales_data"
   ]
  },
  {
   "cell_type": "code",
   "execution_count": null,
   "metadata": {},
   "outputs": [],
   "source": []
  }
 ],
 "metadata": {
  "kernelspec": {
   "display_name": "Python 3",
   "language": "python",
   "name": "python3"
  },
  "language_info": {
   "codemirror_mode": {
    "name": "ipython",
    "version": 3
   },
   "file_extension": ".py",
   "mimetype": "text/x-python",
   "name": "python",
   "nbconvert_exporter": "python",
   "pygments_lexer": "ipython3",
   "version": "3.11.1"
  }
 },
 "nbformat": 4,
 "nbformat_minor": 2
}
