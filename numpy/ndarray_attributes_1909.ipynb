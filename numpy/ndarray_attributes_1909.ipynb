{
 "cells": [
  {
   "cell_type": "code",
   "execution_count": 1,
   "metadata": {},
   "outputs": [],
   "source": [
    "import numpy as np"
   ]
  },
  {
   "cell_type": "code",
   "execution_count": 6,
   "metadata": {},
   "outputs": [
    {
     "name": "stdout",
     "output_type": "stream",
     "text": [
      "array: \n",
      " [[-1.2353531  -0.38334531 -0.19963111  0.16017715  0.53654187]\n",
      " [-0.5130171  -0.3130553  -0.76915387  0.37502454  0.62476159]\n",
      " [ 0.07854793 -0.44554422 -0.27745722 -1.27715497  0.61020257]\n",
      " [ 1.19991048 -0.20386101  1.67934977 -1.10157456  1.90232885]\n",
      " [ 1.89886244 -1.57927794 -0.6935962  -0.43197362 -0.23613251]\n",
      " [-1.38412373 -1.04977399  1.76944048 -1.02137459  0.23533004]\n",
      " [ 0.32058203 -0.12281949  0.2760281  -1.39022398 -1.06719918]\n",
      " [-1.14036259  0.84476537  0.12564717 -0.23890099  1.07856402]] \n",
      "\n",
      "array type: \n",
      " float64 \n",
      "size: \n",
      " (8, 5)\n",
      "\n",
      "\n",
      "array2: \n",
      " [[-0.2156159  -0.20920652]\n",
      " [ 0.52715161  0.80050909]\n",
      " [ 1.98264698 -1.63234938]] \n",
      "\n",
      "array type: \n",
      " float64 \n",
      "size: \n",
      " (3, 2)\n"
     ]
    }
   ],
   "source": [
    "# ndarray is a n dimensional array object, fast and flexible\n",
    "# container for large datasets in python\n",
    "# generate some rdm data\n",
    "data = np.random.randn(8, 5)\n",
    "data_type = data.dtype\n",
    "print('array: \\n',data,'\\n\\narray type: \\n', data_type,'\\nsize: \\n',data.shape)\n",
    "data2 = np.random.randn(3,2)\n",
    "print('\\n\\narray2: \\n',data2,'\\n\\narray type: \\n', data2.dtype,'\\nsize: \\n',data2.shape)"
   ]
  },
  {
   "cell_type": "code",
   "execution_count": 7,
   "metadata": {},
   "outputs": [
    {
     "name": "stdout",
     "output_type": "stream",
     "text": [
      "The sum of rows is:  [-1.12161051 -0.59544014 -1.31140591  3.47615354 -1.04211782 -1.45050179\n",
      " -1.98363252  0.66971298] \n",
      "The sum of columns is:  [-0.77495363 -3.25291189  1.91062711 -4.92600101  3.68439725]\n"
     ]
    }
   ],
   "source": [
    "# aggregation functions\n",
    "# sum by axis\n",
    "sum_data_rows = np.sum(data, axis=1)\n",
    "sum_data_columns =np.sum(data, axis=0)\n",
    "print('The sum of rows is: ', sum_data_rows, '\\nThe sum of columns is: ', sum_data_columns)"
   ]
  },
  {
   "cell_type": "code",
   "execution_count": 8,
   "metadata": {},
   "outputs": [
    {
     "name": "stdout",
     "output_type": "stream",
     "text": [
      "The shape of data is:  (8, 5) \n",
      "The dimension of data is:  2 \n",
      "The data type of data is:  float64 \n",
      "The size of data is:  40\n"
     ]
    }
   ],
   "source": [
    "# array attributes\n",
    "\n",
    "print('The shape of data is: ', data.shape, '\\nThe dimension of data is: ', data.ndim, '\\nThe data type of data is: ', data.dtype, '\\nThe size of data is: ', data.size)\t"
   ]
  },
  {
   "cell_type": "code",
   "execution_count": null,
   "metadata": {},
   "outputs": [],
   "source": []
  }
 ],
 "metadata": {
  "kernelspec": {
   "display_name": "Python 3",
   "language": "python",
   "name": "python3"
  },
  "language_info": {
   "codemirror_mode": {
    "name": "ipython",
    "version": 3
   },
   "file_extension": ".py",
   "mimetype": "text/x-python",
   "name": "python",
   "nbconvert_exporter": "python",
   "pygments_lexer": "ipython3",
   "version": "3.11.1"
  },
  "orig_nbformat": 4
 },
 "nbformat": 4,
 "nbformat_minor": 2
}
