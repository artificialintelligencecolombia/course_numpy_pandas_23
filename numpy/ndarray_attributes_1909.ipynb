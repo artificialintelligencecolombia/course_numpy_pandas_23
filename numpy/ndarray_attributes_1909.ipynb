{
 "cells": [
  {
   "cell_type": "code",
   "execution_count": 1,
   "metadata": {},
   "outputs": [],
   "source": [
    "import numpy as np"
   ]
  },
  {
   "cell_type": "code",
   "execution_count": 6,
   "metadata": {},
   "outputs": [
    {
     "name": "stdout",
     "output_type": "stream",
     "text": [
      "[[-0.1909479   0.63776803 -2.42010049  0.16655948  0.02072981]\n",
      " [-0.95119364 -1.36396973 -0.21593527  1.05068609 -0.63993395]\n",
      " [ 0.49640745  1.21329591 -0.1915422   1.33464629 -0.37118066]\n",
      " [ 0.87950461 -0.0130963   0.1784559  -0.62371472  0.26541447]\n",
      " [ 0.4817146   1.06246978 -0.05892718 -0.7048289  -0.54905996]\n",
      " [-1.51345803  0.8220963   0.19313728 -0.42726031 -0.43141357]\n",
      " [-1.52621739  2.0220447  -0.9954815   1.00254231  0.65450816]\n",
      " [-0.53020825  0.40498578  0.75622301  0.21568335  0.47399738]] float64 (8, 5)\n",
      "[[ 0.06534598  0.60230353]\n",
      " [ 0.63070577  0.57826842]\n",
      " [ 2.24640111 -1.52470739]] float64 (3, 2)\n"
     ]
    }
   ],
   "source": [
    "# ndarray is a n dimensional array object, fast and flexible\n",
    "# container for large datasets in python\n",
    "# generate some rdm data\n",
    "data = np.random.randn(8, 5)\n",
    "data_type = data.dtype\n",
    "print(data, data_type, data.shape)\n",
    "data2 = np.random.randn(3,2)\n",
    "print(data2, data2.dtype, data2.shape)"
   ]
  },
  {
   "cell_type": "code",
   "execution_count": 3,
   "metadata": {},
   "outputs": [
    {
     "name": "stdout",
     "output_type": "stream",
     "text": [
      "The sum of rows is:  [ 2.35880932  1.18719856 -4.78025249  4.41551822  0.17541308 -1.01003226\n",
      " -0.22943677  0.30418702] \n",
      "The sum of columns is:  [ 3.07273547 -1.45225823 -0.45312943 -3.37094866  4.62500553]\n"
     ]
    }
   ],
   "source": [
    "# aggregation functions\n",
    "# sum by axis\n",
    "sum_data_rows = np.sum(data, axis=1)\n",
    "sum_data_columns =np.sum(data, axis=0)\n",
    "print('The sum of rows is: ', sum_data_rows, '\\nThe sum of columns is: ', sum_data_columns)"
   ]
  },
  {
   "cell_type": "code",
   "execution_count": 4,
   "metadata": {},
   "outputs": [
    {
     "name": "stdout",
     "output_type": "stream",
     "text": [
      "The shape of data is:  (8, 5) \n",
      "The dimension of data is:  2 \n",
      "The data type of data is:  float64 \n",
      "The size of data is:  40\n"
     ]
    }
   ],
   "source": [
    "# array attributes\n",
    "\n",
    "print('The shape of data is: ', data.shape, '\\nThe dimension of data is: ', data.ndim, '\\nThe data type of data is: ', data.dtype, '\\nThe size of data is: ', data.size)\t"
   ]
  },
  {
   "cell_type": "code",
   "execution_count": null,
   "metadata": {},
   "outputs": [],
   "source": []
  }
 ],
 "metadata": {
  "kernelspec": {
   "display_name": "Python 3",
   "language": "python",
   "name": "python3"
  },
  "language_info": {
   "codemirror_mode": {
    "name": "ipython",
    "version": 3
   },
   "file_extension": ".py",
   "mimetype": "text/x-python",
   "name": "python",
   "nbconvert_exporter": "python",
   "pygments_lexer": "ipython3",
   "version": "3.11.1"
  },
  "orig_nbformat": 4
 },
 "nbformat": 4,
 "nbformat_minor": 2
}
