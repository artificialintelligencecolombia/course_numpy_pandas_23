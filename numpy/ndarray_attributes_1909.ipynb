{
 "cells": [
  {
   "cell_type": "code",
   "execution_count": 2,
   "metadata": {},
   "outputs": [],
   "source": [
    "import numpy as np"
   ]
  },
  {
   "cell_type": "code",
   "execution_count": 3,
   "metadata": {},
   "outputs": [],
   "source": [
    "# ndarray is a n dimensional array object, fast and flexible\n",
    "# container for large datasets in python"
   ]
  },
  {
   "cell_type": "code",
   "execution_count": 5,
   "metadata": {},
   "outputs": [
    {
     "name": "stdout",
     "output_type": "stream",
     "text": [
      "[[ 1.47798435  0.22514913  0.83094859 -0.77236277  1.09185864]\n",
      " [ 0.51890626  0.25208897 -0.09320131 -0.69349717 -0.10750955]\n",
      " [-1.15917408 -0.33671497 -0.03291107  0.10422989  0.08135207]\n",
      " [ 0.33348565  0.43312899  0.01269136  0.25572726 -2.04327534]\n",
      " [-1.24382227  0.85168954  0.07608358 -0.44577527 -0.71765641]\n",
      " [ 0.88258634  1.15947357 -1.06775028 -1.2815916   0.5132379 ]\n",
      " [-0.1584694   0.31542889  0.96190148  1.11826483  0.35076543]\n",
      " [ 0.0937093   0.46483266  0.9128175   0.31505915  0.42521423]] float64\n"
     ]
    }
   ],
   "source": [
    "# generate some rdm data\n",
    "data = np.random.randn(8, 5)\n",
    "data_type = data.dtype\n",
    "print(data, data_type)"
   ]
  },
  {
   "cell_type": "code",
   "execution_count": 8,
   "metadata": {},
   "outputs": [
    {
     "name": "stdout",
     "output_type": "stream",
     "text": [
      "The sum of rows is:  [ 2.85357794 -0.12321279 -1.34321816 -1.00824209 -1.47948083  0.20595593\n",
      "  2.58789123  2.21163285] \n",
      "The sum of columns is:  [ 0.74520616  3.36507679  1.60057985 -1.39994568 -0.40601304]\n"
     ]
    }
   ],
   "source": [
    "# aggregation functions\n",
    "# sum by axis\n",
    "sum_data_rows = np.sum(data, axis=1)\n",
    "sum_data_columns =np.sum(data, axis=0)\n",
    "print('The sum of rows is: ', sum_data_rows, '\\nThe sum of columns is: ', sum_data_columns)"
   ]
  },
  {
   "cell_type": "code",
   "execution_count": 10,
   "metadata": {},
   "outputs": [
    {
     "name": "stdout",
     "output_type": "stream",
     "text": [
      "The shape of data is:  (8, 5) \n",
      "The dimension of data is:  2 \n",
      "The data type of data is:  float64 \n",
      "The size of data is:  40\n"
     ]
    }
   ],
   "source": [
    "# array attributes\n",
    "\n",
    "print('The shape of data is: ', data.shape, '\\nThe dimension of data is: ', data.ndim, '\\nThe data type of data is: ', data.dtype, '\\nThe size of data is: ', data.size)\t"
   ]
  },
  {
   "cell_type": "code",
   "execution_count": null,
   "metadata": {},
   "outputs": [],
   "source": []
  }
 ],
 "metadata": {
  "kernelspec": {
   "display_name": "Python 3",
   "language": "python",
   "name": "python3"
  },
  "language_info": {
   "codemirror_mode": {
    "name": "ipython",
    "version": 3
   },
   "file_extension": ".py",
   "mimetype": "text/x-python",
   "name": "python",
   "nbconvert_exporter": "python",
   "pygments_lexer": "ipython3",
   "version": "3.11.1"
  },
  "orig_nbformat": 4
 },
 "nbformat": 4,
 "nbformat_minor": 2
}
