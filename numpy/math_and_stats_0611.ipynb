{
 "cells": [
  {
   "cell_type": "code",
   "execution_count": 1,
   "metadata": {},
   "outputs": [],
   "source": [
    "import numpy as np"
   ]
  },
  {
   "cell_type": "code",
   "execution_count": 2,
   "metadata": {},
   "outputs": [
    {
     "name": "stdout",
     "output_type": "stream",
     "text": [
      "[[-80 -78 -54 -38  -9   2   7  50  80  94]\n",
      " [-90 -90 -71 -57 -18  -9  51  55  56  87]\n",
      " [-71 -68 -59 -38   0   9  15  25  64  75]\n",
      " [-96 -56 -48 -45 -33 -24 -20 -15  -6  83]\n",
      " [-96 -75 -63  -6  -3  24  61  67  94  96]\n",
      " [-84 -76 -62 -30 -27 -14 -13   2  76  85]\n",
      " [-68 -45 -32 -19 -16  44  68  73  73  92]\n",
      " [-70 -48 -44  11  39  46  51  71  90  99]\n",
      " [-98 -94 -83 -82 -80 -58  -4   6  39  88]\n",
      " [-92 -64 -61 -51 -49 -44  14  20  44  95]\n",
      " [-77 -44 -28 -14  -8  21  28  68  82  83]\n",
      " [-77 -72 -36 -22 -12 -11  -3  -2   2  37]\n",
      " [-91 -87 -83 -83 -39  22  26  63  72  91]]\n"
     ]
    }
   ],
   "source": [
    "# sorting matrix elements\n",
    "\n",
    "matrix = np.random.randint(-100, 100, size=(13, 10))\n",
    "# print(matrix)\n",
    "matrix.sort(axis=1)\n",
    "# parameters: axis=1 for horizontal sorting, axis=2 for vertical sorting\n",
    "print(matrix)"
   ]
  },
  {
   "cell_type": "code",
   "execution_count": 5,
   "metadata": {},
   "outputs": [],
   "source": [
    "# extract the percentiles\n",
    "# in a sorted list, if 0 is initial value and 100 is final value\n",
    "# percentiles are were the values are divided in 100 parts\n",
    "percentiles = [0, 25, 50, 75, 100]\n",
    "\n",
    "# percentile 50 is the median"
   ]
  },
  {
   "cell_type": "code",
   "execution_count": 8,
   "metadata": {},
   "outputs": [
    {
     "name": "stdout",
     "output_type": "stream",
     "text": [
      "Percentile 50: \n",
      " [ 10.  -45.  -37.5 -10.  -21.   -8.   -1.  -13.5  35.5  -5.5  19.  -78.\n",
      "  -7.5] \n",
      "index: \n",
      "\n"
     ]
    }
   ],
   "source": [
    "# note: you must take into account that the percentile is a value, not\n",
    "# a position in the list nor a value in the list (ITS POSSIBLE IT\n",
    "# DOESN'T APPEAR ON THE LIST)\n",
    "percentile_50_matrix_as_array = np.percentile(matrix, percentiles[2], axis=1)\n",
    "print('Percentile 50: \\n',percentile_50_matrix_as_array,'\\nindex: \\n')"
   ]
  },
  {
   "cell_type": "code",
   "execution_count": 10,
   "metadata": {},
   "outputs": [
    {
     "name": "stdout",
     "output_type": "stream",
     "text": [
      "percentile 50 is [ 10.  -45.  -37.5 -10.  -21.   -8.   -1.  -13.5  35.5  -5.5  19.  -78.\n",
      "  -7.5]\n",
      "percentile 75 is [ 21.   -35.75  30.    21.5   44.5   75.75  48.75  55.25  83.75  60.25\n",
      "  25.5  -15.75  68.25]\n"
     ]
    }
   ],
   "source": [
    "for p in percentiles[2:4]:\n",
    "    values = np.percentile(matrix, p, axis=1)\n",
    "    print(f'percentile {p} is {values}')"
   ]
  },
  {
   "cell_type": "code",
   "execution_count": 11,
   "metadata": {},
   "outputs": [
    {
     "data": {
      "text/plain": [
       "array([74, 51, 96, 75, 26,  4, 83, 89, 46, 93, 77, 73, 40, 78, 63,  1, 53,\n",
       "       23, 79, 16, 93,  9, 55, 39, 54, 21, 29, 39, 83, 10, 77,  8, 31, 41,\n",
       "       77, 86, 51, 94, 10, 90,  7, 34, 34, 45, 37, 61, 25,  5, 73, 45,  3,\n",
       "       59, 77, 65, 27, 91, 63, 69, 17, 24, 40, 78, 14, 97, 26, 77, 38, 36,\n",
       "       99, 85, 65,  3, 96,  6, 49, 95, 15, 98, 63, 71, 98, 45, 66, 25,  9,\n",
       "       92, 55, 50, 45, 16,  5, 71, 14, 24, 45, 89, 54,  8, 96, 94,  3,  9,\n",
       "       28, 89, 73, 39, 19, 34, 13, 94, 37, 62, 17,  9, 52, 21,  5,  6, 67,\n",
       "       59])"
      ]
     },
     "execution_count": 11,
     "metadata": {},
     "output_type": "execute_result"
    }
   ],
   "source": [
    "arr1 = np.random.randint(1, 100, size=120)\n",
    "arr1"
   ]
  },
  {
   "cell_type": "code",
   "execution_count": 40,
   "metadata": {},
   "outputs": [
    {
     "name": "stdout",
     "output_type": "stream",
     "text": [
      "Average:  48.0\n",
      "Median:  47.5\n",
      "Std:  29.785063370756827\n",
      "Variance:  887.15\n"
     ]
    }
   ],
   "source": [
    "# std is the std deviation, sqrt of variance. Avg distance between each\n",
    "# value and the mean\n",
    "# mean is the average of the values\n",
    "# median is the value in the middle of the values\n",
    "st1 = np.std(arr1)\n",
    "median1 = np.median(arr1)\n",
    "average1 = np.mean(arr1)\n",
    "variance1 = np.var(arr1)\n",
    "print('Average: ', average1) \n",
    "print('Median: ', median1)\n",
    "print('Std: ', st1)\n",
    "print('Variance: ', variance1)"
   ]
  },
  {
   "cell_type": "code",
   "execution_count": 6,
   "metadata": {},
   "outputs": [
    {
     "name": "stdout",
     "output_type": "stream",
     "text": [
      "original array: \n",
      " [[-0.77880313 -0.03151908  1.29721593 -0.09556712]\n",
      " [-0.54949588  0.84895931 -0.25533914 -1.82405139]\n",
      " [-0.30944111  1.55551549 -1.59469967  1.79884314]\n",
      " [-1.58576786 -1.07667957  0.24815972  0.19217402]\n",
      " [ 1.24919259 -0.09221629 -1.43840096  0.50109968]\n",
      " [ 0.12434079  1.2943004  -1.21820207 -0.68303413]]\n",
      "mean:  -0.10097567961654073\n",
      "sum:  -2.4234163107969775\n"
     ]
    }
   ],
   "source": [
    "#statistics\n",
    "arr2 = np.random.randn(6,4)\n",
    "print('original array: \\n', arr2)\n",
    "print('mean: ', arr2.mean())\n",
    "print('sum: ', arr2.sum())"
   ]
  },
  {
   "cell_type": "code",
   "execution_count": null,
   "metadata": {},
   "outputs": [],
   "source": []
  }
 ],
 "metadata": {
  "kernelspec": {
   "display_name": "Python 3",
   "language": "python",
   "name": "python3"
  },
  "language_info": {
   "codemirror_mode": {
    "name": "ipython",
    "version": 3
   },
   "file_extension": ".py",
   "mimetype": "text/x-python",
   "name": "python",
   "nbconvert_exporter": "python",
   "pygments_lexer": "ipython3",
   "version": "3.11.1"
  },
  "orig_nbformat": 4
 },
 "nbformat": 4,
 "nbformat_minor": 2
}
