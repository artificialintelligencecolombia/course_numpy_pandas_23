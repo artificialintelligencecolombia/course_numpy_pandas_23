{
 "cells": [
  {
   "cell_type": "code",
   "execution_count": 1,
   "metadata": {},
   "outputs": [],
   "source": [
    "import numpy as np"
   ]
  },
  {
   "cell_type": "code",
   "execution_count": null,
   "metadata": {},
   "outputs": [],
   "source": [
    "# matrix creation\n",
    "\n",
    "matrix1 = np.linspace(1, 10, 100, dtype=float).reshape(10, 10)\n",
    "matrix1"
   ]
  },
  {
   "cell_type": "code",
   "execution_count": null,
   "metadata": {},
   "outputs": [],
   "source": [
    "# print bool matrix with condition\n",
    "bool_matrix = matrix1 > 5\n",
    "bool_matrix"
   ]
  },
  {
   "cell_type": "code",
   "execution_count": null,
   "metadata": {},
   "outputs": [],
   "source": [
    "# conditions doesnt change the original matrix\n",
    "matrix1"
   ]
  },
  {
   "cell_type": "code",
   "execution_count": null,
   "metadata": {},
   "outputs": [],
   "source": [
    "bool_matrix_and = (matrix1 > 2) & (matrix1 < 8)\n",
    "bool_matrix_and"
   ]
  },
  {
   "cell_type": "code",
   "execution_count": null,
   "metadata": {},
   "outputs": [],
   "source": [
    "arr2 = np.random.randint(-10, 10, size=(10,10))\n",
    "arr2"
   ]
  },
  {
   "cell_type": "code",
   "execution_count": null,
   "metadata": {},
   "outputs": [],
   "source": [
    "# catching if there are negaticve values\n",
    "bool_neg_arr2 = arr2 < 0\n",
    "print(bool_neg_arr2)"
   ]
  },
  {
   "cell_type": "code",
   "execution_count": null,
   "metadata": {},
   "outputs": [],
   "source": [
    "bool_neg_arr2[0:25]\n",
    "bool_neg_arr2"
   ]
  },
  {
   "cell_type": "code",
   "execution_count": 6,
   "metadata": {},
   "outputs": [
    {
     "name": "stdout",
     "output_type": "stream",
     "text": [
      "[[ -2  -7  -8   3   3  -8   0   0   4  -7]\n",
      " [ -3   3  -5  -6  10  -2   3   1   9   7]\n",
      " [  4   9   2  -5 -10   9  10  -1   3  -8]\n",
      " [ -7   2  -7  -5   3   2  -7  -2   8  -3]\n",
      " [  8  -2 -10   8   1  -5 -10  -2  -2   7]\n",
      " [ -1  -8   4   1   8   0  -4  -2  -5  -8]\n",
      " [  6  -2  -4  -1   6  -3  -5   1  -1   2]\n",
      " [-10   3  -8   9   0  10  -1   4 -10   4]\n",
      " [ -6  -9   0  -2   7  -3  -5   1  10   8]\n",
      " [  5   1  -1   7   4  -2  -3  -5   5   6]]\n",
      "[[-0.5        -0.14285714 -0.125       0.33333333  0.33333333 -0.125\n",
      "          inf         inf  0.25       -0.14285714]\n",
      " [-0.33333333  0.33333333 -0.2        -0.16666667  0.1        -0.5\n",
      "   0.33333333  1.          0.11111111  0.14285714]\n",
      " [ 0.25        0.11111111  0.5        -0.2        -0.1         0.11111111\n",
      "   0.1        -1.          0.33333333 -0.125     ]\n",
      " [-0.14285714  0.5        -0.14285714 -0.2         0.33333333  0.5\n",
      "  -0.14285714 -0.5         0.125      -0.33333333]\n",
      " [ 0.125      -0.5        -0.1         0.125       1.         -0.2\n",
      "  -0.1        -0.5        -0.5         0.14285714]\n",
      " [-1.         -0.125       0.25        1.          0.125              inf\n",
      "  -0.25       -0.5        -0.2        -0.125     ]\n",
      " [ 0.16666667 -0.5        -0.25       -1.          0.16666667 -0.33333333\n",
      "  -0.2         1.         -1.          0.5       ]\n",
      " [-0.1         0.33333333 -0.125       0.11111111         inf  0.1\n",
      "  -1.          0.25       -0.1         0.25      ]\n",
      " [-0.16666667 -0.11111111         inf -0.5         0.14285714 -0.33333333\n",
      "  -0.2         1.          0.1         0.125     ]\n",
      " [ 0.2         1.         -1.          0.14285714  0.25       -0.5\n",
      "  -0.33333333 -0.2         0.2         0.16666667]]\n"
     ]
    },
    {
     "name": "stderr",
     "output_type": "stream",
     "text": [
      "C:\\Users\\damal\\AppData\\Local\\Temp\\ipykernel_6740\\820668895.py:4: RuntimeWarning: divide by zero encountered in divide\n",
      "  divided_by_zero = 1 / matrix2\n"
     ]
    }
   ],
   "source": [
    "# division by zero\n",
    "matrix2 = np.random.randint(-10, 10+1, size=(10,10))\n",
    "print(matrix2)\n",
    "\n",
    "# here we execute the opperation for the matrix elements\n",
    "divided_by_zero = 1 / matrix2\n",
    "print(divided_by_zero)\n",
    "# those values who are 1 / 0 are inf"
   ]
  },
  {
   "cell_type": "code",
   "execution_count": null,
   "metadata": {},
   "outputs": [],
   "source": []
  }
 ],
 "metadata": {
  "kernelspec": {
   "display_name": "Python 3",
   "language": "python",
   "name": "python3"
  },
  "language_info": {
   "codemirror_mode": {
    "name": "ipython",
    "version": 3
   },
   "file_extension": ".py",
   "mimetype": "text/x-python",
   "name": "python",
   "nbconvert_exporter": "python",
   "pygments_lexer": "ipython3",
   "version": "3.11.1"
  },
  "orig_nbformat": 4
 },
 "nbformat": 4,
 "nbformat_minor": 2
}
