{
 "cells": [
  {
   "cell_type": "code",
   "execution_count": 2,
   "metadata": {},
   "outputs": [],
   "source": [
    "import numpy as np"
   ]
  },
  {
   "cell_type": "code",
   "execution_count": 4,
   "metadata": {},
   "outputs": [
    {
     "name": "stdout",
     "output_type": "stream",
     "text": [
      "matrix1: \n",
      " [[ 1.   1.1  1.2  1.3  1.4  1.5  1.5  1.6  1.7  1.8]\n",
      " [ 1.9  2.   2.1  2.2  2.3  2.4  2.5  2.5  2.6  2.7]\n",
      " [ 2.8  2.9  3.   3.1  3.2  3.3  3.4  3.5  3.5  3.6]\n",
      " [ 3.7  3.8  3.9  4.   4.1  4.2  4.3  4.4  4.5  4.5]\n",
      " [ 4.6  4.7  4.8  4.9  5.   5.1  5.2  5.3  5.4  5.5]\n",
      " [ 5.5  5.6  5.7  5.8  5.9  6.   6.1  6.2  6.3  6.4]\n",
      " [ 6.5  6.5  6.6  6.7  6.8  6.9  7.   7.1  7.2  7.3]\n",
      " [ 7.4  7.5  7.5  7.6  7.7  7.8  7.9  8.   8.1  8.2]\n",
      " [ 8.3  8.4  8.5  8.5  8.6  8.7  8.8  8.9  9.   9.1]\n",
      " [ 9.2  9.3  9.4  9.5  9.5  9.6  9.7  9.8  9.9 10. ]]\n"
     ]
    }
   ],
   "source": [
    "# matrix creation\n",
    "\n",
    "matrix1 = np.linspace(1, 10, 100, dtype=float).reshape(10, 10).round(1)\n",
    "print('matrix1: \\n', matrix1)"
   ]
  },
  {
   "cell_type": "code",
   "execution_count": 5,
   "metadata": {},
   "outputs": [
    {
     "data": {
      "text/plain": [
       "array([[False, False, False, False, False, False, False, False, False,\n",
       "        False],\n",
       "       [False, False, False, False, False, False, False, False, False,\n",
       "        False],\n",
       "       [False, False, False, False, False, False, False, False, False,\n",
       "        False],\n",
       "       [False, False, False, False, False, False, False, False, False,\n",
       "        False],\n",
       "       [False, False, False, False, False,  True,  True,  True,  True,\n",
       "         True],\n",
       "       [ True,  True,  True,  True,  True,  True,  True,  True,  True,\n",
       "         True],\n",
       "       [ True,  True,  True,  True,  True,  True,  True,  True,  True,\n",
       "         True],\n",
       "       [ True,  True,  True,  True,  True,  True,  True,  True,  True,\n",
       "         True],\n",
       "       [ True,  True,  True,  True,  True,  True,  True,  True,  True,\n",
       "         True],\n",
       "       [ True,  True,  True,  True,  True,  True,  True,  True,  True,\n",
       "         True]])"
      ]
     },
     "execution_count": 5,
     "metadata": {},
     "output_type": "execute_result"
    }
   ],
   "source": [
    "# print bool matrix with condition\n",
    "bool_matrix = matrix1 > 5\n",
    "bool_matrix"
   ]
  },
  {
   "cell_type": "code",
   "execution_count": 6,
   "metadata": {},
   "outputs": [
    {
     "data": {
      "text/plain": [
       "array([[ 1. ,  1.1,  1.2,  1.3,  1.4,  1.5,  1.5,  1.6,  1.7,  1.8],\n",
       "       [ 1.9,  2. ,  2.1,  2.2,  2.3,  2.4,  2.5,  2.5,  2.6,  2.7],\n",
       "       [ 2.8,  2.9,  3. ,  3.1,  3.2,  3.3,  3.4,  3.5,  3.5,  3.6],\n",
       "       [ 3.7,  3.8,  3.9,  4. ,  4.1,  4.2,  4.3,  4.4,  4.5,  4.5],\n",
       "       [ 4.6,  4.7,  4.8,  4.9,  5. ,  5.1,  5.2,  5.3,  5.4,  5.5],\n",
       "       [ 5.5,  5.6,  5.7,  5.8,  5.9,  6. ,  6.1,  6.2,  6.3,  6.4],\n",
       "       [ 6.5,  6.5,  6.6,  6.7,  6.8,  6.9,  7. ,  7.1,  7.2,  7.3],\n",
       "       [ 7.4,  7.5,  7.5,  7.6,  7.7,  7.8,  7.9,  8. ,  8.1,  8.2],\n",
       "       [ 8.3,  8.4,  8.5,  8.5,  8.6,  8.7,  8.8,  8.9,  9. ,  9.1],\n",
       "       [ 9.2,  9.3,  9.4,  9.5,  9.5,  9.6,  9.7,  9.8,  9.9, 10. ]])"
      ]
     },
     "execution_count": 6,
     "metadata": {},
     "output_type": "execute_result"
    }
   ],
   "source": [
    "# conditions doesnt change the original matrix\n",
    "matrix1"
   ]
  },
  {
   "cell_type": "code",
   "execution_count": 8,
   "metadata": {},
   "outputs": [
    {
     "data": {
      "text/plain": [
       "array([[False, False, False, False, False, False, False, False, False,\n",
       "        False],\n",
       "       [False, False,  True,  True,  True,  True,  True,  True,  True,\n",
       "         True],\n",
       "       [ True,  True,  True,  True,  True,  True,  True,  True,  True,\n",
       "         True],\n",
       "       [ True,  True,  True,  True,  True,  True,  True,  True,  True,\n",
       "         True],\n",
       "       [ True,  True,  True,  True,  True,  True,  True,  True,  True,\n",
       "         True],\n",
       "       [ True,  True,  True,  True,  True,  True,  True,  True,  True,\n",
       "         True],\n",
       "       [ True,  True,  True,  True,  True,  True,  True,  True,  True,\n",
       "         True],\n",
       "       [ True,  True,  True,  True,  True,  True,  True, False, False,\n",
       "        False],\n",
       "       [False, False, False, False, False, False, False, False, False,\n",
       "        False],\n",
       "       [False, False, False, False, False, False, False, False, False,\n",
       "        False]])"
      ]
     },
     "execution_count": 8,
     "metadata": {},
     "output_type": "execute_result"
    }
   ],
   "source": [
    "bool_matrix_and = (matrix1 > 2) & (matrix1 < 8)\n",
    "bool_matrix_and"
   ]
  },
  {
   "cell_type": "code",
   "execution_count": 9,
   "metadata": {},
   "outputs": [
    {
     "data": {
      "text/plain": [
       "array([[ -6,   2, -10,  -2,   6,   6,   4,   8,  -7,   4],\n",
       "       [ -6,   0,  -3,   4,   1,  -6,  -2,  -4,   2,  -6],\n",
       "       [  2,   6,   2, -10,  -4,  -4,   8,   6,   9,   6],\n",
       "       [ -3,  -4,  -6, -10,   6,  -5,  -6,   5,   5,  -9],\n",
       "       [ -6,  -7,  -3,   1,  -5,  -8, -10,  -2,   2, -10],\n",
       "       [ -1,   0,  -3,   8,  -1,   0,   4,  -2, -10,  -8],\n",
       "       [ -9,  -4,   3,   4,   8,   0,   2,   3, -10,  -5],\n",
       "       [-10,  -3,   1, -10,   6, -10,  -5,   1,  -3,   1],\n",
       "       [  7,   8,   3,  -3,   8,   3,   3,   8,  -3,  -9],\n",
       "       [  2,  -7,   4,   7,   1,  -4,   9,  -9, -10,   2]])"
      ]
     },
     "execution_count": 9,
     "metadata": {},
     "output_type": "execute_result"
    }
   ],
   "source": [
    "arr2 = np.random.randint(-10, 10, size=(10,10))\n",
    "arr2"
   ]
  },
  {
   "cell_type": "code",
   "execution_count": 10,
   "metadata": {},
   "outputs": [
    {
     "name": "stdout",
     "output_type": "stream",
     "text": [
      "[[ True False  True  True False False False False  True False]\n",
      " [ True False  True False False  True  True  True False  True]\n",
      " [False False False  True  True  True False False False False]\n",
      " [ True  True  True  True False  True  True False False  True]\n",
      " [ True  True  True False  True  True  True  True False  True]\n",
      " [ True False  True False  True False False  True  True  True]\n",
      " [ True  True False False False False False False  True  True]\n",
      " [ True  True False  True False  True  True False  True False]\n",
      " [False False False  True False False False False  True  True]\n",
      " [False  True False False False  True False  True  True False]]\n"
     ]
    }
   ],
   "source": [
    "# catching if there are negaticve values\n",
    "bool_neg_arr2 = arr2 < 0\n",
    "print(bool_neg_arr2)"
   ]
  },
  {
   "cell_type": "code",
   "execution_count": 11,
   "metadata": {},
   "outputs": [
    {
     "data": {
      "text/plain": [
       "array([[ True, False,  True,  True, False, False, False, False,  True,\n",
       "        False],\n",
       "       [ True, False,  True, False, False,  True,  True,  True, False,\n",
       "         True],\n",
       "       [False, False, False,  True,  True,  True, False, False, False,\n",
       "        False],\n",
       "       [ True,  True,  True,  True, False,  True,  True, False, False,\n",
       "         True],\n",
       "       [ True,  True,  True, False,  True,  True,  True,  True, False,\n",
       "         True],\n",
       "       [ True, False,  True, False,  True, False, False,  True,  True,\n",
       "         True],\n",
       "       [ True,  True, False, False, False, False, False, False,  True,\n",
       "         True],\n",
       "       [ True,  True, False,  True, False,  True,  True, False,  True,\n",
       "        False],\n",
       "       [False, False, False,  True, False, False, False, False,  True,\n",
       "         True],\n",
       "       [False,  True, False, False, False,  True, False,  True,  True,\n",
       "        False]])"
      ]
     },
     "execution_count": 11,
     "metadata": {},
     "output_type": "execute_result"
    }
   ],
   "source": [
    "bool_neg_arr2[0:25]\n",
    "bool_neg_arr2"
   ]
  },
  {
   "cell_type": "code",
   "execution_count": 14,
   "metadata": {},
   "outputs": [
    {
     "name": "stdout",
     "output_type": "stream",
     "text": [
      "matrix2: \n",
      " [[  8   6  -4   9   2  -4   8  10   3  -9]\n",
      " [ -6 -10  -1   5  -5  -3   8   1  10  -5]\n",
      " [  9   9  -2   7   8   2   4  -8   3  -3]\n",
      " [  3  -7  -7  -6  -2  -2   6  -9  -4  -3]\n",
      " [  6  -8   9   8   9   9   3   0  -6  -7]\n",
      " [ -4 -10 -10   1  -4  -5  -4  -3   3   1]\n",
      " [ -7  -5  -4   3  -8   2   8   5   9  -9]\n",
      " [  6   3   0  -2   5  -6  -5  -9   5   3]\n",
      " [ -8  -4   9   6   9   8   7  -5   1  -4]\n",
      " [  2   6   7   4   4  10  -7  -8  -9  -3]]\n",
      "1/matrix2: \n",
      " [[ 0.12  0.17 -0.25  0.11  0.5  -0.25  0.12  0.1   0.33 -0.11]\n",
      " [-0.17 -0.1  -1.    0.2  -0.2  -0.33  0.12  1.    0.1  -0.2 ]\n",
      " [ 0.11  0.11 -0.5   0.14  0.12  0.5   0.25 -0.12  0.33 -0.33]\n",
      " [ 0.33 -0.14 -0.14 -0.17 -0.5  -0.5   0.17 -0.11 -0.25 -0.33]\n",
      " [ 0.17 -0.12  0.11  0.12  0.11  0.11  0.33   inf -0.17 -0.14]\n",
      " [-0.25 -0.1  -0.1   1.   -0.25 -0.2  -0.25 -0.33  0.33  1.  ]\n",
      " [-0.14 -0.2  -0.25  0.33 -0.12  0.5   0.12  0.2   0.11 -0.11]\n",
      " [ 0.17  0.33   inf -0.5   0.2  -0.17 -0.2  -0.11  0.2   0.33]\n",
      " [-0.12 -0.25  0.11  0.17  0.11  0.12  0.14 -0.2   1.   -0.25]\n",
      " [ 0.5   0.17  0.14  0.25  0.25  0.1  -0.14 -0.12 -0.11 -0.33]]\n"
     ]
    },
    {
     "name": "stderr",
     "output_type": "stream",
     "text": [
      "C:\\Users\\damal\\AppData\\Local\\Temp\\ipykernel_4060\\2252910985.py:6: RuntimeWarning: divide by zero encountered in divide\n",
      "  one_divided_matrix = (1 / matrix2).round(2)\n"
     ]
    }
   ],
   "source": [
    "# division by zero\n",
    "matrix2 = np.random.randint(-10, 10+1, size=(10,10))\n",
    "print('matrix2: \\n',matrix2)\n",
    "\n",
    "# here we execute the opperation for the matrix elements\n",
    "one_divided_matrix = (1 / matrix2).round(2)\n",
    "print('1/matrix2: \\n', one_divided_matrix)\n",
    "# those values who are 1 / 0 are inf"
   ]
  },
  {
   "cell_type": "code",
   "execution_count": null,
   "metadata": {},
   "outputs": [],
   "source": []
  }
 ],
 "metadata": {
  "kernelspec": {
   "display_name": "Python 3",
   "language": "python",
   "name": "python3"
  },
  "language_info": {
   "codemirror_mode": {
    "name": "ipython",
    "version": 3
   },
   "file_extension": ".py",
   "mimetype": "text/x-python",
   "name": "python",
   "nbconvert_exporter": "python",
   "pygments_lexer": "ipython3",
   "version": "3.11.1"
  },
  "orig_nbformat": 4
 },
 "nbformat": 4,
 "nbformat_minor": 2
}
