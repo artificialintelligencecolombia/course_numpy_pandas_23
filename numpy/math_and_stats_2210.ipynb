{
 "cells": [
  {
   "cell_type": "code",
   "execution_count": 1,
   "metadata": {},
   "outputs": [],
   "source": [
    "import numpy as np"
   ]
  },
  {
   "cell_type": "code",
   "execution_count": 4,
   "metadata": {},
   "outputs": [
    {
     "name": "stdout",
     "output_type": "stream",
     "text": [
      "[[ -46  -35   -1    4    5   15   18   22   24   26]\n",
      " [ -74  -59  -56  -53  -51  -39  -38  -35  -22   13]\n",
      " [ -84  -78  -77  -72  -39  -36   -3   41   73   85]\n",
      " [ -86  -73  -52  -17  -16   -4   20   22   60   86]\n",
      " [ -69  -65  -32  -30  -22  -20   43   45   61   74]\n",
      " [ -66  -58  -35  -21  -13   -3   45   86   91   93]\n",
      " [ -97  -73  -39  -28  -12   10   30   55   83   99]\n",
      " [ -31  -28  -21  -15  -14  -13   44   59   64   97]\n",
      " [ -77   -8   17   23   32   39   71   88   92   93]\n",
      " [ -98  -66  -45  -28  -24   13   16   75   79   81]\n",
      " [ -97  -67  -41   -3   15   23   24   26   66   77]\n",
      " [-100  -92  -90  -88  -80  -76  -57   -2    1   42]\n",
      " [ -90  -63  -26  -25  -23    8   66   69   73   99]]\n"
     ]
    }
   ],
   "source": [
    "# sorting matrix elements\n",
    "\n",
    "matrix = np.random.randint(-100, 100, size=(13, 10))\n",
    "# print(matrix)\n",
    "matrix.sort(axis=1)\n",
    "# parameters: axis=1 for horizontal sorting, axis=2 for vertical sorting\n",
    "print(matrix)"
   ]
  },
  {
   "cell_type": "code",
   "execution_count": 5,
   "metadata": {},
   "outputs": [],
   "source": [
    "# extract the percentiles\n",
    "# in a sorted list, if 0 is initial value and 100 is final value\n",
    "# percentiles are were the values are divided in 100 parts\n",
    "percentiles = [0, 25, 50, 75, 100]\n",
    "\n",
    "# percentile 50 is the median"
   ]
  },
  {
   "cell_type": "code",
   "execution_count": 8,
   "metadata": {},
   "outputs": [
    {
     "name": "stdout",
     "output_type": "stream",
     "text": [
      "Percentile 50: \n",
      " [ 10.  -45.  -37.5 -10.  -21.   -8.   -1.  -13.5  35.5  -5.5  19.  -78.\n",
      "  -7.5] \n",
      "index: \n",
      "\n"
     ]
    }
   ],
   "source": [
    "# note: you must take into account that the percentile is a value, not\n",
    "# a position in the list nor a value in the list (ITS POSSIBLE IT\n",
    "# DOESN'T APPEAR ON THE LIST)\n",
    "percentile_50_matrix_as_array = np.percentile(matrix, percentiles[2], axis=1)\n",
    "print('Percentile 50: \\n',percentile_50_matrix_as_array,'\\nindex: \\n')"
   ]
  },
  {
   "cell_type": "code",
   "execution_count": 10,
   "metadata": {},
   "outputs": [
    {
     "name": "stdout",
     "output_type": "stream",
     "text": [
      "percentile 50 is [ 10.  -45.  -37.5 -10.  -21.   -8.   -1.  -13.5  35.5  -5.5  19.  -78.\n",
      "  -7.5]\n",
      "percentile 75 is [ 21.   -35.75  30.    21.5   44.5   75.75  48.75  55.25  83.75  60.25\n",
      "  25.5  -15.75  68.25]\n"
     ]
    }
   ],
   "source": [
    "for p in percentiles[2:4]:\n",
    "    values = np.percentile(matrix, p, axis=1)\n",
    "    print(f'percentile {p} is {values}')"
   ]
  },
  {
   "cell_type": "code",
   "execution_count": 11,
   "metadata": {},
   "outputs": [
    {
     "data": {
      "text/plain": [
       "array([74, 51, 96, 75, 26,  4, 83, 89, 46, 93, 77, 73, 40, 78, 63,  1, 53,\n",
       "       23, 79, 16, 93,  9, 55, 39, 54, 21, 29, 39, 83, 10, 77,  8, 31, 41,\n",
       "       77, 86, 51, 94, 10, 90,  7, 34, 34, 45, 37, 61, 25,  5, 73, 45,  3,\n",
       "       59, 77, 65, 27, 91, 63, 69, 17, 24, 40, 78, 14, 97, 26, 77, 38, 36,\n",
       "       99, 85, 65,  3, 96,  6, 49, 95, 15, 98, 63, 71, 98, 45, 66, 25,  9,\n",
       "       92, 55, 50, 45, 16,  5, 71, 14, 24, 45, 89, 54,  8, 96, 94,  3,  9,\n",
       "       28, 89, 73, 39, 19, 34, 13, 94, 37, 62, 17,  9, 52, 21,  5,  6, 67,\n",
       "       59])"
      ]
     },
     "execution_count": 11,
     "metadata": {},
     "output_type": "execute_result"
    }
   ],
   "source": [
    "arr1 = np.random.randint(1, 100, size=120)\n",
    "arr1"
   ]
  },
  {
   "cell_type": "code",
   "execution_count": 40,
   "metadata": {},
   "outputs": [
    {
     "name": "stdout",
     "output_type": "stream",
     "text": [
      "Average:  48.0\n",
      "Median:  47.5\n",
      "Std:  29.785063370756827\n",
      "Variance:  887.15\n"
     ]
    }
   ],
   "source": [
    "# std is the std deviation, sqrt of variance. Avg distance between each\n",
    "# value and the mean\n",
    "# mean is the average of the values\n",
    "# median is the value in the middle of the values\n",
    "st1 = np.std(arr1)\n",
    "median1 = np.median(arr1)\n",
    "average1 = np.mean(arr1)\n",
    "variance1 = np.var(arr1)\n",
    "print('Average: ', average1) \n",
    "print('Median: ', median1)\n",
    "print('Std: ', st1)\n",
    "print('Variance: ', variance1)"
   ]
  },
  {
   "cell_type": "code",
   "execution_count": 6,
   "metadata": {},
   "outputs": [
    {
     "name": "stdout",
     "output_type": "stream",
     "text": [
      "original array: \n",
      " [[-0.77880313 -0.03151908  1.29721593 -0.09556712]\n",
      " [-0.54949588  0.84895931 -0.25533914 -1.82405139]\n",
      " [-0.30944111  1.55551549 -1.59469967  1.79884314]\n",
      " [-1.58576786 -1.07667957  0.24815972  0.19217402]\n",
      " [ 1.24919259 -0.09221629 -1.43840096  0.50109968]\n",
      " [ 0.12434079  1.2943004  -1.21820207 -0.68303413]]\n",
      "mean:  -0.10097567961654073\n",
      "sum:  -2.4234163107969775\n"
     ]
    }
   ],
   "source": [
    "#statistics\n",
    "arr2 = np.random.randn(6,4)\n",
    "print('original array: \\n', arr2)\n",
    "print('mean: ', arr2.mean())\n",
    "print('sum: ', arr2.sum())"
   ]
  },
  {
   "cell_type": "code",
   "execution_count": null,
   "metadata": {},
   "outputs": [],
   "source": []
  }
 ],
 "metadata": {
  "kernelspec": {
   "display_name": "Python 3",
   "language": "python",
   "name": "python3"
  },
  "language_info": {
   "codemirror_mode": {
    "name": "ipython",
    "version": 3
   },
   "file_extension": ".py",
   "mimetype": "text/x-python",
   "name": "python",
   "nbconvert_exporter": "python",
   "pygments_lexer": "ipython3",
   "version": "3.11.1"
  },
  "orig_nbformat": 4
 },
 "nbformat": 4,
 "nbformat_minor": 2
}
