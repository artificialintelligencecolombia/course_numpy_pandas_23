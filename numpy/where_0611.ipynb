{
 "cells": [
  {
   "cell_type": "code",
   "execution_count": 1,
   "metadata": {},
   "outputs": [],
   "source": [
    "import numpy as np"
   ]
  },
  {
   "cell_type": "code",
   "execution_count": 3,
   "metadata": {},
   "outputs": [
    {
     "name": "stdout",
     "output_type": "stream",
     "text": [
      "result(prints the x values where the cond is true. if not, print y) = \n",
      " [1.  1.2 3.1 4.2 1.5 6.4]\n"
     ]
    }
   ],
   "source": [
    "# where function is a vectorized version of x if cond, else y:\n",
    "\n",
    "xarr = np.array([1.1,1.2,1.3,1.4,1.5,1.6])\n",
    "yarr = np.array([1.0,2.0,3.1,4.2,5.3,6.4])\n",
    "cond = np.array([False, True, False, False, True, False])\n",
    "\n",
    "result = np.where(cond,xarr,yarr)\n",
    "print('result(prints the x values where the cond is true. if not, print y) = \\n',result)"
   ]
  },
  {
   "cell_type": "code",
   "execution_count": 2,
   "metadata": {},
   "outputs": [
    {
     "name": "stdout",
     "output_type": "stream",
     "text": [
      "arr: \n",
      " [[-0.15068564 -1.46245175 -0.66120498 -0.24783477]\n",
      " [ 1.05585988  0.42367657 -0.11561877  0.682643  ]\n",
      " [-0.35934144 -1.24100907 -0.79863511 -0.29531294]\n",
      " [ 0.08106159 -0.47783528  1.89835251 -0.02963481]]\n"
     ]
    }
   ],
   "source": [
    "# Suppose you had a matrix of randomly generated data and you wanted\n",
    "# to replace all positive values with 2 and all negative values with \n",
    "# –2. This is very easy to do with np.where:\n",
    "\n",
    "arr = np.random.randn(4,4)\n",
    "print('arr: \\n', arr)"
   ]
  },
  {
   "cell_type": "code",
   "execution_count": 6,
   "metadata": {},
   "outputs": [
    {
     "name": "stdout",
     "output_type": "stream",
     "text": [
      "bool_arr; \n",
      " [[False False False False]\n",
      " [ True  True False  True]\n",
      " [False False False False]\n",
      " [ True False  True False]]\n"
     ]
    }
   ],
   "source": [
    "# here we defined the values that correspond to the condition\n",
    "bool_arr = arr > 0\n",
    "print('bool_arr; \\n', bool_arr)"
   ]
  },
  {
   "cell_type": "code",
   "execution_count": 7,
   "metadata": {},
   "outputs": [
    {
     "name": "stdout",
     "output_type": "stream",
     "text": [
      "[[-2 -2 -2 -2]\n",
      " [10 10 -2 10]\n",
      " [-2 -2 -2 -2]\n",
      " [10 -2 10 -2]]\n"
     ]
    }
   ],
   "source": [
    "# use of where function\n",
    "processed_arr = np.where(bool_arr,10,-2)\n",
    "print(processed_arr)"
   ]
  },
  {
   "cell_type": "code",
   "execution_count": null,
   "metadata": {},
   "outputs": [],
   "source": []
  }
 ],
 "metadata": {
  "kernelspec": {
   "display_name": "Python 3",
   "language": "python",
   "name": "python3"
  },
  "language_info": {
   "codemirror_mode": {
    "name": "ipython",
    "version": 3
   },
   "file_extension": ".py",
   "mimetype": "text/x-python",
   "name": "python",
   "nbconvert_exporter": "python",
   "pygments_lexer": "ipython3",
   "version": "3.11.1"
  }
 },
 "nbformat": 4,
 "nbformat_minor": 2
}
