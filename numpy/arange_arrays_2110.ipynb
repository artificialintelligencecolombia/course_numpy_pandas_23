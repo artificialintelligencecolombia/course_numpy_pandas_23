{
 "cells": [
  {
   "cell_type": "code",
   "execution_count": 1,
   "metadata": {},
   "outputs": [],
   "source": [
    "import numpy as np"
   ]
  },
  {
   "cell_type": "code",
   "execution_count": 8,
   "metadata": {},
   "outputs": [
    {
     "name": "stdout",
     "output_type": "stream",
     "text": [
      "my_arr: \n",
      " [ 0  1  2  3  4  5  6  7  8  9 10 11 12 13 14 15 16 17 18 19 20 21 22 23\n",
      " 24 25 26 27 28 29 30 31 32 33 34 35 36 37 38 39 40 41 42 43 44 45 46 47\n",
      " 48 49 50 51 52 53 54 55 56 57 58 59 60 61 62 63 64 65 66 67 68 69 70 71\n",
      " 72 73 74 75 76 77 78 79 80 81 82 83 84 85 86 87 88 89 90 91 92 93 94 95\n",
      " 96 97 98 99]\n",
      "arr2: \n",
      " [ 0  1  2  3  4  5  6  7  8  9 10 11 12 13 14 15 16 17 18 19 20 21 22 23\n",
      " 24 25 26 27 28 29 30 31 32 33 34 35 36 37 38 39 40 41 42 43 44 45 46 47\n",
      " 48 49 50 51 52 53 54 55 56 57 58 59 60 61 62 63 64 65]\n",
      "arr_steps: \n",
      " [  0   6  12  18  24  30  36  42  48  54  60  66  72  78  84  90  96 102\n",
      " 108 114 120 126 132 138 144 150 156 162 168 174 180 186 192 198 204 210\n",
      " 216 222 228 234 240 246 252 258 264 270 276 282 288 294 300 306 312 318\n",
      " 324 330 336 342 348 354 360 366 372 378 384 390 396 402 408 414 420 426\n",
      " 432 438 444 450 456 462 468 474 480 486 492 498 504 510 516 522 528 534\n",
      " 540 546 552 558 564 570 576 582 588 594 600 606 612 618 624 630 636 642\n",
      " 648 654 660]\n"
     ]
    }
   ],
   "source": [
    "# arange generate a sequence of numbers\n",
    "my_arr = np.arange(100)\n",
    "arr2 = np.arange(66)\n",
    "arr_steps = np.arange(0,666,6) # output: from 0 to 666 in steps \n",
    "print('my_arr: \\n',my_arr)\n",
    "print('arr2: \\n',arr2)\n",
    "print('arr_steps: \\n', arr_steps)"
   ]
  },
  {
   "cell_type": "code",
   "execution_count": 12,
   "metadata": {},
   "outputs": [
    {
     "name": "stdout",
     "output_type": "stream",
     "text": [
      "arr3: \n",
      " [ 1  2  3  4  5  6  7  8  9 10 11 12 13 14 15 16 17] \n",
      "arr4: \n",
      " [[ 2  4  6]\n",
      " [ 1  3  5]\n",
      " [ 7 11 13]]\n"
     ]
    }
   ],
   "source": [
    "# array function convert any sequence-like object and produces\n",
    "# a numpy array\n",
    "data3 = [1, 2, 3, 4, 5, 6, 7, 8, 9, 10, 11, 12, 13, 14, 15, 16, 17]\n",
    "data4 = [[2,4,6],[1,3,5],[7,11,13]]\n",
    "# data5 = [None, 1, 'Hola parce',[1,9,18],{'a':'first element', 'b':77}]\n",
    "arr3 = np.array(data3)\n",
    "arr4 = np.array(data4)\n",
    "# arr5 = np.array(data5) out: error\n",
    "print('arr3: \\n',arr3,'\\narr4: \\n',arr4)\n",
    "\n",
    "# note: a list can contain different types of elements, but when \n",
    "# converting it into a np.array, the list must contain same type of\n",
    "# elements, for efficiency."
   ]
  },
  {
   "cell_type": "code",
   "execution_count": null,
   "metadata": {},
   "outputs": [],
   "source": []
  }
 ],
 "metadata": {
  "kernelspec": {
   "display_name": "Python 3",
   "language": "python",
   "name": "python3"
  },
  "language_info": {
   "codemirror_mode": {
    "name": "ipython",
    "version": 3
   },
   "file_extension": ".py",
   "mimetype": "text/x-python",
   "name": "python",
   "nbconvert_exporter": "python",
   "pygments_lexer": "ipython3",
   "version": "3.11.1"
  }
 },
 "nbformat": 4,
 "nbformat_minor": 2
}
