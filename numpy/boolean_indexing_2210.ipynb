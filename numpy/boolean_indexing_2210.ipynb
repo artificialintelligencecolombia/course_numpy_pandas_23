{
 "cells": [
  {
   "cell_type": "code",
   "execution_count": 1,
   "metadata": {},
   "outputs": [],
   "source": [
    "import numpy as np"
   ]
  },
  {
   "cell_type": "code",
   "execution_count": 15,
   "metadata": {},
   "outputs": [
    {
     "name": "stdout",
     "output_type": "stream",
     "text": [
      "names = \n",
      " ['Bob' 'Joe' 'Will' 'Bob' 'Will' 'Joe' 'Joe'] \n",
      " data= \n",
      " [[ 0.07  1.88 -0.34 -0.72]\n",
      " [ 0.46  1.13  0.57  0.27]\n",
      " [ 0.08  0.42  0.03  0.24]\n",
      " [ 1.1  -1.11 -0.07 -1.29]\n",
      " [ 0.93  0.88 -1.05  1.38]\n",
      " [-1.76 -1.76 -0.79  0.16]\n",
      " [-0.67  0.15  1.04  1.3 ]]\n"
     ]
    }
   ],
   "source": [
    "# boolean indexing \n",
    "names = np.array(['Bob', 'Joe', 'Will', 'Bob', 'Will', 'Joe', 'Joe'])\n",
    "data = np.random.randn(7,4).round(2)\n",
    "print('names = \\n', names, '\\n', 'data= \\n', data)"
   ]
  },
  {
   "cell_type": "code",
   "execution_count": 16,
   "metadata": {},
   "outputs": [
    {
     "name": "stdout",
     "output_type": "stream",
     "text": [
      "name == Bob: \n",
      " [ True False False  True False False False] \n",
      "\n",
      "[[ 0.07  1.88 -0.34 -0.72]\n",
      " [ 1.1  -1.11 -0.07 -1.29]] \n",
      "\n",
      "[[ 0.46  1.13  0.57  0.27]\n",
      " [-1.76 -1.76 -0.79  0.16]\n",
      " [-0.67  0.15  1.04  1.3 ]] \n",
      "\n"
     ]
    }
   ],
   "source": [
    "# we search for the Bob str in the 'names' array by comparison operator\n",
    "# This method slices the row from the array according to boolean values\n",
    "print('name == Bob: \\n', names == 'Bob','\\n')\n",
    "print(data[names == 'Bob'],'\\n') # print the equivalent of the rows assigned to Bob\n",
    "print(data[names == 'Joe'],'\\n') # print the equivalent of the rows assigned to Joe"
   ]
  },
  {
   "cell_type": "code",
   "execution_count": 17,
   "metadata": {},
   "outputs": [
    {
     "name": "stdout",
     "output_type": "stream",
     "text": [
      "Will[2:]: \n",
      " [[ 0.03  0.24]\n",
      " [-1.05  1.38]]\n",
      "Joe[0]: \n",
      " [ 0.46 -1.76 -0.67]\n"
     ]
    }
   ],
   "source": [
    "# after slicing the rows, we can index the columns too\n",
    "print('Will[2:]: \\n',data[names == 'Will', 2:])\n",
    "print('Joe[0]: \\n',data[names == 'Joe',0])"
   ]
  },
  {
   "cell_type": "code",
   "execution_count": 20,
   "metadata": {},
   "outputs": [
    {
     "name": "stdout",
     "output_type": "stream",
     "text": [
      "names != Bob: \n",
      " [False  True  True False  True  True  True]\n",
      "[ 0.57  0.03 -1.05 -0.79  1.04]\n"
     ]
    }
   ],
   "source": [
    "# negation slicing\n",
    "print('names != Bob: \\n', names != 'Bob')\n",
    "print(data[names != 'Bob',2])\n"
   ]
  },
  {
   "cell_type": "code",
   "execution_count": null,
   "metadata": {},
   "outputs": [],
   "source": []
  }
 ],
 "metadata": {
  "kernelspec": {
   "display_name": "Python 3",
   "language": "python",
   "name": "python3"
  },
  "language_info": {
   "codemirror_mode": {
    "name": "ipython",
    "version": 3
   },
   "file_extension": ".py",
   "mimetype": "text/x-python",
   "name": "python",
   "nbconvert_exporter": "python",
   "pygments_lexer": "ipython3",
   "version": "3.11.1"
  }
 },
 "nbformat": 4,
 "nbformat_minor": 2
}
