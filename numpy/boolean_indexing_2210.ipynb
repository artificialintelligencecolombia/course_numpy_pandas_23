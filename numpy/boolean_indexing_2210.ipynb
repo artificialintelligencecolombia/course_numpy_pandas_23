{
 "cells": [
  {
   "cell_type": "code",
   "execution_count": 1,
   "metadata": {},
   "outputs": [],
   "source": [
    "import numpy as np"
   ]
  },
  {
   "cell_type": "code",
   "execution_count": 2,
   "metadata": {},
   "outputs": [
    {
     "name": "stdout",
     "output_type": "stream",
     "text": [
      "names = \n",
      " ['Bob' 'Joe' 'Will' 'Bob' 'Will' 'Joe' 'Joe'] data= \n",
      " [[ 0.05340302 -0.53332735  0.56814817 -0.17169178]\n",
      " [-0.28168294  0.72427286 -0.64461259 -0.72497635]\n",
      " [ 0.05354248 -1.48423265 -0.20877539 -0.08716222]\n",
      " [-0.4890187   0.35772428  0.43531618  1.64196174]\n",
      " [ 0.4793326  -2.14602865  0.04427534 -0.91041713]\n",
      " [ 0.84534265  0.47832384  1.56975589  2.07362993]\n",
      " [-1.16837936 -1.55611784  0.46159436 -1.46204934]]\n"
     ]
    }
   ],
   "source": [
    "# boolean indexing \n",
    "names = np.array(['Bob', 'Joe', 'Will', 'Bob', 'Will', 'Joe', 'Joe'])\n",
    "data = np.random.randn(7,4)\n",
    "print('names = \\n', names, 'data= \\n', data)"
   ]
  },
  {
   "cell_type": "code",
   "execution_count": 3,
   "metadata": {},
   "outputs": [
    {
     "name": "stdout",
     "output_type": "stream",
     "text": [
      "name == Bob:  [ True False False  True False False False]\n",
      "[[ 0.05340302 -0.53332735  0.56814817 -0.17169178]\n",
      " [-0.4890187   0.35772428  0.43531618  1.64196174]]\n",
      "[[-0.28168294  0.72427286 -0.64461259 -0.72497635]\n",
      " [ 0.84534265  0.47832384  1.56975589  2.07362993]\n",
      " [-1.16837936 -1.55611784  0.46159436 -1.46204934]]\n"
     ]
    }
   ],
   "source": [
    "# we search for the Bob str in the names array by comparison operator\n",
    "# This method slices the row from the array according to boolean values\n",
    "print('name == Bob: ', names == 'Bob')\n",
    "print(data[names == 'Bob']) # print the equivalent of the rows assigned to Bob\n",
    "print(data[names == 'Joe']) # print the equivalent of the rows assigned to Joe"
   ]
  },
  {
   "cell_type": "code",
   "execution_count": 8,
   "metadata": {},
   "outputs": [
    {
     "name": "stdout",
     "output_type": "stream",
     "text": [
      "Will[2:]: \n",
      " [[-0.20877539 -0.08716222]\n",
      " [ 0.04427534 -0.91041713]]\n",
      "Joe[0]: \n",
      " [-0.28168294  0.84534265 -1.16837936]\n"
     ]
    }
   ],
   "source": [
    "# after slicing the rows, we can index the columns too\n",
    "print('Will[2:]: \\n',data[names == 'Will', 2:])\n",
    "print('Joe[0]: \\n',data[names == 'Joe',0])"
   ]
  },
  {
   "cell_type": "code",
   "execution_count": 10,
   "metadata": {},
   "outputs": [
    {
     "name": "stdout",
     "output_type": "stream",
     "text": [
      "names != Bob: \n",
      " [False  True  True False  True  True  True]\n",
      "[[-0.28168294  0.72427286 -0.64461259 -0.72497635]\n",
      " [ 0.05354248 -1.48423265 -0.20877539 -0.08716222]\n",
      " [ 0.4793326  -2.14602865  0.04427534 -0.91041713]\n",
      " [ 0.84534265  0.47832384  1.56975589  2.07362993]\n",
      " [-1.16837936 -1.55611784  0.46159436 -1.46204934]]\n"
     ]
    }
   ],
   "source": [
    "# negation slicing\n",
    "print('names != Bob: \\n', names != 'Bob')\n",
    "print(data[names != 'Bob'])\n"
   ]
  },
  {
   "cell_type": "code",
   "execution_count": null,
   "metadata": {},
   "outputs": [],
   "source": []
  }
 ],
 "metadata": {
  "kernelspec": {
   "display_name": "Python 3",
   "language": "python",
   "name": "python3"
  },
  "language_info": {
   "codemirror_mode": {
    "name": "ipython",
    "version": 3
   },
   "file_extension": ".py",
   "mimetype": "text/x-python",
   "name": "python",
   "nbconvert_exporter": "python",
   "pygments_lexer": "ipython3",
   "version": "3.11.1"
  }
 },
 "nbformat": 4,
 "nbformat_minor": 2
}
