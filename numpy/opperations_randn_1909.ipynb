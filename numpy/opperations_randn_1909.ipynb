{
 "cells": [
  {
   "cell_type": "code",
   "execution_count": 2,
   "metadata": {},
   "outputs": [],
   "source": [
    "import numpy as np"
   ]
  },
  {
   "cell_type": "code",
   "execution_count": null,
   "metadata": {},
   "outputs": [],
   "source": [
    "# create a 8x8 matrix with random integers from -100 to 100 \n",
    "matrix1 = np.random.randint(-100, 101, size=(8, 8))\n",
    "matrix1"
   ]
  },
  {
   "cell_type": "code",
   "execution_count": null,
   "metadata": {},
   "outputs": [],
   "source": [
    "# bool matrix with bools > -25\n",
    "greater_than_min25_num = matrix1 > -25\n",
    "print(greater_than_min25_num)"
   ]
  },
  {
   "cell_type": "code",
   "execution_count": null,
   "metadata": {},
   "outputs": [],
   "source": [
    "# opperatig with matrix elements\n",
    "matrix1_product = matrix1 * -0.333\n",
    "print(matrix1_product)"
   ]
  },
  {
   "cell_type": "code",
   "execution_count": null,
   "metadata": {},
   "outputs": [],
   "source": [
    "# opperation between matrices\n",
    "matrix2 = matrix1 + matrix1_product\n",
    "print(matrix2)"
   ]
  },
  {
   "cell_type": "code",
   "execution_count": null,
   "metadata": {},
   "outputs": [],
   "source": [
    "# sorted matrix axis 1\n",
    "sorted_matrix = np.sort(matrix2, axis=1)\n",
    "sorted_matrix"
   ]
  },
  {
   "cell_type": "code",
   "execution_count": null,
   "metadata": {},
   "outputs": [],
   "source": [
    "# sorted matrix axis 0\n",
    "sorted_matrix_zero_axis = np.sort(matrix2, axis=0)\n",
    "sorted_matrix_zero_axis"
   ]
  },
  {
   "cell_type": "code",
   "execution_count": 3,
   "metadata": {},
   "outputs": [
    {
     "name": "stdout",
     "output_type": "stream",
     "text": [
      "[[-1.01137134 -0.182087   -0.15953201]\n",
      " [ 0.2795801  -1.77559215 -0.07206091]]\n"
     ]
    }
   ],
   "source": [
    "# randn() method productes numbers sampled from a standard normal distribution\n",
    "# Theoretically: No minimum or maximum limit.\n",
    "# Practically: The range of values is unbounded, but values further\n",
    "# away from 0 become increasingly rare.\n",
    "data = np.random.randn(2,3)\n",
    "print(data)"
   ]
  },
  {
   "cell_type": "code",
   "execution_count": 4,
   "metadata": {},
   "outputs": [
    {
     "name": "stdout",
     "output_type": "stream",
     "text": [
      "[[-1.63639882 -0.29461677 -0.25812279]\n",
      " [ 0.45236061 -2.8729081  -0.11659456]]\n"
     ]
    }
   ],
   "source": [
    "# multiply data by 1.618\n",
    "data_product = data * 1.618\n",
    "print(data_product)"
   ]
  },
  {
   "cell_type": "code",
   "execution_count": 5,
   "metadata": {},
   "outputs": [
    {
     "data": {
      "text/plain": [
       "(2, 3)"
      ]
     },
     "execution_count": 5,
     "metadata": {},
     "output_type": "execute_result"
    }
   ],
   "source": [
    "# get the shape of the ndim arra\n",
    "print(data.shape)\n"
   ]
  },
  {
   "cell_type": "code",
   "execution_count": null,
   "metadata": {},
   "outputs": [],
   "source": []
  }
 ],
 "metadata": {
  "kernelspec": {
   "display_name": "Python 3",
   "language": "python",
   "name": "python3"
  },
  "language_info": {
   "codemirror_mode": {
    "name": "ipython",
    "version": 3
   },
   "file_extension": ".py",
   "mimetype": "text/x-python",
   "name": "python",
   "nbconvert_exporter": "python",
   "pygments_lexer": "ipython3",
   "version": "3.11.1"
  },
  "orig_nbformat": 4
 },
 "nbformat": 4,
 "nbformat_minor": 2
}
