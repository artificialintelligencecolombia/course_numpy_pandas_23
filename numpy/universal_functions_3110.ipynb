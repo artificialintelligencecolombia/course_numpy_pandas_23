{
 "cells": [
  {
   "cell_type": "code",
   "execution_count": 1,
   "metadata": {},
   "outputs": [],
   "source": [
    "import numpy as np"
   ]
  },
  {
   "cell_type": "code",
   "execution_count": 3,
   "metadata": {},
   "outputs": [
    {
     "name": "stdout",
     "output_type": "stream",
     "text": [
      "[ 0  1  2  3  4  5  6  7  8  9 10 11 12 13 14 15 16 17 18 19 20 21 22 23\n",
      " 24]\n"
     ]
    }
   ],
   "source": [
    "# ufun could be exp, sqrt, sin, cos, floor, etc...\n",
    "# they are element wise\n",
    "arr = np.arange(25)\n",
    "print(arr)\n"
   ]
  },
  {
   "cell_type": "code",
   "execution_count": 6,
   "metadata": {},
   "outputs": [
    {
     "name": "stdout",
     "output_type": "stream",
     "text": [
      "Squared root arr: \n",
      " [0.         1.         1.41421356 1.73205081 2.         2.23606798\n",
      " 2.44948974 2.64575131 2.82842712 3.         3.16227766 3.31662479\n",
      " 3.46410162 3.60555128 3.74165739 3.87298335 4.         4.12310563\n",
      " 4.24264069 4.35889894 4.47213595 4.58257569 4.69041576 4.79583152\n",
      " 4.89897949]\n",
      "Exponent arr: \n",
      " [1.00000000e+00 2.71828183e+00 7.38905610e+00 2.00855369e+01\n",
      " 5.45981500e+01 1.48413159e+02 4.03428793e+02 1.09663316e+03\n",
      " 2.98095799e+03 8.10308393e+03 2.20264658e+04 5.98741417e+04\n",
      " 1.62754791e+05 4.42413392e+05 1.20260428e+06 3.26901737e+06\n",
      " 8.88611052e+06 2.41549528e+07 6.56599691e+07 1.78482301e+08\n",
      " 4.85165195e+08 1.31881573e+09 3.58491285e+09 9.74480345e+09\n",
      " 2.64891221e+10]\n",
      "array: \n",
      " [[-0.30462302  1.350295    0.76415686  1.46667481]\n",
      " [-1.93112709  2.26294785  1.5918532  -0.49833929]\n",
      " [ 1.80146147 -2.14950894  0.78013038  0.48253719]\n",
      " [-0.88196209  0.94812401  1.44266199  0.13555827]\n",
      " [-0.09475908  1.47032182  1.34001716 -0.27961899]\n",
      " [ 0.51977774 -2.05678848  1.56020962  0.54974556]\n",
      " [ 2.18674433  1.45070659 -2.31355403 -0.25958486]]\n",
      "floor_array: \n",
      " [[-1.  1.  0.  1.]\n",
      " [-2.  2.  1. -1.]\n",
      " [ 1. -3.  0.  0.]\n",
      " [-1.  0.  1.  0.]\n",
      " [-1.  1.  1. -1.]\n",
      " [ 0. -3.  1.  0.]\n",
      " [ 2.  1. -3. -1.]]\n"
     ]
    }
   ],
   "source": [
    "# squared root\n",
    "sqr_root = np.sqrt(arr)\n",
    "print('Squared root arr: \\n', sqr_root)\n",
    "\n",
    "# exponent\n",
    "exponent_arr = np.exp(arr)\n",
    "print('Exponent arr: \\n', exponent_arr)\n",
    "\n",
    "# floor\n",
    "arr2 = np.random.randn(7,4)\n",
    "print('array: \\n',arr2)\n",
    "floor_arr = np.floor(arr2)\n",
    "print('floor_array: \\n',floor_arr)"
   ]
  },
  {
   "cell_type": "code",
   "execution_count": null,
   "metadata": {},
   "outputs": [],
   "source": []
  }
 ],
 "metadata": {
  "kernelspec": {
   "display_name": "Python 3",
   "language": "python",
   "name": "python3"
  },
  "language_info": {
   "codemirror_mode": {
    "name": "ipython",
    "version": 3
   },
   "file_extension": ".py",
   "mimetype": "text/x-python",
   "name": "python",
   "nbconvert_exporter": "python",
   "pygments_lexer": "ipython3",
   "version": "3.11.1"
  }
 },
 "nbformat": 4,
 "nbformat_minor": 2
}
