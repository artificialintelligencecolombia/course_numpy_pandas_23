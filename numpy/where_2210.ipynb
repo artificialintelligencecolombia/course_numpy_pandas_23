{
 "cells": [
  {
   "cell_type": "code",
   "execution_count": 1,
   "metadata": {},
   "outputs": [],
   "source": [
    "import numpy as np"
   ]
  },
  {
   "cell_type": "code",
   "execution_count": 3,
   "metadata": {},
   "outputs": [
    {
     "name": "stdout",
     "output_type": "stream",
     "text": [
      "result(prints the x values where the cond is true. if not, print y) = \n",
      " [1.  1.2 3.1 4.2 1.5 6.4]\n"
     ]
    }
   ],
   "source": [
    "# where function is a vectorized version of x if cond, else y:\n",
    "\n",
    "xarr = np.array([1.1,1.2,1.3,1.4,1.5,1.6])\n",
    "yarr = np.array([1.0,2.0,3.1,4.2,5.3,6.4])\n",
    "cond = np.array([False, True, False, False, True, False])\n",
    "\n",
    "result = np.where(cond,xarr,yarr)\n",
    "print('result(prints the x values where the cond is true. if not, print y) = \\n',result)"
   ]
  },
  {
   "cell_type": "code",
   "execution_count": null,
   "metadata": {},
   "outputs": [],
   "source": []
  }
 ],
 "metadata": {
  "kernelspec": {
   "display_name": "Python 3",
   "language": "python",
   "name": "python3"
  },
  "language_info": {
   "codemirror_mode": {
    "name": "ipython",
    "version": 3
   },
   "file_extension": ".py",
   "mimetype": "text/x-python",
   "name": "python",
   "nbconvert_exporter": "python",
   "pygments_lexer": "ipython3",
   "version": "3.11.1"
  }
 },
 "nbformat": 4,
 "nbformat_minor": 2
}
