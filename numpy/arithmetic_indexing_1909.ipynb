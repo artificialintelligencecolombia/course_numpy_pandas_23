{
 "cells": [
  {
   "cell_type": "code",
   "execution_count": 1,
   "metadata": {},
   "outputs": [],
   "source": [
    "import numpy as np"
   ]
  },
  {
   "cell_type": "code",
   "execution_count": null,
   "metadata": {},
   "outputs": [],
   "source": [
    "# arrays with random numbers\n",
    "arr1 = np.random.randn(4, 2)\n",
    "arr2 = np.random.randint(1, 10, (4, 2))\n",
    "print('array1:\\n', arr1)\n",
    "print('array2:\\n', arr2)"
   ]
  },
  {
   "cell_type": "code",
   "execution_count": null,
   "metadata": {},
   "outputs": [],
   "source": [
    "# element wise operations between arrays are those which are performed on each\n",
    "# element of the array\n",
    "# arithmetic operations with scalars are also element wise\n",
    "sum_arrs = arr1 + arr2\n",
    "print('sum of arrays:\\n', sum_arrs)\n",
    "one_divided_by_arr1 = 1 / arr1\n",
    "print('1 / array1:\\n', one_divided_by_arr1)"
   ]
  },
  {
   "cell_type": "code",
   "execution_count": 4,
   "metadata": {},
   "outputs": [
    {
     "name": "stdout",
     "output_type": "stream",
     "text": [
      "matrix1:\n",
      " [[ 1  2  3  4]\n",
      " [ 5  6  7  8]\n",
      " [ 9 10 11 12]]\n"
     ]
    }
   ],
   "source": [
    "# 2x3 matrix\n",
    "matrix1 = np.arange(1, 13).reshape(3, 4)\n",
    "print('matrix1:\\n', matrix1)"
   ]
  },
  {
   "cell_type": "code",
   "execution_count": 9,
   "metadata": {},
   "outputs": [
    {
     "name": "stdout",
     "output_type": "stream",
     "text": [
      "[ 1  2  3  4  5  6  7  8  9 10 11 12 13 14 15 16 17 18 19 20 21 22 23 24\n",
      " 25 26 27 28 29 30 31 32 33 34 35 36 37 38 39 40 41 42 43 44 45 46 47 48\n",
      " 49 50]\n"
     ]
    }
   ],
   "source": [
    "# array creation\n",
    "data1 = np.arange(1, 50+1)\n",
    "print(data1)"
   ]
  },
  {
   "cell_type": "code",
   "execution_count": 22,
   "metadata": {},
   "outputs": [
    {
     "name": "stdout",
     "output_type": "stream",
     "text": [
      "[ 0  0  0  0  0  0  0  0  0  0  0  0  0  0  0  0  0  0  0  0  0  0  0  0\n",
      "  0 26 27 28 29 30 31 32 33 34 35 36 37 38 39 40 41 42 43 44 45 46 47 48\n",
      " 49 50]\n",
      "Take a slice of data1:\n",
      " [0 0 0 0 0 0 0 0 0 0]\n",
      "[    0     0     0     0     0     0     0     0     0     0 12345     0\n",
      "     0     0     0     0     0     0     0     0     0     0     0     0\n",
      "     0    26    27    28    29    30    31    32    33    34    35    36\n",
      "    37    38    39    40    41    42    43    44    45    46    47    48\n",
      "    49    50]\n"
     ]
    }
   ],
   "source": [
    "# assign value to a slice of an array\n",
    "data1[:25] = 0\n",
    "print(data1)\n",
    "\n",
    "sliced_data1 = data1[5:15]\n",
    "print('Take a slice of data1:\\n', sliced_data1)\n",
    "\n",
    "# assign values to the sliced array\n",
    "sliced_data1[[5]] = 12345\n",
    "print(data1)\n",
    "# this concludes that the sliced array is a view of the original array\n",
    "# for creating a copy of the array use the copy() method"
   ]
  },
  {
   "cell_type": "code",
   "execution_count": 27,
   "metadata": {},
   "outputs": [
    {
     "name": "stdout",
     "output_type": "stream",
     "text": [
      "[[ 1  2  3  4  5]\n",
      " [ 6  7  8  9 10]\n",
      " [11 12 13 14 15]\n",
      " [16 17 18 19 20]\n",
      " [21 22 23 24 25]]\n",
      "data2[2,3]:\n",
      " 14\n"
     ]
    }
   ],
   "source": [
    "# 2d array\n",
    "data2 = np.arange(1, 25+1).reshape(5, 5)\n",
    "print(data2)\n",
    "\n",
    "#indexing a 2d array\n",
    "print('data2[2,3]:\\n', data2[2,3])"
   ]
  },
  {
   "cell_type": "code",
   "execution_count": 30,
   "metadata": {},
   "outputs": [
    {
     "name": "stdout",
     "output_type": "stream",
     "text": [
      "sliced_row\n",
      " [11 12 13 14 15]\n"
     ]
    }
   ],
   "source": [
    "# copy method\n",
    "sliced_row = data2.copy()[2]\n",
    "print('sliced_row\\n', sliced_row)"
   ]
  },
  {
   "cell_type": "code",
   "execution_count": 33,
   "metadata": {},
   "outputs": [
    {
     "name": "stdout",
     "output_type": "stream",
     "text": [
      "names:\n",
      " ['Bob' 'Joe' 'Will' 'Bob' 'Will' 'Joe' 'Joe']\n",
      "data:\n",
      " [[ 2.94074026 -0.78621902  2.2574019  -0.20450191]\n",
      " [ 0.77909049 -1.21593317  1.02586262 -2.04329893]\n",
      " [-0.66222524  0.75841947 -2.09331401 -0.3943492 ]\n",
      " [ 0.91745511  1.04764528  1.70087404 -0.53308791]\n",
      " [ 0.69518284 -0.55250381 -2.09616322 -0.01167602]\n",
      " [ 0.55223277 -1.51403148  0.54168921  0.46898503]\n",
      " [-0.66667886  0.27962946 -0.6241961  -0.49427111]]\n",
      "names == Bob:\n",
      " [ True False False  True False False False]\n"
     ]
    },
    {
     "data": {
      "text/plain": [
       "array([[ 2.94074026, -0.78621902,  2.2574019 , -0.20450191],\n",
       "       [ 0.91745511,  1.04764528,  1.70087404, -0.53308791]])"
      ]
     },
     "execution_count": 33,
     "metadata": {},
     "output_type": "execute_result"
    }
   ],
   "source": [
    "# boolean indexing \n",
    "names = np.array(['Bob', 'Joe', 'Will', 'Bob', 'Will', 'Joe', 'Joe'])\n",
    "data = np.random.randn(7, 4)\n",
    "print('names:\\n', names)\n",
    "print('data:\\n', data)\n",
    "names == 'Bob'\n",
    "print('names == Bob:\\n', names == 'Bob')\n",
    "\n",
    "# here the boolean array is used to index the data array\n",
    "data[names == 'Bob']"
   ]
  },
  {
   "cell_type": "code",
   "execution_count": null,
   "metadata": {},
   "outputs": [],
   "source": []
  }
 ],
 "metadata": {
  "kernelspec": {
   "display_name": "Python 3",
   "language": "python",
   "name": "python3"
  },
  "language_info": {
   "codemirror_mode": {
    "name": "ipython",
    "version": 3
   },
   "file_extension": ".py",
   "mimetype": "text/x-python",
   "name": "python",
   "nbconvert_exporter": "python",
   "pygments_lexer": "ipython3",
   "version": "3.11.1"
  },
  "orig_nbformat": 4
 },
 "nbformat": 4,
 "nbformat_minor": 2
}
