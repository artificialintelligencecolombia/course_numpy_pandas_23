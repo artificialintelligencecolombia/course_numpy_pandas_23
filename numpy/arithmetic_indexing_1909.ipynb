{
 "cells": [
  {
   "cell_type": "code",
   "execution_count": null,
   "metadata": {},
   "outputs": [],
   "source": [
    "import numpy as np"
   ]
  },
  {
   "cell_type": "code",
   "execution_count": null,
   "metadata": {},
   "outputs": [],
   "source": [
    "# arrays with random numbers\n",
    "arr1 = np.random.randn(4, 2)\n",
    "arr2 = np.random.randint(1, 10, (4, 2))\n",
    "print('array1:\\n', arr1)\n",
    "print('array2:\\n', arr2)"
   ]
  },
  {
   "cell_type": "code",
   "execution_count": null,
   "metadata": {},
   "outputs": [],
   "source": [
    "# element wise operations between arrays are those which are performed on each\n",
    "# element of the array\n",
    "# arithmetic operations with scalars are also element wise\n",
    "sum_arrs = arr1 + arr2\n",
    "print('sum of arrays:\\n', sum_arrs)\n",
    "one_divided_by_arr1 = 1 / arr1\n",
    "print('1 / array1:\\n', one_divided_by_arr1)"
   ]
  },
  {
   "cell_type": "code",
   "execution_count": null,
   "metadata": {},
   "outputs": [],
   "source": [
    "# 2x3 matrix\n",
    "matrix1 = np.arange(1, 13).reshape(3, 4)\n",
    "print('matrix1:\\n', matrix1)"
   ]
  },
  {
   "cell_type": "code",
   "execution_count": null,
   "metadata": {},
   "outputs": [],
   "source": [
    "# array creation\n",
    "data1 = np.arange(1, 50+1)\n",
    "print(data1)"
   ]
  },
  {
   "cell_type": "code",
   "execution_count": null,
   "metadata": {},
   "outputs": [],
   "source": [
    "# assign value to a slice of an array\n",
    "data1[:25] = 0\n",
    "print(data1)\n",
    "\n",
    "sliced_data1 = data1[5:15]\n",
    "print('Take a slice of data1:\\n', sliced_data1)\n",
    "\n",
    "# assign values to the sliced array\n",
    "sliced_data1[[5]] = 12345\n",
    "print(data1)\n",
    "# this concludes that the sliced array is a view of the original array\n",
    "# for creating a copy of the array use the copy() method"
   ]
  },
  {
   "cell_type": "code",
   "execution_count": null,
   "metadata": {},
   "outputs": [],
   "source": [
    "# 2d array\n",
    "data2 = np.arange(1, 25+1).reshape(5, 5)\n",
    "print(data2)\n",
    "\n",
    "#indexing a 2d array\n",
    "print('data2[2,3]:\\n', data2[2,3])"
   ]
  },
  {
   "cell_type": "code",
   "execution_count": null,
   "metadata": {},
   "outputs": [],
   "source": [
    "# copy method\n",
    "sliced_row = data2.copy()[2]\n",
    "print('sliced_row\\n', sliced_row)"
   ]
  },
  {
   "cell_type": "code",
   "execution_count": null,
   "metadata": {},
   "outputs": [],
   "source": [
    "# boolean indexing \n",
    "names = np.array(['Bob', 'Joe', 'Will', 'Bob', 'Will', 'Joe', 'Joe'])\n",
    "names2 = np.array(['Jesus', 'Juan', 'Juan', 'Oscar', 'Francisco', 'Tobias', 'Hector'])\n",
    "data = np.random.randn(7, 4)\n",
    "print('names:\\n', names)\n",
    "print('names2:\\n', names2)\n",
    "print('data]:\\n', data)\n",
    "names == 'Bob'\n",
    "print('names == Bob:\\n', names == 'Bob')\n",
    "\n",
    "# here the boolean array is used to index the data array\n",
    "data[names == 'Bob']"
   ]
  },
  {
   "cell_type": "code",
   "execution_count": null,
   "metadata": {},
   "outputs": [],
   "source": []
  }
 ],
 "metadata": {
  "kernelspec": {
   "display_name": "Python 3",
   "language": "python",
   "name": "python3"
  },
  "language_info": {
   "codemirror_mode": {
    "name": "ipython",
    "version": 3
   },
   "file_extension": ".py",
   "mimetype": "text/x-python",
   "name": "python",
   "nbconvert_exporter": "python",
   "pygments_lexer": "ipython3",
   "version": "3.11.1"
  },
  "orig_nbformat": 4
 },
 "nbformat": 4,
 "nbformat_minor": 2
}
