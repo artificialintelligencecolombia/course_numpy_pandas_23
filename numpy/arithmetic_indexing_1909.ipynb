{
 "cells": [
  {
   "cell_type": "code",
   "execution_count": 1,
   "metadata": {},
   "outputs": [],
   "source": [
    "import numpy as np"
   ]
  },
  {
   "cell_type": "code",
   "execution_count": 3,
   "metadata": {},
   "outputs": [
    {
     "name": "stdout",
     "output_type": "stream",
     "text": [
      "array1:\n",
      " [[ 0.035  1.528]\n",
      " [-0.521  0.799]\n",
      " [-0.51   0.706]\n",
      " [-1.553  0.294]]\n",
      "array2:\n",
      " [[4 3]\n",
      " [5 2]\n",
      " [2 8]\n",
      " [4 8]]\n"
     ]
    }
   ],
   "source": [
    "# arrays with random numbers\n",
    "arr1 = np.random.randn(4, 2).round(3)\n",
    "arr2 = np.random.randint(1, 10, (4, 2))\n",
    "print('array1:\\n', arr1)\n",
    "print('array2:\\n', arr2)"
   ]
  },
  {
   "cell_type": "code",
   "execution_count": 5,
   "metadata": {},
   "outputs": [
    {
     "name": "stdout",
     "output_type": "stream",
     "text": [
      "sum of arrays:\n",
      " [[4.035 4.528]\n",
      " [4.479 2.799]\n",
      " [1.49  8.706]\n",
      " [2.447 8.294]]\n",
      "1 / array1:\n",
      " [[28.57  0.65]\n",
      " [-1.92  1.25]\n",
      " [-1.96  1.42]\n",
      " [-0.64  3.4 ]]\n"
     ]
    }
   ],
   "source": [
    "# element wise operations between arrays are those which are\n",
    "# performed on each element of the array\n",
    "# arithmetic operations with scalars are also element wise\n",
    "sum_arrs = arr1 + arr2\n",
    "print('sum of arrays:\\n', sum_arrs)\n",
    "one_divided_by_arr1 = (1 / arr1).round(2)\n",
    "print('1 / array1:\\n', one_divided_by_arr1)"
   ]
  },
  {
   "cell_type": "code",
   "execution_count": 6,
   "metadata": {},
   "outputs": [
    {
     "name": "stdout",
     "output_type": "stream",
     "text": [
      "matrix1:\n",
      " [[ 1  2  3  4]\n",
      " [ 5  6  7  8]\n",
      " [ 9 10 11 12]]\n"
     ]
    }
   ],
   "source": [
    "# 3x4 matrix\n",
    "matrix1 = np.arange(1, 13).reshape(3, 4)\n",
    "print('matrix1:\\n', matrix1)"
   ]
  },
  {
   "cell_type": "code",
   "execution_count": 8,
   "metadata": {},
   "outputs": [
    {
     "name": "stdout",
     "output_type": "stream",
     "text": [
      "[ 1  2  3  4  5  6  7  8  9 10 11 12 13 14 15 16 17 18 19 20 21 22 23 24\n",
      " 25 26 27 28 29 30 31 32 33 34 35 36 37 38 39 40 41 42 43 44 45 46 47 48\n",
      " 49 50]\n"
     ]
    }
   ],
   "source": [
    "# array creation\n",
    "data1 = np.arange(1, 50+1)\n",
    "print(data1)"
   ]
  },
  {
   "cell_type": "code",
   "execution_count": 10,
   "metadata": {},
   "outputs": [
    {
     "name": "stdout",
     "output_type": "stream",
     "text": [
      "[ 0  0  0  0  0  0  0  0  0  0  0  0  0  0  0  0  0  0  0  0  0  0  0  0\n",
      "  0 26 27 28 29 30 31 32 33 34 35 36 37 38 39 40 41 42 43 44 45 46 47 48\n",
      " 49 50]\n",
      "Take a slice of data1:\n",
      " [0 0 0 0 0 0 0 0 0 0]\n",
      "[    0     0     0     0     0     0     0     0     0     0 12345     0\n",
      "     0     0     0     0     0     0     0     0     0     0     0     0\n",
      "     0    26    27    28    29    30    31    32    33    34    35    36\n",
      "    37    38    39    40    41    42    43    44    45    46    47    48\n",
      "    49    50]\n"
     ]
    }
   ],
   "source": [
    "# assign value to a slice of an array\n",
    "data1[:25] = 0\n",
    "sliced_data1 = data1[5:15]\n",
    "\n",
    "print(data1)\n",
    "print('Take a slice of data1:\\n', sliced_data1)\n",
    "\n",
    "# assign values to the sliced array\n",
    "sliced_data1[[5]] = 12345\n",
    "print(data1)\n",
    "# this concludes that the sliced array is a view of the original array\n",
    "# for creating a copy of the array use the copy() method"
   ]
  },
  {
   "cell_type": "code",
   "execution_count": 12,
   "metadata": {},
   "outputs": [
    {
     "name": "stdout",
     "output_type": "stream",
     "text": [
      "[[ 1  2  3  4  5]\n",
      " [ 6  7  8  9 10]\n",
      " [11 12 13 14 15]\n",
      " [16 17 18 19 20]\n",
      " [21 22 23 24 25]] \n",
      "\n",
      "data2[2,3]:\n",
      " 14\n"
     ]
    }
   ],
   "source": [
    "# 2d array\n",
    "data2 = np.arange(1, 25+1).reshape(5, 5)\n",
    "print(data2, '\\n')\n",
    "\n",
    "#indexing a 2d array\n",
    "print('data2[2,3]:\\n', data2[2,3])"
   ]
  },
  {
   "cell_type": "code",
   "execution_count": 13,
   "metadata": {},
   "outputs": [
    {
     "name": "stdout",
     "output_type": "stream",
     "text": [
      "sliced_row\n",
      " [11 12 13 14 15]\n"
     ]
    }
   ],
   "source": [
    "# copy method\n",
    "sliced_row = data2.copy()[2]\n",
    "print('sliced_row\\n', sliced_row)"
   ]
  },
  {
   "cell_type": "code",
   "execution_count": null,
   "metadata": {},
   "outputs": [],
   "source": []
  }
 ],
 "metadata": {
  "kernelspec": {
   "display_name": "Python 3",
   "language": "python",
   "name": "python3"
  },
  "language_info": {
   "codemirror_mode": {
    "name": "ipython",
    "version": 3
   },
   "file_extension": ".py",
   "mimetype": "text/x-python",
   "name": "python",
   "nbconvert_exporter": "python",
   "pygments_lexer": "ipython3",
   "version": "3.11.1"
  },
  "orig_nbformat": 4
 },
 "nbformat": 4,
 "nbformat_minor": 2
}
