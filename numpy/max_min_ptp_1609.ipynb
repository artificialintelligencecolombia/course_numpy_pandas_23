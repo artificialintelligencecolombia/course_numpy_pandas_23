{
 "cells": [
  {
   "cell_type": "code",
   "execution_count": 1,
   "metadata": {},
   "outputs": [],
   "source": [
    "import numpy as np"
   ]
  },
  {
   "cell_type": "code",
   "execution_count": 2,
   "metadata": {},
   "outputs": [
    {
     "data": {
      "text/plain": [
       "array([[6, 2, 1, ..., 1, 3, 1],\n",
       "       [4, 4, 1, ..., 9, 1, 7],\n",
       "       [4, 5, 8, ..., 9, 2, 7],\n",
       "       ...,\n",
       "       [2, 3, 3, ..., 8, 6, 3],\n",
       "       [7, 7, 5, ..., 8, 7, 6],\n",
       "       [7, 6, 1, ..., 4, 6, 8]])"
      ]
     },
     "execution_count": 2,
     "metadata": {},
     "output_type": "execute_result"
    }
   ],
   "source": [
    "arr1 = np.random.randint(1, 10, size=(30, 40))\n",
    "arr1"
   ]
  },
  {
   "cell_type": "code",
   "execution_count": 3,
   "metadata": {},
   "outputs": [
    {
     "data": {
      "text/plain": [
       "array([9, 9, 9, 9, 9, 9, 9, 9, 9, 9, 9, 9, 9, 9, 9, 9, 9, 9, 9, 9, 9, 9,\n",
       "       9, 9, 9, 9, 9, 9, 9, 9])"
      ]
     },
     "execution_count": 3,
     "metadata": {},
     "output_type": "execute_result"
    }
   ],
   "source": [
    "# maximum value of each row\n",
    "np.max(arr1, axis=1) # axis=1 means row"
   ]
  },
  {
   "cell_type": "code",
   "execution_count": 4,
   "metadata": {},
   "outputs": [
    {
     "name": "stdout",
     "output_type": "stream",
     "text": [
      "[9 9 9 9 9 9 9 9 9 9 9 9 9 9 9 9 9 9 9 9 9 9 9 9 9 9 9 9 9 9 9 9 9 9 9 9 9\n",
      " 9 9 9]\n",
      "(40,) 1 int32\n"
     ]
    }
   ],
   "source": [
    "nines_to_zeros = np.max(arr1, axis=0) # axis=0 means column\n",
    "print(nines_to_zeros)\n",
    "print(nines_to_zeros.shape, nines_to_zeros.ndim, nines_to_zeros.dtype)\n",
    "# ERROR zeros = np.zeros(nines_to_zeros)"
   ]
  },
  {
   "cell_type": "code",
   "execution_count": 5,
   "metadata": {},
   "outputs": [
    {
     "data": {
      "text/plain": [
       "array([[-32,  11,  46,  35, -33, -49,  35,  35,  75, -62,  -3,  55,  32],\n",
       "       [ 86,  -7, -72, -18,  31,  88,  92,  34, -39,  21,  54,  98,  14],\n",
       "       [  8,  97, -67,  19, -58,  15,  96,  18,  49,  -6,  94,  90,  59],\n",
       "       [-51,  -6,  89,  72,  70, -69, -41,  68, -32, -64, -45, -45,  94],\n",
       "       [ 99,  90, -34, -84, -17, -55,  20,  50, -56,  52,  31, -27, -93],\n",
       "       [ 19, -35, -33,  -6,  22, -21, -83,  88,  -8,  82, -91, -34, -24],\n",
       "       [ 16,   6,  43,  77, -10, -50, -91,  74, -90, -39,  14,  93, -35],\n",
       "       [-71, -73, -36,  70,  18,  48,  20, -28, -20, -65,  73,  52,  13]])"
      ]
     },
     "execution_count": 5,
     "metadata": {},
     "output_type": "execute_result"
    }
   ],
   "source": [
    "# matrix of random integers from -100 to 100\n",
    "\n",
    "matrix = np.random.randint(-99,99+1, size=(8,13))\n",
    "matrix"
   ]
  },
  {
   "cell_type": "code",
   "execution_count": 6,
   "metadata": {},
   "outputs": [
    {
     "data": {
      "text/plain": [
       "array([75, 98, 97, 94, 99, 88, 93, 73])"
      ]
     },
     "execution_count": 6,
     "metadata": {},
     "output_type": "execute_result"
    }
   ],
   "source": [
    "# maximum value of each row: axis=1, column: axis=0\n",
    "max_values = np.max(matrix, axis=1)\n",
    "max_values"
   ]
  },
  {
   "cell_type": "code",
   "execution_count": 7,
   "metadata": {},
   "outputs": [
    {
     "data": {
      "text/plain": [
       "array([ 8, 11,  1, 12,  0,  7, 11, 10], dtype=int64)"
      ]
     },
     "execution_count": 7,
     "metadata": {},
     "output_type": "execute_result"
    }
   ],
   "source": [
    "# argmax of each row: axis=1, column: axis=0. It prints the index\n",
    "# of the max values for each row(axis=1).\n",
    "args_max_values = np.argmax(matrix, axis=1)\n",
    "args_max_values"
   ]
  },
  {
   "cell_type": "code",
   "execution_count": 8,
   "metadata": {},
   "outputs": [
    {
     "data": {
      "text/plain": [
       "array([7, 7, 1, 4, 2, 3, 6, 7, 6, 7, 5, 3, 4], dtype=int64)"
      ]
     },
     "execution_count": 8,
     "metadata": {},
     "output_type": "execute_result"
    }
   ],
   "source": [
    "# argmin of each row: axis=1, column: axis=0.  It prints the index\n",
    "# of the mn values for each column(axis=0).\n",
    "args_min_values = np.argmin(matrix, axis=0)\n",
    "args_min_values\n"
   ]
  },
  {
   "cell_type": "code",
   "execution_count": 9,
   "metadata": {},
   "outputs": [
    {
     "data": {
      "text/plain": [
       "array([137, 170, 164, 163, 192, 179, 184, 146])"
      ]
     },
     "execution_count": 9,
     "metadata": {},
     "output_type": "execute_result"
    }
   ],
   "source": [
    "# represents the difference between the maximum and minimum values\n",
    "# of each row: axis=1, column: axis=0\n",
    "matrix.ptp(axis=1) # peak to peak"
   ]
  }
 ],
 "metadata": {
  "kernelspec": {
   "display_name": "Python 3",
   "language": "python",
   "name": "python3"
  },
  "language_info": {
   "codemirror_mode": {
    "name": "ipython",
    "version": 3
   },
   "file_extension": ".py",
   "mimetype": "text/x-python",
   "name": "python",
   "nbconvert_exporter": "python",
   "pygments_lexer": "ipython3",
   "version": "3.11.1"
  },
  "orig_nbformat": 4
 },
 "nbformat": 4,
 "nbformat_minor": 2
}
