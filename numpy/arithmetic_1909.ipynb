{
 "cells": [
  {
   "cell_type": "code",
   "execution_count": 1,
   "metadata": {},
   "outputs": [],
   "source": [
    "import numpy as np"
   ]
  },
  {
   "cell_type": "code",
   "execution_count": 3,
   "metadata": {},
   "outputs": [
    {
     "name": "stdout",
     "output_type": "stream",
     "text": [
      "matrix1: \n",
      " [[  1  -3 -10  -2  -3  -1 -10  -9]\n",
      " [-10   0   8  -1   0  -5  -3  -3]\n",
      " [ -5 -10   7   3   5   0   3  -2]\n",
      " [  4   2   8   8   3  -5   8  -5]\n",
      " [ -3  10   7   2  -8  -6  -2  -6]\n",
      " [  6  -5   3  -5  -9  -6  -9   5]\n",
      " [ -7  -7   1  -1  -6   2  -6  -5]\n",
      " [ -4   9   2 -10  10   4  -2   3]]\n"
     ]
    }
   ],
   "source": [
    "# create a 8x8 matrix with random integers from -100 to 100 \n",
    "matrix1 = np.random.randint(-10, 10+1, size=(8, 8))\n",
    "print('matrix1: \\n',matrix1)"
   ]
  },
  {
   "cell_type": "code",
   "execution_count": 7,
   "metadata": {},
   "outputs": [
    {
     "name": "stdout",
     "output_type": "stream",
     "text": [
      "numbers > -5: \n",
      " [[ True  True False  True  True  True False False]\n",
      " [False  True  True  True  True False  True  True]\n",
      " [False False  True  True  True  True  True  True]\n",
      " [ True  True  True  True  True False  True False]\n",
      " [ True  True  True  True False False  True False]\n",
      " [ True False  True False False False False  True]\n",
      " [False False  True  True False  True False False]\n",
      " [ True  True  True False  True  True  True  True]]\n"
     ]
    }
   ],
   "source": [
    "# bool matrix with bools > -5\n",
    "nums_greater_minus5 = matrix1 > -5\n",
    "print('numbers > -5: \\n',nums_greater_minus5)"
   ]
  },
  {
   "cell_type": "code",
   "execution_count": 8,
   "metadata": {},
   "outputs": [
    {
     "name": "stdout",
     "output_type": "stream",
     "text": [
      "[[-0.333  0.999  3.33   0.666  0.999  0.333  3.33   2.997]\n",
      " [ 3.33  -0.    -2.664  0.333 -0.     1.665  0.999  0.999]\n",
      " [ 1.665  3.33  -2.331 -0.999 -1.665 -0.    -0.999  0.666]\n",
      " [-1.332 -0.666 -2.664 -2.664 -0.999  1.665 -2.664  1.665]\n",
      " [ 0.999 -3.33  -2.331 -0.666  2.664  1.998  0.666  1.998]\n",
      " [-1.998  1.665 -0.999  1.665  2.997  1.998  2.997 -1.665]\n",
      " [ 2.331  2.331 -0.333  0.333  1.998 -0.666  1.998  1.665]\n",
      " [ 1.332 -2.997 -0.666  3.33  -3.33  -1.332  0.666 -0.999]]\n"
     ]
    }
   ],
   "source": [
    "# opperatig with matrix elements\n",
    "matrix1_product = matrix1 * -0.333\n",
    "print(matrix1_product)"
   ]
  },
  {
   "cell_type": "code",
   "execution_count": 9,
   "metadata": {},
   "outputs": [
    {
     "name": "stdout",
     "output_type": "stream",
     "text": [
      "[[ 0.667 -2.001 -6.67  -1.334 -2.001 -0.667 -6.67  -6.003]\n",
      " [-6.67   0.     5.336 -0.667  0.    -3.335 -2.001 -2.001]\n",
      " [-3.335 -6.67   4.669  2.001  3.335  0.     2.001 -1.334]\n",
      " [ 2.668  1.334  5.336  5.336  2.001 -3.335  5.336 -3.335]\n",
      " [-2.001  6.67   4.669  1.334 -5.336 -4.002 -1.334 -4.002]\n",
      " [ 4.002 -3.335  2.001 -3.335 -6.003 -4.002 -6.003  3.335]\n",
      " [-4.669 -4.669  0.667 -0.667 -4.002  1.334 -4.002 -3.335]\n",
      " [-2.668  6.003  1.334 -6.67   6.67   2.668 -1.334  2.001]]\n"
     ]
    }
   ],
   "source": [
    "# opperation between matrices\n",
    "matrix2 = matrix1 + matrix1_product\n",
    "print(matrix2)"
   ]
  },
  {
   "cell_type": "code",
   "execution_count": 12,
   "metadata": {},
   "outputs": [
    {
     "name": "stdout",
     "output_type": "stream",
     "text": [
      "matrix2 sorted axis=1(rows): \n",
      " [[-6.67  -6.67  -6.003 -2.001 -2.001 -1.334 -0.667  0.667]\n",
      " [-6.67  -3.335 -2.001 -2.001 -0.667  0.     0.     5.336]\n",
      " [-6.67  -3.335 -1.334  0.     2.001  2.001  3.335  4.669]\n",
      " [-3.335 -3.335  1.334  2.001  2.668  5.336  5.336  5.336]\n",
      " [-5.336 -4.002 -4.002 -2.001 -1.334  1.334  4.669  6.67 ]\n",
      " [-6.003 -6.003 -4.002 -3.335 -3.335  2.001  3.335  4.002]\n",
      " [-4.669 -4.669 -4.002 -4.002 -3.335 -0.667  0.667  1.334]\n",
      " [-6.67  -2.668 -1.334  1.334  2.001  2.668  6.003  6.67 ]]\n",
      "matrix2 sorted axis=0(columns): \n",
      " [[-6.67  -6.67  -6.67  -6.67  -6.003 -4.002 -6.67  -6.003]\n",
      " [-4.669 -4.669  0.667 -3.335 -5.336 -4.002 -6.003 -4.002]\n",
      " [-3.335 -3.335  1.334 -1.334 -4.002 -3.335 -4.002 -3.335]\n",
      " [-2.668 -2.001  2.001 -0.667 -2.001 -3.335 -2.001 -3.335]\n",
      " [-2.001  0.     4.669 -0.667  0.    -0.667 -1.334 -2.001]\n",
      " [ 0.667  1.334  4.669  1.334  2.001  0.    -1.334 -1.334]\n",
      " [ 2.668  6.003  5.336  2.001  3.335  1.334  2.001  2.001]\n",
      " [ 4.002  6.67   5.336  5.336  6.67   2.668  5.336  3.335]]\n"
     ]
    }
   ],
   "source": [
    "# sorting matrixes (rows = axis 1, columns = axis 0)\n",
    "sorted_matrix = np.sort(matrix2, axis=1)\n",
    "sorted_matrix_zero_axis = np.sort(matrix2, axis=0) \n",
    "print('matrix2 sorted axis=1(rows): \\n',sorted_matrix)\n",
    "print('matrix2 sorted axis=0(columns): \\n',sorted_matrix_zero_axis)\n",
    "\n"
   ]
  },
  {
   "cell_type": "code",
   "execution_count": 13,
   "metadata": {},
   "outputs": [
    {
     "name": "stdout",
     "output_type": "stream",
     "text": [
      "[[ 0.25792118 -1.19178771 -1.58980549]\n",
      " [ 1.46858175  0.97061189  0.11274738]]\n"
     ]
    }
   ],
   "source": [
    "# randn() method productes numbers sampled from a standard normal distribution\n",
    "# Theoretically: No minimum or maximum limit.\n",
    "# Practically: The range of values is unbounded, but values further\n",
    "# away from 0 become increasingly rare.\n",
    "data = np.random.randn(2,3)\n",
    "print(data)"
   ]
  },
  {
   "cell_type": "code",
   "execution_count": 14,
   "metadata": {},
   "outputs": [
    {
     "name": "stdout",
     "output_type": "stream",
     "text": [
      "[[ 0.41731647 -1.92831251 -2.57230528]\n",
      " [ 2.37616527  1.57045004  0.18242525]]\n"
     ]
    }
   ],
   "source": [
    "# multiply data by 1.618\n",
    "data_product = data * 1.618\n",
    "print(data_product)"
   ]
  },
  {
   "cell_type": "code",
   "execution_count": 15,
   "metadata": {},
   "outputs": [
    {
     "name": "stdout",
     "output_type": "stream",
     "text": [
      "(2, 3)\n"
     ]
    }
   ],
   "source": [
    "# get the shape of the ndim arra\n",
    "print(data.shape)\n"
   ]
  },
  {
   "cell_type": "code",
   "execution_count": 18,
   "metadata": {},
   "outputs": [
    {
     "name": "stdout",
     "output_type": "stream",
     "text": [
      "array3: \n",
      " [[7 2 7]\n",
      " [7 7 1]] \n",
      "\n",
      "array3 * array3: \n",
      " [[49  4 49]\n",
      " [49 49  1]] \n",
      "\n",
      "1 / array3: \n",
      " [[0.14 0.5  0.14]\n",
      " [0.14 0.14 1.  ]] \n",
      "\n",
      "array3**0.5: \n",
      " [[2.6 1.4 2.6]\n",
      " [2.6 2.6 1. ]] \n",
      "\n"
     ]
    }
   ],
   "source": [
    "# product\n",
    "arr3 = np.random.randint(1,10,(2,3))\n",
    "print('array3: \\n',arr3,'\\n')\n",
    "print('array3 * array3: \\n', arr3 * arr3,'\\n')\n",
    "print('1 / array3: \\n', (1 / arr3).round(2),'\\n')\n",
    "print('array3**0.5: \\n', (arr3**0.5).round(1),'\\n')"
   ]
  },
  {
   "cell_type": "code",
   "execution_count": null,
   "metadata": {},
   "outputs": [],
   "source": []
  }
 ],
 "metadata": {
  "kernelspec": {
   "display_name": "Python 3",
   "language": "python",
   "name": "python3"
  },
  "language_info": {
   "codemirror_mode": {
    "name": "ipython",
    "version": 3
   },
   "file_extension": ".py",
   "mimetype": "text/x-python",
   "name": "python",
   "nbconvert_exporter": "python",
   "pygments_lexer": "ipython3",
   "version": "3.11.1"
  },
  "orig_nbformat": 4
 },
 "nbformat": 4,
 "nbformat_minor": 2
}
