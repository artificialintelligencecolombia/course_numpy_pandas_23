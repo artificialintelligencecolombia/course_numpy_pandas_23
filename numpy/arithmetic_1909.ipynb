{
 "cells": [
  {
   "cell_type": "code",
   "execution_count": 1,
   "metadata": {},
   "outputs": [],
   "source": [
    "import numpy as np"
   ]
  },
  {
   "cell_type": "code",
   "execution_count": 2,
   "metadata": {},
   "outputs": [
    {
     "data": {
      "text/plain": [
       "array([[ -1,   0,   5,   2,   9,  -1,   6,  -7],\n",
       "       [  8,  -7,   4,  -6,  -1,   8,  -6, -10],\n",
       "       [ -2,  -2,   9,  -3,  -9,  -8, -10,  -6],\n",
       "       [ -9,  10,   1,   1,   2,   9,   9,   9],\n",
       "       [ -7,  10,   9,   9,  -6,  -2,  -3,  -5],\n",
       "       [  4,  10,  -6,   1,   2,  -8,  -5,  -2],\n",
       "       [ -2,  -7,   5,  -6,  -7,  -1,   5,   6],\n",
       "       [  9,  -7,   0,   8,   2,   3,   4,  -8]])"
      ]
     },
     "execution_count": 2,
     "metadata": {},
     "output_type": "execute_result"
    }
   ],
   "source": [
    "# create a 8x8 matrix with random integers from -100 to 100 \n",
    "matrix1 = np.random.randint(-10, 10+1, size=(8, 8))\n",
    "matrix1"
   ]
  },
  {
   "cell_type": "code",
   "execution_count": 3,
   "metadata": {},
   "outputs": [
    {
     "name": "stdout",
     "output_type": "stream",
     "text": [
      "[[False False False False  True False  True False]\n",
      " [ True False False False False  True False False]\n",
      " [False False  True False False False False False]\n",
      " [False  True False False False  True  True  True]\n",
      " [False  True  True  True False False False False]\n",
      " [False  True False False False False False False]\n",
      " [False False False False False False False  True]\n",
      " [ True False False  True False False False False]]\n"
     ]
    }
   ],
   "source": [
    "# bool matrix with bools > -25\n",
    "greater_than_5_num = matrix1 > 5\n",
    "print(greater_than_5_num)"
   ]
  },
  {
   "cell_type": "code",
   "execution_count": 4,
   "metadata": {},
   "outputs": [
    {
     "name": "stdout",
     "output_type": "stream",
     "text": [
      "[[ 0.333 -0.    -1.665 -0.666 -2.997  0.333 -1.998  2.331]\n",
      " [-2.664  2.331 -1.332  1.998  0.333 -2.664  1.998  3.33 ]\n",
      " [ 0.666  0.666 -2.997  0.999  2.997  2.664  3.33   1.998]\n",
      " [ 2.997 -3.33  -0.333 -0.333 -0.666 -2.997 -2.997 -2.997]\n",
      " [ 2.331 -3.33  -2.997 -2.997  1.998  0.666  0.999  1.665]\n",
      " [-1.332 -3.33   1.998 -0.333 -0.666  2.664  1.665  0.666]\n",
      " [ 0.666  2.331 -1.665  1.998  2.331  0.333 -1.665 -1.998]\n",
      " [-2.997  2.331 -0.    -2.664 -0.666 -0.999 -1.332  2.664]]\n"
     ]
    }
   ],
   "source": [
    "# opperatig with matrix elements\n",
    "matrix1_product = matrix1 * -0.333\n",
    "print(matrix1_product)"
   ]
  },
  {
   "cell_type": "code",
   "execution_count": 5,
   "metadata": {},
   "outputs": [
    {
     "name": "stdout",
     "output_type": "stream",
     "text": [
      "[[-0.667  0.     3.335  1.334  6.003 -0.667  4.002 -4.669]\n",
      " [ 5.336 -4.669  2.668 -4.002 -0.667  5.336 -4.002 -6.67 ]\n",
      " [-1.334 -1.334  6.003 -2.001 -6.003 -5.336 -6.67  -4.002]\n",
      " [-6.003  6.67   0.667  0.667  1.334  6.003  6.003  6.003]\n",
      " [-4.669  6.67   6.003  6.003 -4.002 -1.334 -2.001 -3.335]\n",
      " [ 2.668  6.67  -4.002  0.667  1.334 -5.336 -3.335 -1.334]\n",
      " [-1.334 -4.669  3.335 -4.002 -4.669 -0.667  3.335  4.002]\n",
      " [ 6.003 -4.669  0.     5.336  1.334  2.001  2.668 -5.336]]\n"
     ]
    }
   ],
   "source": [
    "# opperation between matrices\n",
    "matrix2 = matrix1 + matrix1_product\n",
    "print(matrix2)"
   ]
  },
  {
   "cell_type": "code",
   "execution_count": 8,
   "metadata": {},
   "outputs": [
    {
     "name": "stdout",
     "output_type": "stream",
     "text": [
      "sort axis=1: \n",
      " [[-4.669 -0.667 -0.667  0.     1.334  3.335  4.002  6.003]\n",
      " [-6.67  -4.669 -4.002 -4.002 -0.667  2.668  5.336  5.336]\n",
      " [-6.67  -6.003 -5.336 -4.002 -2.001 -1.334 -1.334  6.003]\n",
      " [-6.003  0.667  0.667  1.334  6.003  6.003  6.003  6.67 ]\n",
      " [-4.669 -4.002 -3.335 -2.001 -1.334  6.003  6.003  6.67 ]\n",
      " [-5.336 -4.002 -3.335 -1.334  0.667  1.334  2.668  6.67 ]\n",
      " [-4.669 -4.669 -4.002 -1.334 -0.667  3.335  3.335  4.002]\n",
      " [-5.336 -4.669  0.     1.334  2.001  2.668  5.336  6.003]]\n",
      "sort arix=0 \n",
      " [[-6.003 -4.669 -4.002 -4.002 -6.003 -5.336 -6.67  -6.67 ]\n",
      " [-4.669 -4.669  0.    -4.002 -4.669 -5.336 -4.002 -5.336]\n",
      " [-1.334 -4.669  0.667 -2.001 -4.002 -1.334 -3.335 -4.669]\n",
      " [-1.334 -1.334  2.668  0.667 -0.667 -0.667 -2.001 -4.002]\n",
      " [-0.667  0.     3.335  0.667  1.334 -0.667  2.668 -3.335]\n",
      " [ 2.668  6.67   3.335  1.334  1.334  2.001  3.335 -1.334]\n",
      " [ 5.336  6.67   6.003  5.336  1.334  5.336  4.002  4.002]\n",
      " [ 6.003  6.67   6.003  6.003  6.003  6.003  6.003  6.003]]\n"
     ]
    }
   ],
   "source": [
    "# sorted matrix axis 1\n",
    "sorted_matrix = np.sort(matrix2, axis=1)\n",
    "print('sort axis=1: \\n',sorted_matrix)\n",
    "# sorted matrix axis 0\n",
    "sorted_matrix_zero_axis = np.sort(matrix2, axis=0)\n",
    "print('sort arix=0 \\n',sorted_matrix_zero_axis)"
   ]
  },
  {
   "cell_type": "code",
   "execution_count": 3,
   "metadata": {},
   "outputs": [
    {
     "name": "stdout",
     "output_type": "stream",
     "text": [
      "[[-1.01137134 -0.182087   -0.15953201]\n",
      " [ 0.2795801  -1.77559215 -0.07206091]]\n"
     ]
    }
   ],
   "source": [
    "# randn() method productes numbers sampled from a standard normal distribution\n",
    "# Theoretically: No minimum or maximum limit.\n",
    "# Practically: The range of values is unbounded, but values further\n",
    "# away from 0 become increasingly rare.\n",
    "data = np.random.randn(2,3)\n",
    "print(data)"
   ]
  },
  {
   "cell_type": "code",
   "execution_count": 4,
   "metadata": {},
   "outputs": [
    {
     "name": "stdout",
     "output_type": "stream",
     "text": [
      "[[-1.63639882 -0.29461677 -0.25812279]\n",
      " [ 0.45236061 -2.8729081  -0.11659456]]\n"
     ]
    }
   ],
   "source": [
    "# multiply data by 1.618\n",
    "data_product = data * 1.618\n",
    "print(data_product)"
   ]
  },
  {
   "cell_type": "code",
   "execution_count": 5,
   "metadata": {},
   "outputs": [
    {
     "data": {
      "text/plain": [
       "(2, 3)"
      ]
     },
     "execution_count": 5,
     "metadata": {},
     "output_type": "execute_result"
    }
   ],
   "source": [
    "# get the shape of the ndim arra\n",
    "print(data.shape)\n"
   ]
  },
  {
   "cell_type": "code",
   "execution_count": 6,
   "metadata": {},
   "outputs": [
    {
     "name": "stdout",
     "output_type": "stream",
     "text": [
      "array: \n",
      " [[2 1 8]\n",
      " [3 3 2]] \n",
      "\n",
      "array * array: \n",
      " [[ 4  1 64]\n",
      " [ 9  9  4]] \n",
      "\n",
      "1 / array: \n",
      " [[0.5        1.         0.125     ]\n",
      " [0.33333333 0.33333333 0.5       ]] \n",
      "\n",
      "array**0.5: \n",
      " [[1.41421356 1.         2.82842712]\n",
      " [1.73205081 1.73205081 1.41421356]] \n",
      "\n"
     ]
    }
   ],
   "source": [
    "# product\n",
    "arr3 = np.random.randint(1,10,(2,3))\n",
    "print('array: \\n',arr3,'\\n')\n",
    "print('array * array: \\n', arr3 * arr3,'\\n')\n",
    "print('1 / array: \\n', 1 / arr3,'\\n')\n",
    "print('array**0.5: \\n', arr3**0.5,'\\n')"
   ]
  },
  {
   "cell_type": "code",
   "execution_count": null,
   "metadata": {},
   "outputs": [],
   "source": []
  }
 ],
 "metadata": {
  "kernelspec": {
   "display_name": "Python 3",
   "language": "python",
   "name": "python3"
  },
  "language_info": {
   "codemirror_mode": {
    "name": "ipython",
    "version": 3
   },
   "file_extension": ".py",
   "mimetype": "text/x-python",
   "name": "python",
   "nbconvert_exporter": "python",
   "pygments_lexer": "ipython3",
   "version": "3.11.1"
  },
  "orig_nbformat": 4
 },
 "nbformat": 4,
 "nbformat_minor": 2
}
