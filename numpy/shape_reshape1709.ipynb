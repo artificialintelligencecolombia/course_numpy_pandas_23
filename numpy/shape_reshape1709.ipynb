{
 "cells": [
  {
   "cell_type": "code",
   "execution_count": 2,
   "metadata": {},
   "outputs": [],
   "source": [
    "#import numpy library\n",
    "import numpy as np"
   ]
  },
  {
   "cell_type": "code",
   "execution_count": 3,
   "metadata": {},
   "outputs": [
    {
     "name": "stdout",
     "output_type": "stream",
     "text": [
      "arr1: \n",
      " [[85 57 47 50 97  9 82 97 89 71]\n",
      " [33 77 14 29 94 25 61 49 16 30]\n",
      " [93 29 28 99  7 24 53 45 42 74]\n",
      " [90 61 50 77 80 14 74 73 29 44]\n",
      " [77 69 95 35 51 85 29 75 25  4]\n",
      " [86 85 88 20 15 50 16 13 98 42]\n",
      " [78 81 27 13 58 59 46 71 79 86]\n",
      " [11 96 86 28  4 76 72 18 90 40]\n",
      " [38 21  3 32  4  2 89 10 89  1]] \n",
      "ndim:  2 \n",
      "arr2: \n",
      " [[ 0.18934227  1.96256899 -0.45798059  1.85059774]\n",
      " [-0.49631822  0.56718464  0.86398715 -1.36362963]\n",
      " [ 0.17911132 -1.98010717 -2.18958085  1.58744499]\n",
      " [ 0.16477756  1.0177006  -1.42781727 -0.38135097]\n",
      " [-0.62115848 -0.06356    -1.30743271 -0.26578738]\n",
      " [-1.07981723  0.25779363  1.00872652  1.28046638]] \n",
      "ndim:  2\n"
     ]
    }
   ],
   "source": [
    "arr1 = np.random.randint(1, 100, (9,10))\n",
    "arr2 = np.random.randn(6,4)\n",
    "print('arr1: \\n', arr1,'\\nndim: ',arr1.ndim,'\\narr2: \\n', arr2,'\\nndim: ', arr2.ndim)"
   ]
  },
  {
   "cell_type": "code",
   "execution_count": 4,
   "metadata": {},
   "outputs": [
    {
     "data": {
      "text/plain": [
       "(9, 10)"
      ]
     },
     "execution_count": 4,
     "metadata": {},
     "output_type": "execute_result"
    }
   ],
   "source": [
    "# .shape is a tuple that gives dimensions of the array\n",
    "arr1.shape"
   ]
  },
  {
   "cell_type": "code",
   "execution_count": 5,
   "metadata": {},
   "outputs": [
    {
     "data": {
      "text/plain": [
       "2"
      ]
     },
     "execution_count": 5,
     "metadata": {},
     "output_type": "execute_result"
    }
   ],
   "source": [
    "# .ndim gives the number of dimensions of the array\n",
    "arr1.ndim"
   ]
  },
  {
   "cell_type": "code",
   "execution_count": 6,
   "metadata": {},
   "outputs": [
    {
     "data": {
      "text/plain": [
       "array([[85, 57, 47, 50, 97,  9, 82, 97, 89, 71, 33, 77, 14, 29, 94],\n",
       "       [25, 61, 49, 16, 30, 93, 29, 28, 99,  7, 24, 53, 45, 42, 74],\n",
       "       [90, 61, 50, 77, 80, 14, 74, 73, 29, 44, 77, 69, 95, 35, 51],\n",
       "       [85, 29, 75, 25,  4, 86, 85, 88, 20, 15, 50, 16, 13, 98, 42],\n",
       "       [78, 81, 27, 13, 58, 59, 46, 71, 79, 86, 11, 96, 86, 28,  4],\n",
       "       [76, 72, 18, 90, 40, 38, 21,  3, 32,  4,  2, 89, 10, 89,  1]])"
      ]
     },
     "execution_count": 6,
     "metadata": {},
     "output_type": "execute_result"
    }
   ],
   "source": [
    "# .reshape reshapes the array\n",
    "# 90 = 2 * 3 * 3 * 5\n",
    "arr1.reshape(6,15)"
   ]
  },
  {
   "cell_type": "code",
   "execution_count": 7,
   "metadata": {},
   "outputs": [
    {
     "data": {
      "text/plain": [
       "array([[[[85, 57, 47, 50, 97],\n",
       "         [ 9, 82, 97, 89, 71],\n",
       "         [33, 77, 14, 29, 94]],\n",
       "\n",
       "        [[25, 61, 49, 16, 30],\n",
       "         [93, 29, 28, 99,  7],\n",
       "         [24, 53, 45, 42, 74]]],\n",
       "\n",
       "\n",
       "       [[[90, 61, 50, 77, 80],\n",
       "         [14, 74, 73, 29, 44],\n",
       "         [77, 69, 95, 35, 51]],\n",
       "\n",
       "        [[85, 29, 75, 25,  4],\n",
       "         [86, 85, 88, 20, 15],\n",
       "         [50, 16, 13, 98, 42]]],\n",
       "\n",
       "\n",
       "       [[[78, 81, 27, 13, 58],\n",
       "         [59, 46, 71, 79, 86],\n",
       "         [11, 96, 86, 28,  4]],\n",
       "\n",
       "        [[76, 72, 18, 90, 40],\n",
       "         [38, 21,  3, 32,  4],\n",
       "         [ 2, 89, 10, 89,  1]]]])"
      ]
     },
     "execution_count": 7,
     "metadata": {},
     "output_type": "execute_result"
    }
   ],
   "source": [
    "# we can reshape the array to a higher dimension tensor\n",
    "arr1.reshape(3,2,3,5)"
   ]
  },
  {
   "cell_type": "code",
   "execution_count": null,
   "metadata": {},
   "outputs": [],
   "source": [
    "# by default, reshape() uses C-style ordering\n",
    "# error occurs if the new shape does not match the original shape"
   ]
  }
 ],
 "metadata": {
  "kernelspec": {
   "display_name": "Python 3",
   "language": "python",
   "name": "python3"
  },
  "language_info": {
   "codemirror_mode": {
    "name": "ipython",
    "version": 3
   },
   "file_extension": ".py",
   "mimetype": "text/x-python",
   "name": "python",
   "nbconvert_exporter": "python",
   "pygments_lexer": "ipython3",
   "version": "3.11.1"
  },
  "orig_nbformat": 4
 },
 "nbformat": 4,
 "nbformat_minor": 2
}
