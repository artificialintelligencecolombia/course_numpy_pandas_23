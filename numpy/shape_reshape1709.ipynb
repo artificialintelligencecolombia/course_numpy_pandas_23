{
 "cells": [
  {
   "cell_type": "code",
   "execution_count": 1,
   "metadata": {},
   "outputs": [],
   "source": [
    "#import numpy library\n",
    "import numpy as np"
   ]
  },
  {
   "cell_type": "code",
   "execution_count": 11,
   "metadata": {},
   "outputs": [
    {
     "name": "stdout",
     "output_type": "stream",
     "text": [
      "arr1: \n",
      " [[38 14 57 52 83 20 96 72 80 62]\n",
      " [30 12 44 35 22 14 21 99 63 11]\n",
      " [27 23 71 49 32  3 89 28 27 98]\n",
      " [83 60 16 76 20 18 63  8 46 55]\n",
      " [72 52 62 32  3 20 58 64 65 66]\n",
      " [71 50 90 60 69 57 40 88 58 18]\n",
      " [14 53 43 27 67 68 73 16 47 93]\n",
      " [ 6 97 86 84 84  6 63 29 99 21]\n",
      " [68  1 91 23 40 95 30 64 33 97]] \n",
      "ndim:  2 \n",
      "arr2: \n",
      " [[-0.1332587  -0.13109445 -0.33300916 -0.50287944]\n",
      " [-0.40230627 -1.50515991  0.56316568  1.98517036]\n",
      " [-1.87696299  0.22304486 -2.16144252 -1.09472676]\n",
      " [ 0.10997847  0.81181389  0.38744767  0.26789095]\n",
      " [-0.01466707  0.53236595 -0.60917547 -0.36186811]\n",
      " [ 0.39783819 -1.14736061 -0.06393406 -1.21360725]] \n",
      "ndim:  2\n"
     ]
    }
   ],
   "source": [
    "arr1 = np.random.randint(1, 100, (9,10))\n",
    "arr2 = np.random.randn(6,4)\n",
    "print('arr1: \\n', arr1,'\\nndim: ',arr1.ndim,'\\narr2: \\n', arr2,'\\nndim: ', arr2.ndim)"
   ]
  },
  {
   "cell_type": "code",
   "execution_count": 3,
   "metadata": {},
   "outputs": [
    {
     "data": {
      "text/plain": [
       "(9, 10)"
      ]
     },
     "execution_count": 3,
     "metadata": {},
     "output_type": "execute_result"
    }
   ],
   "source": [
    "# .shape is a tuple that gives dimensions of the array\n",
    "arr1.shape"
   ]
  },
  {
   "cell_type": "code",
   "execution_count": null,
   "metadata": {},
   "outputs": [],
   "source": [
    "# .ndim gives the number of dimensions of the array\n",
    "arr1.ndim"
   ]
  },
  {
   "cell_type": "code",
   "execution_count": null,
   "metadata": {},
   "outputs": [],
   "source": [
    "# .reshape reshapes the array\n",
    "# 90 = 2 * 3 * 3 * 5\n",
    "arr1.reshape(6,15)"
   ]
  },
  {
   "cell_type": "code",
   "execution_count": null,
   "metadata": {},
   "outputs": [],
   "source": [
    "# we can reshape the array to a higher dimension tensor\n",
    "arr1.reshape(3,2,3,5)"
   ]
  },
  {
   "cell_type": "code",
   "execution_count": null,
   "metadata": {},
   "outputs": [],
   "source": [
    "# by default, reshape() uses C-style ordering\n",
    "# error occurs if the new shape does not match the original shape"
   ]
  }
 ],
 "metadata": {
  "kernelspec": {
   "display_name": "Python 3",
   "language": "python",
   "name": "python3"
  },
  "language_info": {
   "codemirror_mode": {
    "name": "ipython",
    "version": 3
   },
   "file_extension": ".py",
   "mimetype": "text/x-python",
   "name": "python",
   "nbconvert_exporter": "python",
   "pygments_lexer": "ipython3",
   "version": "3.11.1"
  },
  "orig_nbformat": 4
 },
 "nbformat": 4,
 "nbformat_minor": 2
}
