{
 "cells": [
  {
   "cell_type": "code",
   "execution_count": 1,
   "metadata": {},
   "outputs": [],
   "source": [
    "import numpy as np\n",
    "import pandas as pd"
   ]
  },
  {
   "cell_type": "code",
   "execution_count": 3,
   "metadata": {},
   "outputs": [
    {
     "name": "stdout",
     "output_type": "stream",
     "text": [
      "ser_int: \n",
      " 0    1.764052\n",
      "1    0.400157\n",
      "2    0.978738\n",
      "3    2.240893\n",
      "4    1.867558\n",
      "5   -0.977278\n",
      "dtype: float64 \n",
      "ser_nonint: \n",
      " a    0.950088\n",
      "b   -0.151357\n",
      "c   -0.103219\n",
      "d    0.410599\n",
      "e    0.144044\n",
      "f    1.454274\n",
      "dtype: float64\n"
     ]
    }
   ],
   "source": [
    "# when working with integers as indexes could generate some bugs.\n",
    "np.random.seed(0)\n",
    "\n",
    "ser_int = pd.Series(np.random.randn(6), index=[np.arange(6)])\n",
    "ser_nonint = pd.Series(np.random.randn(6), index=['a', 'b', 'c', 'd','e', 'f'])\n",
    "print('ser_int: \\n',ser_int,'\\nser_nonint: \\n',ser_nonint)\n",
    "\n",
    "ser_int2 = pd.Series(np.random.randn(10), index=[np.arange(10)])\n",
    "ser_nonint2 = pd.Series(np.random.randn(10), index=['a', 'b', 'c', 'd','e', 'f', 'g', 'h', 'i', 'j'])"
   ]
  },
  {
   "cell_type": "code",
   "execution_count": 11,
   "metadata": {},
   "outputs": [
    {
     "data": {
      "text/plain": [
       "1.454273506962975"
      ]
     },
     "execution_count": 11,
     "metadata": {},
     "output_type": "execute_result"
    }
   ],
   "source": [
    "# Basic Access\n",
    "\n",
    "# indexing integers\n",
    "# ser_int[-1] OUTPUT: error -> when int index, we can't call last element\n",
    "# by using series[-1]\n",
    "\n",
    "# indexing non-integer\n",
    "ser_nonint[-1]"
   ]
  },
  {
   "cell_type": "code",
   "execution_count": 16,
   "metadata": {},
   "outputs": [
    {
     "name": "stdout",
     "output_type": "stream",
     "text": [
      "0    1.764052\n",
      "1    0.400157\n",
      "2    0.978738\n",
      "dtype: float64\n",
      "0    1.764052\n",
      "1    0.400157\n",
      "dtype: float64\n"
     ]
    }
   ],
   "source": [
    "# loc is label-based indexing, so it includes index '0','1','2'\n",
    "print(ser_int.loc[:2]) #loc includes the labels of the range.\n",
    "\n",
    "# iloc is position based indexing, so it works as slicing (excludes '2')\n",
    "print(ser_int.iloc[:2]) # iloc is position based, so excludes last one."
   ]
  },
  {
   "cell_type": "code",
   "execution_count": 19,
   "metadata": {},
   "outputs": [
    {
     "name": "stdout",
     "output_type": "stream",
     "text": [
      "a    0.950088\n",
      "b   -0.151357\n",
      "dtype: float64\n"
     ]
    }
   ],
   "source": [
    "# iloc, being position based, can slices non-integer indexes\n",
    "\n",
    "print(ser_nonint.iloc[:2])"
   ]
  },
  {
   "cell_type": "code",
   "execution_count": null,
   "metadata": {},
   "outputs": [],
   "source": []
  }
 ],
 "metadata": {
  "kernelspec": {
   "display_name": "Python 3",
   "language": "python",
   "name": "python3"
  },
  "language_info": {
   "codemirror_mode": {
    "name": "ipython",
    "version": 3
   },
   "file_extension": ".py",
   "mimetype": "text/x-python",
   "name": "python",
   "nbconvert_exporter": "python",
   "pygments_lexer": "ipython3",
   "version": "3.11.1"
  }
 },
 "nbformat": 4,
 "nbformat_minor": 2
}
