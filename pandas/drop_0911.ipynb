{
 "cells": [
  {
   "cell_type": "code",
   "execution_count": 1,
   "metadata": {},
   "outputs": [],
   "source": [
    "import pandas as pd\n",
    "import numpy as np"
   ]
  },
  {
   "cell_type": "code",
   "execution_count": 12,
   "metadata": {},
   "outputs": [
    {
     "name": "stdout",
     "output_type": "stream",
     "text": [
      "obj: \n",
      "    America  Oceania  Asia  Europe  Antartica  Africa\n",
      "a        0        1     2       3          4       5\n",
      "b        6        7     8       9         10      11\n",
      "c       12       13    14      15         16      17\n",
      "d       18       19    20      21         22      23\n",
      "obj2: \n",
      "    America  Asia  Europe  Africa\n",
      "a        0     2       3       5\n",
      "d       18    20      21      23\n"
     ]
    }
   ],
   "source": [
    "# drop\n",
    "\n",
    "obj = pd.DataFrame(np.arange(24).reshape(4,6), index=['a', 'b', 'c', 'd'], columns=['America','Oceania','Asia','Europe','Antartica','Africa'])\n",
    "print('obj: \\n', obj)\n",
    "\n",
    "# dropping rows & columns\n",
    "\n",
    "obj2 = obj.drop(['b','c'], axis=0) # here, inplace atribute is not necessary\n",
    "obj2.drop(['Oceania','Antartica'], axis=1, inplace=True) # inplace is used when drop is on site.\n",
    "# axis 1 means columns (axis='columns')\n",
    "# inplace means the dropped return the same DataFrame as new object\n",
    "\n",
    "print('obj2: \\n', obj2)\n",
    "\n"
   ]
  },
  {
   "cell_type": "code",
   "execution_count": null,
   "metadata": {},
   "outputs": [],
   "source": []
  }
 ],
 "metadata": {
  "kernelspec": {
   "display_name": "Python 3",
   "language": "python",
   "name": "python3"
  },
  "language_info": {
   "codemirror_mode": {
    "name": "ipython",
    "version": 3
   },
   "file_extension": ".py",
   "mimetype": "text/x-python",
   "name": "python",
   "nbconvert_exporter": "python",
   "pygments_lexer": "ipython3",
   "version": "3.11.1"
  }
 },
 "nbformat": 4,
 "nbformat_minor": 2
}
