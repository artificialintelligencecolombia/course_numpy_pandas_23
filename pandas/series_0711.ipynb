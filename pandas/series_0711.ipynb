{
 "cells": [
  {
   "cell_type": "code",
   "execution_count": 1,
   "metadata": {},
   "outputs": [],
   "source": [
    "import pandas as pd"
   ]
  },
  {
   "cell_type": "code",
   "execution_count": 2,
   "metadata": {},
   "outputs": [
    {
     "data": {
      "text/plain": [
       "0                           2\n",
       "1                           4\n",
       "2                           6\n",
       "3                        None\n",
       "4                   [1, 2, 3]\n",
       "5    {'a': 1, 'b': 2, 'c': 3}\n",
       "dtype: object"
      ]
     },
     "execution_count": 2,
     "metadata": {},
     "output_type": "execute_result"
    }
   ],
   "source": [
    "# a series is a 1D array containing a sequence of values\n",
    "obj = pd.Series([2,4,6,None,[1,2,3],{'a':1, 'b':2, 'c':3}])\n",
    "obj"
   ]
  },
  {
   "cell_type": "code",
   "execution_count": 3,
   "metadata": {},
   "outputs": [
    {
     "data": {
      "text/plain": [
       "a    11\n",
       "b    22\n",
       "c    33\n",
       "d    44\n",
       "e    55\n",
       "f    66\n",
       "g    77\n",
       "h    88\n",
       "dtype: int64"
      ]
     },
     "execution_count": 3,
     "metadata": {},
     "output_type": "execute_result"
    }
   ],
   "source": [
    "# index of the Series can be customized\n",
    "obj2 = pd.Series([11,22,33,44,55,66,77,88], index =['a', 'b', 'c', 'd', 'e', 'f','g','h'])\n",
    "obj2"
   ]
  },
  {
   "cell_type": "code",
   "execution_count": 7,
   "metadata": {},
   "outputs": [
    {
     "name": "stdout",
     "output_type": "stream",
     "text": [
      "b    22\n",
      "c    33\n",
      "d    44\n",
      "e    55\n",
      "dtype: int64\n",
      "77\n",
      "f    66\n",
      "g    77\n",
      "h    88\n",
      "dtype: int64\n"
     ]
    }
   ],
   "source": [
    "# Indexing and slicing DataSeries have the same rules as Numpy arrays\n",
    "print(obj2[1:5])\n",
    "print(obj2['g'])\n",
    "\n",
    "# here we can indexing the values greater than 55\n",
    "print(obj2[obj2>55])"
   ]
  },
  {
   "cell_type": "code",
   "execution_count": 8,
   "metadata": {},
   "outputs": [
    {
     "data": {
      "text/plain": [
       "Ambrosia         sweet\n",
       "Dragonsnap       fiery\n",
       "Elfleaf         earthy\n",
       "Phoenixbloom      airy\n",
       "Trollius         musky\n",
       "dtype: object"
      ]
     },
     "execution_count": 8,
     "metadata": {},
     "output_type": "execute_result"
    }
   ],
   "source": [
    "# Another way to think in Series is as a fixed-length dict.\n",
    "\n",
    "enchanted_garden = {'Ambrosia':'sweet','Dragonsnap':'fiery', 'Elfleaf':'earthy', 'Phoenixbloom':'airy','Trollius':'musky'}\n",
    "obj3 = pd.Series(enchanted_garden)\n",
    "obj3"
   ]
  },
  {
   "cell_type": "code",
   "execution_count": 12,
   "metadata": {},
   "outputs": [
    {
     "name": "stdout",
     "output_type": "stream",
     "text": [
      "Ohio      35000\n",
      "Texas     71000\n",
      "Oregon    16000\n",
      "Utah       5000\n",
      "dtype: int64\n",
      "California        NaN\n",
      "Ohio          35000.0\n",
      "Oregon        16000.0\n",
      "Texas         71000.0\n",
      "dtype: float64\n",
      "California         NaN\n",
      "Ohio           70000.0\n",
      "Oregon         32000.0\n",
      "Texas         142000.0\n",
      "Utah               NaN\n",
      "dtype: float64\n"
     ]
    }
   ],
   "source": [
    "# We can create a Series from a dict\n",
    "sdata = {'Ohio':35000,'Texas':71000,'Oregon':16000,'Utah':5000}\n",
    "obj4 = pd.Series(sdata)\n",
    "print(obj4)\n",
    "\n",
    "# we can override the keys of a already existing dict by passing another list\n",
    "# in the order we want\n",
    "states = ['California', 'Ohio', 'Oregon','Texas']\n",
    "obj5 = pd.Series(sdata, index = states)\n",
    "print(obj5)\n",
    "\n",
    "# we can join the series\n",
    "print(obj4+obj5)"
   ]
  },
  {
   "cell_type": "code",
   "execution_count": null,
   "metadata": {},
   "outputs": [],
   "source": []
  }
 ],
 "metadata": {
  "kernelspec": {
   "display_name": "Python 3",
   "language": "python",
   "name": "python3"
  },
  "language_info": {
   "codemirror_mode": {
    "name": "ipython",
    "version": 3
   },
   "file_extension": ".py",
   "mimetype": "text/x-python",
   "name": "python",
   "nbconvert_exporter": "python",
   "pygments_lexer": "ipython3",
   "version": "3.11.1"
  }
 },
 "nbformat": 4,
 "nbformat_minor": 2
}
