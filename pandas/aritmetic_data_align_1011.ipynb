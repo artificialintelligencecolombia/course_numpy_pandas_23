{
 "cells": [
  {
   "cell_type": "code",
   "execution_count": 1,
   "metadata": {},
   "outputs": [],
   "source": [
    "import pandas as pd\n",
    "import numpy as np"
   ]
  },
  {
   "cell_type": "code",
   "execution_count": 2,
   "metadata": {},
   "outputs": [],
   "source": [
    "\n",
    "s1 = pd.Series([230.5, 232.3, 231.8, 229.9], index= [\"Mon\", \"Wed\", \"Fri\", \"Sun\"])\n",
    "s2 = pd.Series([230.7, 232.1, 231.6, 233.0, 231.9], index= [\"Mon\", \"Tue\", \"Thu\", \"Fri\", \"Sat\"])"
   ]
  },
  {
   "cell_type": "code",
   "execution_count": 14,
   "metadata": {},
   "outputs": [
    {
     "name": "stdout",
     "output_type": "stream",
     "text": [
      "union(s1+s2); \n",
      " Fri    464.8\n",
      "Mon    461.2\n",
      "Sat      NaN\n",
      "Sun      NaN\n",
      "Thu      NaN\n",
      "Tue      NaN\n",
      "Wed      NaN\n",
      "dtype: float64\n"
     ]
    }
   ],
   "source": [
    "# when indexes between 2 or more interacting dataframe dont match, the same\n",
    "# index will be filled with NaN\n",
    "print('union(s1+s2); \\n',s1+s2)"
   ]
  },
  {
   "cell_type": "code",
   "execution_count": 16,
   "metadata": {},
   "outputs": [
    {
     "name": "stdout",
     "output_type": "stream",
     "text": [
      "df1: \n",
      "      a    b     c     d\n",
      "0  0.0  1.0   2.0   3.0\n",
      "1  4.0  5.0   6.0   7.0\n",
      "2  8.0  9.0  10.0  11.0 \n",
      "df2: \n",
      "       a     b     c     d     e\n",
      "0   0.0   1.0   2.0   3.0   4.0\n",
      "1   5.0   6.0   7.0   8.0   9.0\n",
      "2  10.0  11.0  12.0  13.0  14.0\n",
      "3  15.0  16.0  17.0  18.0  19.0\n"
     ]
    }
   ],
   "source": [
    "# Filling values\n",
    "\n",
    "df1 = pd.DataFrame(np.arange(12.).reshape((3, 4)),columns=list('abcd'))\n",
    "df2 = pd.DataFrame(np.arange(20.).reshape((4, 5)),columns=list('abcde'))\n",
    "print('df1: \\n', df1,'\\ndf2: \\n',df2)"
   ]
  },
  {
   "cell_type": "code",
   "execution_count": 3,
   "metadata": {},
   "outputs": [
    {
     "ename": "NameError",
     "evalue": "name 'df1' is not defined",
     "output_type": "error",
     "traceback": [
      "\u001b[1;31m---------------------------------------------------------------------------\u001b[0m",
      "\u001b[1;31mNameError\u001b[0m                                 Traceback (most recent call last)",
      "\u001b[1;32mc:\\Users\\damal\\OneDrive\\Desktop\\IT\\data_science\\course_numpy_pandas_23\\pandas\\aritmetic_data_align_1011.ipynb Cell 5\u001b[0m line \u001b[0;36m3\n\u001b[0;32m      <a href='vscode-notebook-cell:/c%3A/Users/damal/OneDrive/Desktop/IT/data_science/course_numpy_pandas_23/pandas/aritmetic_data_align_1011.ipynb#W4sZmlsZQ%3D%3D?line=0'>1</a>\u001b[0m \u001b[39m# adding 2 dfs with unmatching indexes results in NaN in locations that dont\u001b[39;00m\n\u001b[0;32m      <a href='vscode-notebook-cell:/c%3A/Users/damal/OneDrive/Desktop/IT/data_science/course_numpy_pandas_23/pandas/aritmetic_data_align_1011.ipynb#W4sZmlsZQ%3D%3D?line=1'>2</a>\u001b[0m \u001b[39m# overlap. The new data's size is the same as the biggest.\u001b[39;00m\n\u001b[1;32m----> <a href='vscode-notebook-cell:/c%3A/Users/damal/OneDrive/Desktop/IT/data_science/course_numpy_pandas_23/pandas/aritmetic_data_align_1011.ipynb#W4sZmlsZQ%3D%3D?line=2'>3</a>\u001b[0m \u001b[39mprint\u001b[39m(df1\u001b[39m+\u001b[39mdf2)\n\u001b[0;32m      <a href='vscode-notebook-cell:/c%3A/Users/damal/OneDrive/Desktop/IT/data_science/course_numpy_pandas_23/pandas/aritmetic_data_align_1011.ipynb#W4sZmlsZQ%3D%3D?line=4'>5</a>\u001b[0m \u001b[39m# fill_value fills the unmatched values ('NaN') with the given by the bigger df.\u001b[39;00m\n\u001b[0;32m      <a href='vscode-notebook-cell:/c%3A/Users/damal/OneDrive/Desktop/IT/data_science/course_numpy_pandas_23/pandas/aritmetic_data_align_1011.ipynb#W4sZmlsZQ%3D%3D?line=5'>6</a>\u001b[0m df1\u001b[39m.\u001b[39madd(df2,fill_value\u001b[39m=\u001b[39m\u001b[39m0\u001b[39m)\n",
      "\u001b[1;31mNameError\u001b[0m: name 'df1' is not defined"
     ]
    }
   ],
   "source": [
    "# adding 2 dfs with unmatching indexes results in NaN in locations that dont\n",
    "# overlap. The new data's size is the same as the biggest.\n",
    "print(df1+df2)\n",
    "\n",
    "# fill_value fills the unmatched values ('NaN') with the given by the bigger df.\n",
    "df1.add(df2,fill_value=0)"
   ]
  },
  {
   "cell_type": "code",
   "execution_count": 21,
   "metadata": {},
   "outputs": [
    {
     "name": "stdout",
     "output_type": "stream",
     "text": [
      "1/df: \n",
      "        a         b         c         d\n",
      "0    inf  1.000000  0.500000  0.333333\n",
      "1  0.250  0.200000  0.166667  0.142857\n",
      "2  0.125  0.111111  0.100000  0.090909\n"
     ]
    }
   ],
   "source": [
    "# 1 / df1 is the same as df1.rdiv(1)\n",
    "print('1/df: \\n',df1.rdiv(1))"
   ]
  },
  {
   "cell_type": "code",
   "execution_count": 14,
   "metadata": {},
   "outputs": [
    {
     "name": "stdout",
     "output_type": "stream",
     "text": [
      "frame: \n",
      "    0  1  2\n",
      "a  5  0  3\n",
      "b  3  7  9\n",
      "c  3  5  2\n",
      "d  4  7  6 \n",
      "series: \n",
      " 0    3\n",
      "1    5\n",
      "2    2\n",
      "Name: c, dtype: int32\n"
     ]
    }
   ],
   "source": [
    "# Operating between DataFrame and Series\n",
    "\n",
    "np.random.seed(0)\n",
    "frame = pd.DataFrame(np.random.randint(0,10,12).reshape(4,3), index=list('abcd'))\n",
    "series = frame.loc['c']\n",
    "print('frame: \\n',frame,'\\nseries: \\n',series)\n"
   ]
  },
  {
   "cell_type": "code",
   "execution_count": 15,
   "metadata": {},
   "outputs": [
    {
     "data": {
      "text/html": [
       "<div>\n",
       "<style scoped>\n",
       "    .dataframe tbody tr th:only-of-type {\n",
       "        vertical-align: middle;\n",
       "    }\n",
       "\n",
       "    .dataframe tbody tr th {\n",
       "        vertical-align: top;\n",
       "    }\n",
       "\n",
       "    .dataframe thead th {\n",
       "        text-align: right;\n",
       "    }\n",
       "</style>\n",
       "<table border=\"1\" class=\"dataframe\">\n",
       "  <thead>\n",
       "    <tr style=\"text-align: right;\">\n",
       "      <th></th>\n",
       "      <th>0</th>\n",
       "      <th>1</th>\n",
       "      <th>2</th>\n",
       "    </tr>\n",
       "  </thead>\n",
       "  <tbody>\n",
       "    <tr>\n",
       "      <th>a</th>\n",
       "      <td>2</td>\n",
       "      <td>-5</td>\n",
       "      <td>1</td>\n",
       "    </tr>\n",
       "    <tr>\n",
       "      <th>b</th>\n",
       "      <td>0</td>\n",
       "      <td>2</td>\n",
       "      <td>7</td>\n",
       "    </tr>\n",
       "    <tr>\n",
       "      <th>c</th>\n",
       "      <td>0</td>\n",
       "      <td>0</td>\n",
       "      <td>0</td>\n",
       "    </tr>\n",
       "    <tr>\n",
       "      <th>d</th>\n",
       "      <td>1</td>\n",
       "      <td>2</td>\n",
       "      <td>4</td>\n",
       "    </tr>\n",
       "  </tbody>\n",
       "</table>\n",
       "</div>"
      ],
      "text/plain": [
       "   0  1  2\n",
       "a  2 -5  1\n",
       "b  0  2  7\n",
       "c  0  0  0\n",
       "d  1  2  4"
      ]
     },
     "execution_count": 15,
     "metadata": {},
     "output_type": "execute_result"
    }
   ],
   "source": [
    "# substraction DataFrame - Series. Its perfomed HORIZONTALLY (rows) over the whole\n",
    "# df\n",
    "frame - series"
   ]
  },
  {
   "cell_type": "code",
   "execution_count": null,
   "metadata": {},
   "outputs": [],
   "source": []
  }
 ],
 "metadata": {
  "kernelspec": {
   "display_name": "Python 3",
   "language": "python",
   "name": "python3"
  },
  "language_info": {
   "codemirror_mode": {
    "name": "ipython",
    "version": 3
   },
   "file_extension": ".py",
   "mimetype": "text/x-python",
   "name": "python",
   "nbconvert_exporter": "python",
   "pygments_lexer": "ipython3",
   "version": "3.11.1"
  }
 },
 "nbformat": 4,
 "nbformat_minor": 2
}
