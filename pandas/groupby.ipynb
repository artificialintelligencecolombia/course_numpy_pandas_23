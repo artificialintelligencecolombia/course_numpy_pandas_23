{
 "cells": [
  {
   "cell_type": "code",
   "execution_count": 1,
   "metadata": {},
   "outputs": [],
   "source": [
    "import pandas as pd"
   ]
  },
  {
   "cell_type": "code",
   "execution_count": 4,
   "metadata": {},
   "outputs": [
    {
     "name": "stdout",
     "output_type": "stream",
     "text": [
      "  Category  Values1  Values2\n",
      "0        A       10      100\n",
      "1        A       20       50\n",
      "2        B       10      150\n",
      "3        B       30      100\n",
      "4        C       20      200\n",
      "5        C       30      100\n"
     ]
    }
   ],
   "source": [
    "# group by is the same functionality as sql.\n",
    "\n",
    "data = {\n",
    "    'Category': ['A', 'A', 'B', 'B', 'C', 'C'],\n",
    "    'Values1': [10, 20, 10, 30, 20, 30],\n",
    "    'Values2': [100, 50, 150, 100, 200, 100]\n",
    "}\n",
    "df = pd.DataFrame(data)\n",
    "print(df)\n"
   ]
  },
  {
   "cell_type": "code",
   "execution_count": 3,
   "metadata": {},
   "outputs": [
    {
     "name": "stdout",
     "output_type": "stream",
     "text": [
      "         Values1 Values2\n",
      "             sum     sum\n",
      "Category                \n",
      "A             30     150\n",
      "B             40     250\n",
      "C             50     300\n"
     ]
    }
   ],
   "source": [
    "result = df.groupby('Category').agg(['sum'])\n",
    "print(result)"
   ]
  },
  {
   "cell_type": "code",
   "execution_count": 5,
   "metadata": {},
   "outputs": [
    {
     "name": "stdout",
     "output_type": "stream",
     "text": [
      "         Values1                  Values2                  \n",
      "             sum  mean        std     sum   mean        std\n",
      "Category                                                   \n",
      "A             30  15.0   7.071068     150   75.0  35.355339\n",
      "B             40  20.0  14.142136     250  125.0  35.355339\n",
      "C             50  25.0   7.071068     300  150.0  70.710678\n"
     ]
    }
   ],
   "source": [
    "result = df.groupby('Category').agg(['sum', 'mean', 'std'])\n",
    "print(result)"
   ]
  },
  {
   "cell_type": "code",
   "execution_count": 6,
   "metadata": {},
   "outputs": [],
   "source": [
    "# The agg method is versatile and powerful. It can take:\n",
    "\n",
    "# A single function, which is applied to all columns of each group.\n",
    "# A list of functions, which are all applied to all columns.\n",
    "# A dictionary where keys are column names and values are functions or lists of functions,\n",
    "# allowing different aggregation for different columns."
   ]
  },
  {
   "cell_type": "code",
   "execution_count": 7,
   "metadata": {},
   "outputs": [
    {
     "name": "stdout",
     "output_type": "stream",
     "text": [
      "         Values1       Values2\n",
      "             sum  mean     max\n",
      "Category                      \n",
      "A             30  15.0     100\n",
      "B             40  20.0     150\n",
      "C             50  25.0     200\n"
     ]
    }
   ],
   "source": [
    "result = df.groupby('Category').agg({'Values1': ['sum', 'mean'], 'Values2': 'max'})\n",
    "print(result)"
   ]
  },
  {
   "cell_type": "code",
   "execution_count": null,
   "metadata": {},
   "outputs": [],
   "source": []
  }
 ],
 "metadata": {
  "kernelspec": {
   "display_name": "base",
   "language": "python",
   "name": "python3"
  },
  "language_info": {
   "codemirror_mode": {
    "name": "ipython",
    "version": 3
   },
   "file_extension": ".py",
   "mimetype": "text/x-python",
   "name": "python",
   "nbconvert_exporter": "python",
   "pygments_lexer": "ipython3",
   "version": "3.11.5"
  }
 },
 "nbformat": 4,
 "nbformat_minor": 2
}
