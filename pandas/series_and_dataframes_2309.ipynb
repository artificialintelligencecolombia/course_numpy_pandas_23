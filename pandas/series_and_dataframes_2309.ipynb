{
 "cells": [
  {
   "cell_type": "code",
   "execution_count": 9,
   "metadata": {},
   "outputs": [],
   "source": [
    "import pandas as pd\n",
    "import numpy as np"
   ]
  },
  {
   "cell_type": "code",
   "execution_count": 2,
   "metadata": {},
   "outputs": [
    {
     "name": "stdout",
     "output_type": "stream",
     "text": [
      "0     Braund, Mr. Owen Harris\n",
      "1    Allen, Mr. William Henry\n",
      "2    Bonnell, Miss. Elizabeth\n",
      "dtype: object \n",
      "\n",
      "Person     Braund, Mr. Owen Harris\n",
      "Who       Allen, Mr. William Henry\n",
      "What      Bonnell, Miss. Elizabeth\n",
      "dtype: object \n",
      "\n",
      "524     Braund, Mr. Owen Harris\n",
      "65     Allen, Mr. William Henry\n",
      "785    Allen, Mr. William Henry\n",
      "4       Braund, Mr. Owen Harris\n",
      "45     Allen, Mr. William Henry\n",
      "41     Bonnell, Miss. Elizabeth\n",
      "73     Bonnell, Miss. Elizabeth\n",
      "10      Braund, Mr. Owen Harris\n",
      "dtype: object \n",
      "\n",
      "Allen, Mr. William Henry \n",
      "\n"
     ]
    }
   ],
   "source": [
    "# pd.Series creates a structure similar to the array on \n",
    "# numpy but with indexes\n",
    "random_names = pd.Series([\n",
    "            \"Braund, Mr. Owen Harris\",\n",
    "            \"Allen, Mr. William Henry\",\n",
    "            \"Bonnell, Miss. Elizabeth\",\n",
    "        ])\n",
    "\n",
    "# we can indexind the series however we want. If don't specify\n",
    "# the index,it will be a number\n",
    "random_names2 = pd.Series([\n",
    "            \"Braund, Mr. Owen Harris\",\n",
    "            \"Allen, Mr. William Henry\",\n",
    "            \"Bonnell, Miss. Elizabeth\",\n",
    "        ], index=[\"Person\", \"Who\", \"What\"])\n",
    "\n",
    "# Its possible to integrate a dictionary into a series\n",
    "random_dict = {\n",
    "    524: \"Braund, Mr. Owen Harris\",\n",
    "    65: \"Allen, Mr. William Henry\",\n",
    "    785: \"Bonnell, Miss. Elizabeth\",\n",
    "    4: \"Braund, Mr. Owen Harris\",\n",
    "    45: \"Allen, Mr. William Henry\",\n",
    "    41: \"Bonnell, Miss. Elizabeth\",\n",
    "    785: \"Allen, Mr. William Henry\",\n",
    "    73: \"Bonnell, Miss. Elizabeth\",\n",
    "    10: \"Braund, Mr. Owen Harris\",\n",
    "}\n",
    "\n",
    "dict_series = pd.Series(random_dict)\n",
    "\n",
    "# Print the results\n",
    "print(random_names,\"\\n\")\n",
    "print(random_names2,\"\\n\")\n",
    "print(dict_series,\"\\n\")\n",
    "\n",
    "# we can access to the series by index\n",
    "print(random_names2[\"Who\"],\"\\n\")"
   ]
  },
  {
   "cell_type": "code",
   "execution_count": 3,
   "metadata": {},
   "outputs": [
    {
     "name": "stdout",
     "output_type": "stream",
     "text": [
      "       name  age    position               team\n",
      "0     Messi   32     Forward          Barcelona\n",
      "1   Ronaldo   34     Forward           Juventus\n",
      "2    Neymar   28     Forward                PSG\n",
      "3    Mbappe   21     Forward                PSG\n",
      "4    Hazard   29     Forward        Real Madrid\n",
      "5     Salah   27     Forward          Liverpool\n",
      "6     Pogba   26  Midfielder  Manchester United\n",
      "7      Kane   26     Forward          Tottenham\n",
      "8      Mane   27     Forward          Liverpool\n",
      "9  Sterling   24     Forward    Manchester City \n",
      "\n",
      "Index(['name', 'age', 'position', 'team'], dtype='object') \n",
      "\n",
      "RangeIndex(start=0, stop=10, step=1) \n",
      "\n"
     ]
    }
   ],
   "source": [
    "# pd.DataFrame creates a structure similar to the matrix on numpy\n",
    "# the indexes of the dataframe are defined by the columns names and\n",
    "# the rows.Dataframes are main structures of pandas\n",
    "\n",
    "# create a dataframe from a dictionary\n",
    "football_players = {\n",
    "    \"name\": [\"Messi\", \"Ronaldo\", \"Neymar\", \"Mbappe\", \"Hazard\", \"Salah\", \"Pogba\", \"Kane\", \"Mane\", \"Sterling\"],\n",
    "    \"age\": [32, 34, 28, 21, 29, 27, 26, 26, 27, 24],\n",
    "    \"position\": [\"Forward\", \"Forward\", \"Forward\", \"Forward\", \"Forward\", \"Forward\", \"Midfielder\", \"Forward\", \"Forward\", \"Forward\"],\n",
    "    \"team\": [\"Barcelona\", \"Juventus\", \"PSG\", \"PSG\", \"Real Madrid\", \"Liverpool\", \"Manchester United\", \"Tottenham\", \"Liverpool\", \"Manchester City\"]\n",
    "}\n",
    "\n",
    "football_players_df = pd.DataFrame(football_players)\n",
    "print(football_players_df,\"\\n\")\n",
    "\n",
    "# display the column names and rows\n",
    "\n",
    "print(football_players_df.columns,\"\\n\")\n",
    "print(football_players_df.index,\"\\n\")\n"
   ]
  },
  {
   "cell_type": "code",
   "execution_count": 5,
   "metadata": {},
   "outputs": [
    {
     "data": {
      "text/plain": [
       "2    Neymar\n",
       "3    Mbappe\n",
       "4    Hazard\n",
       "Name: name, dtype: object"
      ]
     },
     "execution_count": 5,
     "metadata": {},
     "output_type": "execute_result"
    }
   ],
   "source": [
    "# indexing a dataframe\n",
    "football_players_df['name'][2:5]"
   ]
  },
  {
   "cell_type": "code",
   "execution_count": 12,
   "metadata": {},
   "outputs": [
    {
     "name": "stdout",
     "output_type": "stream",
     "text": [
      "Data Type: int32\n",
      "Index: RangeIndex(start=0, stop=13, step=1)\n",
      "Shape: (13,)\n",
      "Size: 13\n",
      "Values: [8 5 6 3 7 3 0 1 7 8 3 9 7]\n"
     ]
    }
   ],
   "source": [
    "# 22/11 practice\n",
    "\n",
    "\n",
    "# Create the pandas Series with random integers\n",
    "random_series = pd.Series(np.random.randint(0, 10, 13))\n",
    "print(\"Data Type:\", random_series.dtype)\n",
    "print(\"Index:\", random_series.index)\n",
    "print(\"Shape:\", random_series.shape)\n",
    "print(\"Size:\", random_series.size)\n",
    "print(\"Values:\", random_series.values)"
   ]
  },
  {
   "cell_type": "code",
   "execution_count": 13,
   "metadata": {},
   "outputs": [
    {
     "name": "stdout",
     "output_type": "stream",
     "text": [
      "         Date Stock Symbol    Open    High     Low   Close  Volume\n",
      "0  2023-01-02         AAPL  150.00  152.30  149.90  152.21   90000\n",
      "1  2023-01-03         AAPL  152.41  154.48  151.38  153.31  110000\n",
      "2  2023-01-04         AAPL  153.00  155.22  152.00  154.53  105000\n",
      "3  2023-01-05         AAPL  154.00  156.00  153.50  155.30  103000\n",
      "4  2023-01-06         AAPL  155.00  157.00  154.30  156.00  108000\n"
     ]
    }
   ],
   "source": [
    "# create a pd.DataFrame from a trading stock\n",
    "\n",
    "trading_data = {\n",
    "    \"Date\": [\"2023-01-02\", \"2023-01-03\", \"2023-01-04\", \"2023-01-05\", \"2023-01-06\"],\n",
    "    \"Stock Symbol\": [\"AAPL\", \"AAPL\", \"AAPL\", \"AAPL\", \"AAPL\"],\n",
    "    \"Open\": [150.00, 152.41, 153.00, 154.00, 155.00],\n",
    "    \"High\": [152.30, 154.48, 155.22, 156.00, 157.00],\n",
    "    \"Low\": [149.90, 151.38, 152.00, 153.50, 154.30],\n",
    "    \"Close\": [152.21, 153.31, 154.53, 155.30, 156.00],\n",
    "    \"Volume\": [90000, 110000, 105000, 103000, 108000]\n",
    "}\n",
    "# its just a dictionary\n",
    "\n",
    "trading_data_df = pd.DataFrame(trading_data) \n",
    "print(trading_data_df)\n",
    "\n"
   ]
  },
  {
   "cell_type": "code",
   "execution_count": 19,
   "metadata": {},
   "outputs": [
    {
     "name": "stdout",
     "output_type": "stream",
     "text": [
      "Open col:  [150.0, 152.41, 153.0, 154.0, 155.0]\n",
      "Index(['Date', 'Stock Symbol', 'Open', 'High', 'Low', 'Close', 'Volume'], dtype='object')\n",
      "RangeIndex(start=0, stop=5, step=1)\n"
     ]
    }
   ],
   "source": [
    "print(\"Open col: \",trading_data[\"Open\"]) # prints the column \"Open\"\n",
    "print(trading_data_df.columns) # prints the columns\n",
    "print(trading_data_df.index) # prints the index"
   ]
  },
  {
   "cell_type": "code",
   "execution_count": null,
   "metadata": {},
   "outputs": [],
   "source": []
  }
 ],
 "metadata": {
  "kernelspec": {
   "display_name": "Python 3",
   "language": "python",
   "name": "python3"
  },
  "language_info": {
   "codemirror_mode": {
    "name": "ipython",
    "version": 3
   },
   "file_extension": ".py",
   "mimetype": "text/x-python",
   "name": "python",
   "nbconvert_exporter": "python",
   "pygments_lexer": "ipython3",
   "version": "3.11.1"
  },
  "orig_nbformat": 4
 },
 "nbformat": 4,
 "nbformat_minor": 2
}
