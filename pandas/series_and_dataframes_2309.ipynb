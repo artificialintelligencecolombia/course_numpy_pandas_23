{
 "cells": [
  {
   "cell_type": "code",
   "execution_count": 1,
   "metadata": {},
   "outputs": [],
   "source": [
    "import pandas as pd"
   ]
  },
  {
   "cell_type": "code",
   "execution_count": 14,
   "metadata": {},
   "outputs": [
    {
     "name": "stdout",
     "output_type": "stream",
     "text": [
      "0     Braund, Mr. Owen Harris\n",
      "1    Allen, Mr. William Henry\n",
      "2    Bonnell, Miss. Elizabeth\n",
      "dtype: object \n",
      "\n",
      "Person     Braund, Mr. Owen Harris\n",
      "Who       Allen, Mr. William Henry\n",
      "What      Bonnell, Miss. Elizabeth\n",
      "dtype: object \n",
      "\n",
      "524     Braund, Mr. Owen Harris\n",
      "65     Allen, Mr. William Henry\n",
      "785    Allen, Mr. William Henry\n",
      "4       Braund, Mr. Owen Harris\n",
      "45     Allen, Mr. William Henry\n",
      "41     Bonnell, Miss. Elizabeth\n",
      "73     Bonnell, Miss. Elizabeth\n",
      "10      Braund, Mr. Owen Harris\n",
      "dtype: object \n",
      "\n",
      "Allen, Mr. William Henry \n",
      "\n"
     ]
    }
   ],
   "source": [
    "# pd.Series creates a structure similar to the array on \n",
    "# numpy but with indexes\n",
    "random_names = pd.Series([\n",
    "            \"Braund, Mr. Owen Harris\",\n",
    "            \"Allen, Mr. William Henry\",\n",
    "            \"Bonnell, Miss. Elizabeth\",\n",
    "        ])\n",
    "\n",
    "# we can indexind the series however we want. If don't specify\n",
    "# the index,it will be a number\n",
    "random_names2 = pd.Series([\n",
    "            \"Braund, Mr. Owen Harris\",\n",
    "            \"Allen, Mr. William Henry\",\n",
    "            \"Bonnell, Miss. Elizabeth\",\n",
    "        ], index=[\"Person\", \"Who\", \"What\"])\n",
    "\n",
    "# Its possible to integrate a dictionary into a series\n",
    "random_dict = {\n",
    "    524: \"Braund, Mr. Owen Harris\",\n",
    "    65: \"Allen, Mr. William Henry\",\n",
    "    785: \"Bonnell, Miss. Elizabeth\",\n",
    "    4: \"Braund, Mr. Owen Harris\",\n",
    "    45: \"Allen, Mr. William Henry\",\n",
    "    41: \"Bonnell, Miss. Elizabeth\",\n",
    "    785: \"Allen, Mr. William Henry\",\n",
    "    73: \"Bonnell, Miss. Elizabeth\",\n",
    "    10: \"Braund, Mr. Owen Harris\",\n",
    "}\n",
    "\n",
    "dict_series = pd.Series(random_dict)\n",
    "\n",
    "# Print the results\n",
    "print(random_names,\"\\n\")\n",
    "print(random_names2,\"\\n\")\n",
    "print(dict_series,\"\\n\")\n",
    "\n",
    "# we can access to the series by index\n",
    "print(random_names2[\"Who\"],\"\\n\")"
   ]
  },
  {
   "cell_type": "code",
   "execution_count": 16,
   "metadata": {},
   "outputs": [
    {
     "name": "stdout",
     "output_type": "stream",
     "text": [
      "       name  age    position               team\n",
      "0     Messi   32     Forward          Barcelona\n",
      "1   Ronaldo   34     Forward           Juventus\n",
      "2    Neymar   28     Forward                PSG\n",
      "3    Mbappe   21     Forward                PSG\n",
      "4    Hazard   29     Forward        Real Madrid\n",
      "5     Salah   27     Forward          Liverpool\n",
      "6     Pogba   26  Midfielder  Manchester United\n",
      "7      Kane   26     Forward          Tottenham\n",
      "8      Mane   27     Forward          Liverpool\n",
      "9  Sterling   24     Forward    Manchester City \n",
      "\n",
      "Index(['name', 'age', 'position', 'team'], dtype='object') \n",
      "\n",
      "RangeIndex(start=0, stop=10, step=1) \n",
      "\n"
     ]
    }
   ],
   "source": [
    "# pd.DataFrame creates a structure similar to the matrix on numpy\n",
    "# the indexes of the dataframe are defined by the columns names and\n",
    "# the rows.Dataframes are main structures of pandas\n",
    "\n",
    "# create a dataframe from a dictionary\n",
    "football_players = {\n",
    "    \"name\": [\"Messi\", \"Ronaldo\", \"Neymar\", \"Mbappe\", \"Hazard\", \"Salah\", \"Pogba\", \"Kane\", \"Mane\", \"Sterling\"],\n",
    "    \"age\": [32, 34, 28, 21, 29, 27, 26, 26, 27, 24],\n",
    "    \"position\": [\"Forward\", \"Forward\", \"Forward\", \"Forward\", \"Forward\", \"Forward\", \"Midfielder\", \"Forward\", \"Forward\", \"Forward\"],\n",
    "    \"team\": [\"Barcelona\", \"Juventus\", \"PSG\", \"PSG\", \"Real Madrid\", \"Liverpool\", \"Manchester United\", \"Tottenham\", \"Liverpool\", \"Manchester City\"]\n",
    "}\n",
    "\n",
    "football_players_df = pd.DataFrame(football_players)\n",
    "print(football_players_df,\"\\n\")\n",
    "\n",
    "# display the column names and rows\n",
    "\n",
    "print(football_players_df.columns,\"\\n\")\n",
    "print(football_players_df.index,\"\\n\")\n"
   ]
  },
  {
   "cell_type": "code",
   "execution_count": null,
   "metadata": {},
   "outputs": [],
   "source": []
  }
 ],
 "metadata": {
  "kernelspec": {
   "display_name": "Python 3",
   "language": "python",
   "name": "python3"
  },
  "language_info": {
   "codemirror_mode": {
    "name": "ipython",
    "version": 3
   },
   "file_extension": ".py",
   "mimetype": "text/x-python",
   "name": "python",
   "nbconvert_exporter": "python",
   "pygments_lexer": "ipython3",
   "version": "3.11.1"
  },
  "orig_nbformat": 4
 },
 "nbformat": 4,
 "nbformat_minor": 2
}
