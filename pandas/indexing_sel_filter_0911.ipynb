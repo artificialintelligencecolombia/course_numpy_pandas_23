{
 "cells": [
  {
   "cell_type": "code",
   "execution_count": 1,
   "metadata": {},
   "outputs": [],
   "source": [
    "import pandas as pd\n",
    "import numpy as np"
   ]
  },
  {
   "cell_type": "code",
   "execution_count": 17,
   "metadata": {},
   "outputs": [
    {
     "name": "stdout",
     "output_type": "stream",
     "text": [
      "df: \n",
      " agua      0\n",
      "tierra    1\n",
      "fuego     2\n",
      "aire      3\n",
      "eter      4\n",
      "dtype: int32\n",
      "\n",
      "df['tierra']:  1\n",
      "df['fuego']:  2\n"
     ]
    }
   ],
   "source": [
    "# indexing\n",
    "\n",
    "df = pd.Series(np.arange(5), index=['agua','tierra','fuego','aire','eter'])\n",
    "print('df: \\n',df)\n",
    "\n",
    "# indexing can work with the index value or the rows count. It only works with\n",
    "# pandas series\n",
    "\n",
    "print(\"\\ndf['tierra']: \",df['tierra'])\n",
    "print(\"df['fuego']: \",df[2])"
   ]
  },
  {
   "cell_type": "code",
   "execution_count": 22,
   "metadata": {},
   "outputs": [
    {
     "name": "stdout",
     "output_type": "stream",
     "text": [
      "df[:3]:  agua      0\n",
      "tierra    1\n",
      "fuego     2\n",
      "dtype: int32\n",
      "\n",
      "df: \n",
      " agua      True\n",
      "tierra    True\n",
      "fuego     True\n",
      "aire      True\n",
      "eter      True\n",
      "dtype: bool\n"
     ]
    }
   ],
   "source": [
    "# filtering\n",
    "\n",
    "print('df[:3]: ',df[:3])\n",
    "print('\\ndf: \\n', df < 10)"
   ]
  },
  {
   "cell_type": "code",
   "execution_count": null,
   "metadata": {},
   "outputs": [],
   "source": []
  }
 ],
 "metadata": {
  "kernelspec": {
   "display_name": "Python 3",
   "language": "python",
   "name": "python3"
  },
  "language_info": {
   "codemirror_mode": {
    "name": "ipython",
    "version": 3
   },
   "file_extension": ".py",
   "mimetype": "text/x-python",
   "name": "python",
   "nbconvert_exporter": "python",
   "pygments_lexer": "ipython3",
   "version": "3.11.1"
  }
 },
 "nbformat": 4,
 "nbformat_minor": 2
}
