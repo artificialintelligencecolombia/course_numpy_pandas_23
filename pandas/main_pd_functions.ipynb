{
 "cells": [
  {
   "cell_type": "code",
   "execution_count": 2,
   "metadata": {},
   "outputs": [],
   "source": [
    "import pandas as pd\n",
    "import numpy as np"
   ]
  },
  {
   "cell_type": "code",
   "execution_count": null,
   "metadata": {},
   "outputs": [],
   "source": [
    "# pd.info -> provides the information of the data frame\n",
    "# pd.describe -> provide the statistics about the numeric columns \n",
    "# pd.head()/ pd.tail() -> prints the 5 first/last records.\n",
    "# df.memory_usage(deep=True) -> prints the memory usage\n",
    "# df['Columns'].value_counts() -> counts the records per column's value\n",
    "# df.drop_duplicates() -> drop any record with duplicate values\n",
    "# df.drop_duplicates(keep='last') -> drop the first duplicates, keep the last\n",
    "# df.sort_values('Column', ascending=True) -> sort according to a column from lowe to higher in Column"
   ]
  }
 ],
 "metadata": {
  "kernelspec": {
   "display_name": "base",
   "language": "python",
   "name": "python3"
  },
  "language_info": {
   "codemirror_mode": {
    "name": "ipython",
    "version": 3
   },
   "file_extension": ".py",
   "mimetype": "text/x-python",
   "name": "python",
   "nbconvert_exporter": "python",
   "pygments_lexer": "ipython3",
   "version": "3.11.5"
  }
 },
 "nbformat": 4,
 "nbformat_minor": 2
}
