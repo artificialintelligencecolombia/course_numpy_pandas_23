{
 "cells": [
  {
   "cell_type": "code",
   "execution_count": 19,
   "metadata": {},
   "outputs": [],
   "source": [
    "import pandas as pd\n",
    "import numpy as np"
   ]
  },
  {
   "cell_type": "code",
   "execution_count": 5,
   "metadata": {},
   "outputs": [
    {
     "name": "stdout",
     "output_type": "stream",
     "text": [
      "frame.head(): \n",
      "     state  year  pop\n",
      "0    Ohio  2000  1.5\n",
      "1    Ohio  2001  1.7\n",
      "2    Ohio  2002  3.6\n",
      "3  Nevada  2001  2.4\n",
      "4  Nevada  2002  2.9\n"
     ]
    }
   ],
   "source": [
    "# a dataframe contains an ordered collection of columns, each with different \n",
    "# value type. DataFrames has both row and columns index.\n",
    "data = {\n",
    "    'state': ['Ohio', 'Ohio', 'Ohio', 'Nevada', 'Nevada', 'Nevada'],\n",
    "    'year': [2000, 2001, 2002, 2001, 2002, 2003],\n",
    "    'pop': [1.5, 1.7, 3.6, 2.4, 2.9, 3.2]}\n",
    "\n",
    "# dataframe construction\n",
    "frame = pd.DataFrame(data)\n",
    "\n",
    "# head() method selects the first 5 rows\n",
    "print('frame.head(): \\n',frame.head())"
   ]
  },
  {
   "cell_type": "code",
   "execution_count": 15,
   "metadata": {},
   "outputs": [
    {
     "name": "stdout",
     "output_type": "stream",
     "text": [
      "frame2: \n",
      "        pop  year   state debt\n",
      "one    1.5  2000    Ohio  NaN\n",
      "two    1.7  2001    Ohio  NaN\n",
      "three  3.6  2002    Ohio  NaN\n",
      "four   2.4  2001  Nevada  NaN\n",
      "five   2.9  2002  Nevada  NaN\n",
      "six    3.2  2003  Nevada  NaN\n",
      "columns: \n",
      " Index(['pop', 'year', 'state', 'debt'], dtype='object')\n"
     ]
    }
   ],
   "source": [
    "# passing new columns it will contain Nan values\n",
    "\n",
    "frame2 = pd.DataFrame(data, columns=['pop','year','state','debt'], index=['one', 'two', 'three', 'four','five', 'six'])\n",
    "print('frame2: \\n',frame2)\n",
    "print('columns: \\n',frame2.columns)"
   ]
  },
  {
   "cell_type": "code",
   "execution_count": 16,
   "metadata": {},
   "outputs": [
    {
     "name": "stdout",
     "output_type": "stream",
     "text": [
      "Dict notation => frame2[state]: \n",
      " one        Ohio\n",
      "two        Ohio\n",
      "three      Ohio\n",
      "four     Nevada\n",
      "five     Nevada\n",
      "six      Nevada\n",
      "Name: state, dtype: object\n",
      "\n",
      "\n",
      "Attribute notation => frame2.pop: \n",
      " <bound method DataFrame.pop of        pop  year   state debt\n",
      "one    1.5  2000    Ohio  NaN\n",
      "two    1.7  2001    Ohio  NaN\n",
      "three  3.6  2002    Ohio  NaN\n",
      "four   2.4  2001  Nevada  NaN\n",
      "five   2.9  2002  Nevada  NaN\n",
      "six    3.2  2003  Nevada  NaN>\n"
     ]
    }
   ],
   "source": [
    "# Columns can be retrieved as Series and can be sliced and indexed\n",
    "\n",
    "print('Dict notation => frame2[state]: \\n',frame2['state'])\n",
    "print('\\n\\nAttribute notation => frame2.pop: \\n',frame2.pop)"
   ]
  },
  {
   "cell_type": "code",
   "execution_count": 31,
   "metadata": {},
   "outputs": [
    {
     "name": "stdout",
     "output_type": "stream",
     "text": [
      "frame2: \n",
      "        pop  year   state  debt\n",
      "one    1.5  2000    Ohio  16.5\n",
      "two    1.7  2001    Ohio  16.5\n",
      "three  3.6  2002    Ohio  16.5\n",
      "four   2.4  2001  Nevada  16.5\n",
      "five   2.9  2002  Nevada  16.5\n",
      "six    3.2  2003  Nevada  16.5\n",
      "frame2: \n",
      "        pop  year   state  debt\n",
      "one    1.5  2000    Ohio     0\n",
      "two    1.7  2001    Ohio     1\n",
      "three  3.6  2002    Ohio     2\n",
      "four   2.4  2001  Nevada     3\n",
      "five   2.9  2002  Nevada     4\n",
      "six    3.2  2003  Nevada     5\n",
      "frame2: \n",
      "        pop  year   state  debt\n",
      "one    1.5  2000    Ohio   1.8\n",
      "two    1.7  2001    Ohio   NaN\n",
      "three  3.6  2002    Ohio   NaN\n",
      "four   2.4  2001  Nevada   0.5\n",
      "five   2.9  2002  Nevada   NaN\n",
      "six    3.2  2003  Nevada   3.4\n",
      "frame2: \n",
      "        pop  year   state  debt  eastern\n",
      "one    1.5  2000    Ohio   1.8     True\n",
      "two    1.7  2001    Ohio   NaN     True\n",
      "three  3.6  2002    Ohio   NaN     True\n",
      "four   2.4  2001  Nevada   0.5    False\n",
      "five   2.9  2002  Nevada   NaN    False\n",
      "six    3.2  2003  Nevada   3.4    False\n"
     ]
    }
   ],
   "source": [
    "# columns can be modified ay assignment\n",
    "frame2.debt = 16.5\n",
    "print('frame2: \\n',frame2)\n",
    "\n",
    "# column modification by assignment an array\n",
    "frame2['debt'] = np.arange(6)\n",
    "print('frame2: \\n',frame2)\n",
    "\n",
    "# selective modification by index assignment\n",
    "values = pd.Series([0.5,1.8,3.4], index=['four','one','six'])\n",
    "frame2.debt = values\n",
    "print('frame2: \\n',frame2)\n",
    "\n",
    "# adding new column of booleans\n",
    "frame2['eastern'] = frame2.state == 'Ohio'\n",
    "print('frame2: \\n',frame2)"
   ]
  },
  {
   "cell_type": "code",
   "execution_count": 34,
   "metadata": {},
   "outputs": [
    {
     "name": "stdout",
     "output_type": "stream",
     "text": [
      "frame2: \n",
      "        pop  year   state  debt\n",
      "one    1.5  2000    Ohio   1.8\n",
      "two    1.7  2001    Ohio   NaN\n",
      "three  3.6  2002    Ohio   NaN\n",
      "four   2.4  2001  Nevada   0.5\n",
      "five   2.9  2002  Nevada   NaN\n",
      "six    3.2  2003  Nevada   3.4\n",
      "columns: \n",
      " Index(['pop', 'year', 'state', 'debt'], dtype='object')\n"
     ]
    }
   ],
   "source": [
    "# del method is used to remove a column\n",
    "del frame2['eastern']\n",
    "print('frame2: \\n',frame2)\n",
    "print('columns: \\n',frame2.columns)\n"
   ]
  },
  {
   "cell_type": "code",
   "execution_count": 39,
   "metadata": {},
   "outputs": [
    {
     "name": "stdout",
     "output_type": "stream",
     "text": [
      "Dataframe: \n",
      "         Nevada    Ohio\n",
      "2020  155000.0  310000\n",
      "2021  160000.0  320000\n",
      "2019       NaN  300000\n",
      "\n",
      "\n",
      "DataFrame Transpose: \n",
      "             2020      2021      2019\n",
      "Nevada  155000.0  160000.0       NaN\n",
      "Ohio    310000.0  320000.0  300000.0\n"
     ]
    }
   ],
   "source": [
    "# nested dict can be passed for DataFrame\n",
    "population_data = {\n",
    "    'Nevada': {'2020': 155000, '2021': 160000},\n",
    "    'Ohio': {'2019': 300000, '2020': 310000, '2021': 320000},\n",
    "}\n",
    "df3 = pd.DataFrame(population_data)\n",
    "print('Dataframe: \\n', df3)\n",
    "\n",
    "# transpose can be used as well\n",
    "print('\\n\\nDataFrame Transpose: \\n',df3.T)"
   ]
  },
  {
   "cell_type": "code",
   "execution_count": 46,
   "metadata": {},
   "outputs": [
    {
     "name": "stdout",
     "output_type": "stream",
     "text": [
      "df2: \n",
      "         Nevada      Ohio\n",
      "2020  155000.0  310000.0\n",
      "2021  160000.0  320000.0\n",
      "2022       NaN       NaN\n",
      "\n",
      "index name:  year\n",
      "\n",
      "DataFrame values: \n",
      " [[155000. 310000.]\n",
      " [160000. 320000.]\n",
      " [    nan     nan]]\n"
     ]
    }
   ],
   "source": [
    "# by specifying the index, it will take the values from the dict\n",
    "# and will create the missing values\n",
    "df2 = pd.DataFrame(population_data, index=['2020','2021','2022'])\n",
    "print('df2: \\n',df2)\n",
    "\n",
    "# we can name the index and the columns\n",
    "df2.index.name = 'year'\n",
    "df2.columns.name = 'state'\n",
    "\n",
    "# df.values return the data contained in the dataframe\n",
    "print('\\nindex name: ',df2.index.name)\n",
    "print('\\nDataFrame values: \\n',df2.values)"
   ]
  },
  {
   "cell_type": "code",
   "execution_count": null,
   "metadata": {},
   "outputs": [],
   "source": []
  }
 ],
 "metadata": {
  "kernelspec": {
   "display_name": "Python 3",
   "language": "python",
   "name": "python3"
  },
  "language_info": {
   "codemirror_mode": {
    "name": "ipython",
    "version": 3
   },
   "file_extension": ".py",
   "mimetype": "text/x-python",
   "name": "python",
   "nbconvert_exporter": "python",
   "pygments_lexer": "ipython3",
   "version": "3.11.1"
  }
 },
 "nbformat": 4,
 "nbformat_minor": 2
}
