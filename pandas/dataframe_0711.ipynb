{
 "cells": [
  {
   "cell_type": "code",
   "execution_count": 1,
   "metadata": {},
   "outputs": [],
   "source": [
    "import pandas as pd"
   ]
  },
  {
   "cell_type": "code",
   "execution_count": 6,
   "metadata": {},
   "outputs": [],
   "source": [
    "# a dataframe contains an ordered collection of columns, each with different \n",
    "# value type. DataFrames has both row and columns index.\n",
    "data = {\n",
    "    'departamento':['Amazonas', 'Antioquia', 'Arauca', 'Atlántico', 'Bolívar', 'Boyacá','Caldas', 'Caquetá', 'Casanare'],\n",
    "    'capital': ['Leticia', 'Medellin', 'Arauca', 'Barranquilla','Cartagena','Tunja','Manizales','Florencia','Yopal'],\n",
    "    'population':[80000, 6678000, 260000, 2400000, 2050000, 1200000, 998000, 490000, 350000],\n",
    "}"
   ]
  },
  {
   "cell_type": "code",
   "execution_count": 21,
   "metadata": {},
   "outputs": [
    {
     "name": "stdout",
     "output_type": "stream",
     "text": [
      "  departamento       capital  population\n",
      "0     Amazonas       Leticia       80000\n",
      "1    Antioquia      Medellin     6678000\n",
      "2       Arauca        Arauca      260000\n",
      "3    Atlántico  Barranquilla     2400000\n",
      "4      Bolívar     Cartagena     2050000\n",
      "5       Boyacá         Tunja     1200000\n",
      "6       Caldas     Manizales      998000\n",
      "7      Caquetá     Florencia      490000\n",
      "8     Casanare         Yopal      350000\n",
      "      departamento       capital  population econo_rank\n",
      "one       Amazonas       Leticia       80000        NaN\n",
      "two      Antioquia      Medellin     6678000        NaN\n",
      "three       Arauca        Arauca      260000        NaN\n",
      "four     Atlántico  Barranquilla     2400000        NaN\n",
      "five       Bolívar     Cartagena     2050000        NaN\n",
      "six         Boyacá         Tunja     1200000        NaN\n",
      "seven       Caldas     Manizales      998000        NaN\n",
      "eight      Caquetá     Florencia      490000        NaN\n",
      "nine      Casanare         Yopal      350000        NaN\n"
     ]
    }
   ],
   "source": [
    "# pd.DataFrame converts the dictionary to a DataFrame\n",
    "\n",
    "df = pd.DataFrame(data)\n",
    "print(df)\n",
    "\n",
    "# we can add a new column by appending it in column array (empty array)\n",
    "df2 = pd.DataFrame(data, columns=['departamento', 'capital','population','econo_rank'],index=['one', 'two', 'three', 'four','five', 'six','seven','eight','nine'])\n",
    "print(df2)"
   ]
  },
  {
   "cell_type": "code",
   "execution_count": 22,
   "metadata": {},
   "outputs": [
    {
     "name": "stdout",
     "output_type": "stream",
     "text": [
      "capitales: \n",
      " one           Leticia\n",
      "two          Medellin\n",
      "three          Arauca\n",
      "four     Barranquilla\n",
      "five        Cartagena\n",
      "six             Tunja\n",
      "seven       Manizales\n",
      "eight       Florencia\n",
      "nine            Yopal\n",
      "Name: capital, dtype: object\n",
      "\n",
      "\n",
      "capitales: \n",
      " one           Leticia\n",
      "two          Medellin\n",
      "three          Arauca\n",
      "four     Barranquilla\n",
      "five        Cartagena\n",
      "six             Tunja\n",
      "seven       Manizales\n",
      "eight       Florencia\n",
      "nine            Yopal\n",
      "Name: capital, dtype: object\n"
     ]
    }
   ],
   "source": [
    "# indexing & slicing\n",
    "\n",
    "print('capitales: \\n',df2['capital'])\n",
    "print('\\n\\ncapitales: \\n',df2.capital)"
   ]
  },
  {
   "cell_type": "code",
   "execution_count": 23,
   "metadata": {},
   "outputs": [
    {
     "name": "stdout",
     "output_type": "stream",
     "text": [
      "      departamento       capital  population  econo_rank\n",
      "one       Amazonas       Leticia       80000         NaN\n",
      "two      Antioquia      Medellin     6678000         2.0\n",
      "three       Arauca        Arauca      260000        14.0\n",
      "four     Atlántico  Barranquilla     2400000         NaN\n",
      "five       Bolívar     Cartagena     2050000        13.0\n",
      "six         Boyacá         Tunja     1200000         NaN\n",
      "seven       Caldas     Manizales      998000         NaN\n",
      "eight      Caquetá     Florencia      490000         6.0\n",
      "nine      Casanare         Yopal      350000         NaN\n"
     ]
    }
   ],
   "source": [
    "# column modification by assignment. Here we assigned to econo_rank column\n",
    "# certain values according to the index we defined in the Series of the appended\n",
    "# column\n",
    "economic_rank = pd.Series([14,2,6,13], index = ['three','two','eight','five'])\n",
    "df2['econo_rank'] = economic_rank\n",
    "print(df2)"
   ]
  },
  {
   "cell_type": "code",
   "execution_count": null,
   "metadata": {},
   "outputs": [],
   "source": []
  }
 ],
 "metadata": {
  "kernelspec": {
   "display_name": "Python 3",
   "language": "python",
   "name": "python3"
  },
  "language_info": {
   "codemirror_mode": {
    "name": "ipython",
    "version": 3
   },
   "file_extension": ".py",
   "mimetype": "text/x-python",
   "name": "python",
   "nbconvert_exporter": "python",
   "pygments_lexer": "ipython3",
   "version": "3.11.1"
  }
 },
 "nbformat": 4,
 "nbformat_minor": 2
}
