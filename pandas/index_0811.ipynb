{
 "cells": [
  {
   "cell_type": "code",
   "execution_count": 1,
   "metadata": {},
   "outputs": [],
   "source": [
    "import pandas as pd\n",
    "import numpy as np"
   ]
  },
  {
   "cell_type": "code",
   "execution_count": 3,
   "metadata": {},
   "outputs": [
    {
     "name": "stdout",
     "output_type": "stream",
     "text": [
      "obj: \n",
      " a    0\n",
      "b    1\n",
      "c    2\n",
      "dtype: int64\n",
      "Index(['a', 'b', 'c'], dtype='object')\n"
     ]
    }
   ],
   "source": [
    "# indexes are any sequence of labels used in a pandas Series\n",
    "obj = pd.Series(range(3), index=['a','b','c'])\n",
    "print('obj: \\n',obj)\n",
    "print(obj.index)"
   ]
  },
  {
   "cell_type": "code",
   "execution_count": 7,
   "metadata": {},
   "outputs": [
    {
     "name": "stdout",
     "output_type": "stream",
     "text": [
      "indexes: Index(['a', 'b', 'c'], dtype='object')\n",
      "b\n"
     ]
    }
   ],
   "source": [
    "# indexes are inmutable\n",
    "index = obj.index\n",
    "print('indexes:', index)\n",
    "\n",
    "# index[1] = 'd' ERROR\n",
    "print(index[1])"
   ]
  },
  {
   "cell_type": "code",
   "execution_count": 11,
   "metadata": {},
   "outputs": [
    {
     "name": "stdout",
     "output_type": "stream",
     "text": [
      "0   -0.617775\n",
      "1   -0.307864\n",
      "2   -0.095126\n",
      "3    0.555330\n",
      "4    1.622142\n",
      "5   -0.426977\n",
      "6    0.075549\n",
      "7   -0.557997\n",
      "8    1.696448\n",
      "9    0.475880\n",
      "dtype: float64\n"
     ]
    }
   ],
   "source": [
    "# indexing from a array\n",
    "obj4 = pd.Series(np.random.randn(10), index=np.arange(10))\n",
    "print(obj4)"
   ]
  },
  {
   "cell_type": "code",
   "execution_count": 20,
   "metadata": {},
   "outputs": [
    {
     "data": {
      "text/plain": [
       "15          Stock Market\n",
       "10                 Bonds\n",
       "10           Real Estate\n",
       "10      Foreign Exchange\n",
       "10           Commodities\n",
       "10           Derivatives\n",
       "10       Risk Management\n",
       "10             Insurance\n",
       "10               Banking\n",
       "5     Financial Planning\n",
       "dtype: object"
      ]
     },
     "execution_count": 20,
     "metadata": {},
     "output_type": "execute_result"
    }
   ],
   "source": [
    "# 22/11 Practice\n",
    "\n",
    "# We're going to practice over this series\n",
    "\n",
    "# Defining a list of finance universe elements\n",
    "finance_elements = [\n",
    "    \"Stock Market\",\n",
    "    \"Bonds\",\n",
    "    \"Real Estate\",\n",
    "    \"Foreign Exchange\",\n",
    "    \"Commodities\",\n",
    "    \"Derivatives\",\n",
    "    \"Risk Management\",\n",
    "    \"Insurance\",\n",
    "    \"Banking\",\n",
    "    \"Financial Planning\"\n",
    "]\n",
    "\n",
    "# Defining a hypothetical percentage of importance for each element\n",
    "importance_percentages = [15, 10, 10, 10, 10, 10, 10, 10, 10, 5]\n",
    "\n",
    "# Creating the pd.Series\n",
    "finance_knowledge_series = pd.Series(finance_elements, index=importance_percentages)\n",
    "\n",
    "finance_knowledge_series\n"
   ]
  },
  {
   "cell_type": "code",
   "execution_count": 24,
   "metadata": {},
   "outputs": [
    {
     "data": {
      "text/plain": [
       "15    Stock Market\n",
       "10           Bonds\n",
       "10     Real Estate\n",
       "dtype: object"
      ]
     },
     "execution_count": 24,
     "metadata": {},
     "output_type": "execute_result"
    }
   ],
   "source": [
    "finance_knowledge_series[0:3]"
   ]
  },
  {
   "cell_type": "code",
   "execution_count": null,
   "metadata": {},
   "outputs": [],
   "source": []
  }
 ],
 "metadata": {
  "kernelspec": {
   "display_name": "Python 3",
   "language": "python",
   "name": "python3"
  },
  "language_info": {
   "codemirror_mode": {
    "name": "ipython",
    "version": 3
   },
   "file_extension": ".py",
   "mimetype": "text/x-python",
   "name": "python",
   "nbconvert_exporter": "python",
   "pygments_lexer": "ipython3",
   "version": "3.11.1"
  }
 },
 "nbformat": 4,
 "nbformat_minor": 2
}
