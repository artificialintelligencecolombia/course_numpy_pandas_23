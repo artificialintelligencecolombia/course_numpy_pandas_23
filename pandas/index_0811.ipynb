{
 "cells": [
  {
   "cell_type": "code",
   "execution_count": 1,
   "metadata": {},
   "outputs": [],
   "source": [
    "import pandas as pd\n",
    "import numpy as np"
   ]
  },
  {
   "cell_type": "code",
   "execution_count": 3,
   "metadata": {},
   "outputs": [
    {
     "name": "stdout",
     "output_type": "stream",
     "text": [
      "obj: \n",
      " a    0\n",
      "b    1\n",
      "c    2\n",
      "dtype: int64\n",
      "Index(['a', 'b', 'c'], dtype='object')\n"
     ]
    }
   ],
   "source": [
    "# indexes are any sequence of labels used in a pandas Series\n",
    "obj = pd.Series(range(3), index=['a','b','c'])\n",
    "print('obj: \\n',obj)\n",
    "print(obj.index)"
   ]
  },
  {
   "cell_type": "code",
   "execution_count": 7,
   "metadata": {},
   "outputs": [
    {
     "name": "stdout",
     "output_type": "stream",
     "text": [
      "indexes: Index(['a', 'b', 'c'], dtype='object')\n",
      "b\n"
     ]
    }
   ],
   "source": [
    "# indexes are inmutable\n",
    "index = obj.index\n",
    "print('indexes:', index)\n",
    "\n",
    "# index[1] = 'd' ERROR\n",
    "print(index[1])"
   ]
  },
  {
   "cell_type": "code",
   "execution_count": 11,
   "metadata": {},
   "outputs": [
    {
     "name": "stdout",
     "output_type": "stream",
     "text": [
      "0   -0.617775\n",
      "1   -0.307864\n",
      "2   -0.095126\n",
      "3    0.555330\n",
      "4    1.622142\n",
      "5   -0.426977\n",
      "6    0.075549\n",
      "7   -0.557997\n",
      "8    1.696448\n",
      "9    0.475880\n",
      "dtype: float64\n"
     ]
    }
   ],
   "source": [
    "# indexing from a array\n",
    "obj4 = pd.Series(np.random.randn(10), index=np.arange(10))\n",
    "print(obj4)"
   ]
  },
  {
   "cell_type": "code",
   "execution_count": null,
   "metadata": {},
   "outputs": [],
   "source": []
  }
 ],
 "metadata": {
  "kernelspec": {
   "display_name": "Python 3",
   "language": "python",
   "name": "python3"
  },
  "language_info": {
   "codemirror_mode": {
    "name": "ipython",
    "version": 3
   },
   "file_extension": ".py",
   "mimetype": "text/x-python",
   "name": "python",
   "nbconvert_exporter": "python",
   "pygments_lexer": "ipython3",
   "version": "3.11.1"
  }
 },
 "nbformat": 4,
 "nbformat_minor": 2
}
