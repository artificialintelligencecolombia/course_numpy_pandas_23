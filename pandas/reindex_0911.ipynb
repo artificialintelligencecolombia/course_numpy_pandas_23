{
 "cells": [
  {
   "cell_type": "code",
   "execution_count": 1,
   "metadata": {},
   "outputs": [],
   "source": [
    "import pandas as pd\n",
    "import numpy as np"
   ]
  },
  {
   "cell_type": "code",
   "execution_count": 5,
   "metadata": {},
   "outputs": [
    {
     "name": "stdout",
     "output_type": "stream",
     "text": [
      "obj: \n",
      " d    4.5\n",
      "b    7.2\n",
      "a   -5.3\n",
      "c    3.6\n",
      "f   -0.9\n",
      "i    7.4\n",
      "dtype: float64\n",
      "obj2: \n",
      " a   -5.3\n",
      "b    7.2\n",
      "c    3.6\n",
      "d    4.5\n",
      "e    NaN\n",
      "dtype: float64\n"
     ]
    }
   ],
   "source": [
    "# reindex rearrange data according to new index. It can alter both rows\n",
    "# or columns. reindex creates a new data frame\n",
    "\n",
    "obj = pd.Series([4.5, 7.2, -5.3, 3.6, -0.9, 7.4], index=['d', 'b', 'a', 'c', 'f', 'i'])\n",
    "# data and index has the same number of elements\n",
    "print('obj: \\n',obj)\n",
    "\n",
    "# reindex\n",
    "obj2 = obj.reindex(['a','b','c','d','e'])\n",
    "print('obj2: \\n',obj2)"
   ]
  },
  {
   "cell_type": "code",
   "execution_count": 9,
   "metadata": {},
   "outputs": [
    {
     "name": "stdout",
     "output_type": "stream",
     "text": [
      "obj4: \n",
      " 0        red\n",
      "1        red\n",
      "2      green\n",
      "3      green\n",
      "4       blue\n",
      "5       blue\n",
      "6     purple\n",
      "7     purple\n",
      "8      brown\n",
      "9      brown\n",
      "10     brown\n",
      "11     brown\n",
      "dtype: object\n"
     ]
    }
   ],
   "source": [
    "# method='ffill' fills new indexes with the last value\n",
    "\n",
    "obj3 = pd.Series(['red', 'green', 'blue','purple', 'brown'], index=[0,2,4,6,8])\n",
    "\n",
    "# ffill \n",
    "obj4 = obj3.reindex(range(12), method='ffill')\n",
    "print('obj4: \\n',obj4)"
   ]
  },
  {
   "cell_type": "code",
   "execution_count": 14,
   "metadata": {},
   "outputs": [
    {
     "name": "stdout",
     "output_type": "stream",
     "text": [
      "frame: \n",
      "    Medellin  Rionegro  Guarne\n",
      "a         0         1       2\n",
      "b         3         4       5\n",
      "c         6         7       8\n",
      "frame reindexed: \n",
      "    Medellin  Rionegro  Guarne\n",
      "a       0.0       1.0     2.0\n",
      "c       6.0       7.0     8.0\n",
      "e       NaN       NaN     NaN\n",
      "b       3.0       4.0     5.0\n",
      "h       NaN       NaN     NaN\n",
      "frame reindexed(2): \n",
      "    La Ceja  Rionegro  Marinilla\n",
      "a      NaN       1.0        NaN\n",
      "c      NaN       7.0        NaN\n",
      "e      NaN       NaN        NaN\n",
      "b      NaN       4.0        NaN\n",
      "h      NaN       NaN        NaN\n"
     ]
    }
   ],
   "source": [
    "# reindexing rows & columns\n",
    "\n",
    "frame = pd.DataFrame(np.arange(9).reshape(3,3), index=['a', 'b', 'c'], columns=['Medellin','Rionegro','Guarne'])\n",
    "print('frame: \\n',frame)\n",
    "\n",
    "# reindexing of rows and new frame saved in same variable\n",
    "frame = frame.reindex(['a','c','e','b','h'])\n",
    "print('frame reindexed: \\n',frame)\n",
    "\n",
    "# reindexing of columns\n",
    "new_columns =['La Ceja', 'Rionegro', 'Marinilla']\n",
    "frame = frame.reindex(columns=new_columns)\n",
    "print('frame reindexed(2): \\n',frame)"
   ]
  },
  {
   "cell_type": "code",
   "execution_count": null,
   "metadata": {},
   "outputs": [],
   "source": []
  }
 ],
 "metadata": {
  "kernelspec": {
   "display_name": "Python 3",
   "language": "python",
   "name": "python3"
  },
  "language_info": {
   "codemirror_mode": {
    "name": "ipython",
    "version": 3
   },
   "file_extension": ".py",
   "mimetype": "text/x-python",
   "name": "python",
   "nbconvert_exporter": "python",
   "pygments_lexer": "ipython3",
   "version": "3.11.1"
  }
 },
 "nbformat": 4,
 "nbformat_minor": 2
}
