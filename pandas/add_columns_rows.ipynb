{
 "cells": [
  {
   "cell_type": "code",
   "execution_count": 2,
   "metadata": {},
   "outputs": [],
   "source": [
    "import numpy as np\n",
    "import pandas as pd"
   ]
  },
  {
   "cell_type": "code",
   "execution_count": 3,
   "metadata": {},
   "outputs": [
    {
     "name": "stdout",
     "output_type": "stream",
     "text": [
      "    Column1   Column2   Column3   Column4   Column5\n",
      "0  1.764052  0.400157  0.978738  2.240893  1.867558\n",
      "1 -0.977278  0.950088 -0.151357 -0.103219  0.410599\n",
      "2  0.144044  1.454274  0.761038  0.121675  0.443863\n",
      "3  0.333674  1.494079 -0.205158  0.313068 -0.854096\n",
      "4 -2.552990  0.653619  0.864436 -0.742165  2.269755\n",
      "5 -1.454366  0.045759 -0.187184  1.532779  1.469359\n",
      "6  0.154947  0.378163 -0.887786 -1.980796 -0.347912\n",
      "7  0.156349  1.230291  1.202380 -0.387327 -0.302303\n",
      "8 -1.048553 -1.420018 -1.706270  1.950775 -0.509652\n",
      "9 -0.438074 -1.252795  0.777490 -1.613898 -0.212740\n"
     ]
    }
   ],
   "source": [
    "# Creating a random DataFrame with 10 rows and 5 columns\n",
    "np.random.seed(0)  # For reproducibility\n",
    "random_data = np.random.randn(10, 5)  # 10 rows, 5 columns of random numbers\n",
    "df_random = pd.DataFrame(random_data, columns=['Column1', 'Column2', 'Column3', 'Column4', 'Column5'])\n",
    "print(df_random)\n"
   ]
  },
  {
   "cell_type": "code",
   "execution_count": 15,
   "metadata": {},
   "outputs": [
    {
     "name": "stdout",
     "output_type": "stream",
     "text": [
      "    Column1   Column2   Column3   Column4   Column5  New Column\n",
      "0  1.764052  0.400157  0.978738  2.240893  1.867558         NaN\n",
      "1 -0.977278  0.950088 -0.151357 -0.103219  0.410599         NaN\n",
      "2  0.144044  1.454274  0.761038  0.121675  0.443863         NaN\n",
      "3  0.333674  1.494079 -0.205158  0.313068 -0.854096         NaN\n",
      "4 -2.552990  0.653619  0.864436 -0.742165  2.269755         NaN\n",
      "5 -1.454366  0.045759 -0.187184  1.532779  1.469359         NaN\n",
      "6  0.154947  0.378163 -0.887786 -1.980796 -0.347912         NaN\n",
      "7  0.156349  1.230291  1.202380 -0.387327 -0.302303         NaN\n",
      "8 -1.048553 -1.420018 -1.706270  1.950775 -0.509652         NaN\n",
      "9 -0.438074 -1.252795  0.777490 -1.613898 -0.212740         NaN\n"
     ]
    }
   ],
   "source": [
    "# Add a new column\n",
    "\n",
    "df_random['New Column'] = np.nan\n",
    "print(df_random)"
   ]
  },
  {
   "cell_type": "code",
   "execution_count": 16,
   "metadata": {},
   "outputs": [
    {
     "name": "stdout",
     "output_type": "stream",
     "text": [
      "    Column1   Column2   Column3   Column4   Column5  New Column  Range\n",
      "0  1.764052  0.400157  0.978738  2.240893  1.867558         NaN      0\n",
      "1 -0.977278  0.950088 -0.151357 -0.103219  0.410599         NaN      1\n",
      "2  0.144044  1.454274  0.761038  0.121675  0.443863         NaN      2\n",
      "3  0.333674  1.494079 -0.205158  0.313068 -0.854096         NaN      3\n",
      "4 -2.552990  0.653619  0.864436 -0.742165  2.269755         NaN      4\n",
      "5 -1.454366  0.045759 -0.187184  1.532779  1.469359         NaN      5\n",
      "6  0.154947  0.378163 -0.887786 -1.980796 -0.347912         NaN      6\n",
      "7  0.156349  1.230291  1.202380 -0.387327 -0.302303         NaN      7\n",
      "8 -1.048553 -1.420018 -1.706270  1.950775 -0.509652         NaN      8\n",
      "9 -0.438074 -1.252795  0.777490 -1.613898 -0.212740         NaN      9\n"
     ]
    }
   ],
   "source": [
    "# Add a range column to the dataframe\n",
    "range = np.arange(df_random.shape[0]) # 0: n. rows, 1: n. columns\n",
    "df_random['Range'] = range\n",
    "print(df_random)"
   ]
  },
  {
   "cell_type": "code",
   "execution_count": 5,
   "metadata": {},
   "outputs": [],
   "source": [
    "# Add rows\n",
    "\n",
    "# New row as a dictionary\n",
    "new_row = {'Column1': 1, 'Column2': 2, 'Column3': 3, 'Column4': 4, 'Column5': 5}\n",
    "\n",
    "# Appending the new row to the DataFrame\n",
    "# df_random = df_random.append(new_row, ignore_index=True) IT SHOULD WORK BUT APPEND IS NOT.\n"
   ]
  },
  {
   "cell_type": "code",
   "execution_count": null,
   "metadata": {},
   "outputs": [],
   "source": []
  }
 ],
 "metadata": {
  "kernelspec": {
   "display_name": "Python 3",
   "language": "python",
   "name": "python3"
  },
  "language_info": {
   "codemirror_mode": {
    "name": "ipython",
    "version": 3
   },
   "file_extension": ".py",
   "mimetype": "text/x-python",
   "name": "python",
   "nbconvert_exporter": "python",
   "pygments_lexer": "ipython3",
   "version": "3.11.5"
  }
 },
 "nbformat": 4,
 "nbformat_minor": 2
}
