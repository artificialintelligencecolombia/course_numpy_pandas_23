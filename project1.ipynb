{
 "cells": [
  {
   "cell_type": "code",
   "execution_count": 19,
   "metadata": {},
   "outputs": [],
   "source": [
    "import numpy as np\n",
    "import pandas as pd"
   ]
  },
  {
   "cell_type": "code",
   "execution_count": 20,
   "metadata": {},
   "outputs": [
    {
     "name": "stdout",
     "output_type": "stream",
     "text": [
      "DatetimeIndex(['2023-01-01', '2023-01-02', '2023-01-03', '2023-01-04',\n",
      "               '2023-01-05', '2023-01-06', '2023-01-07', '2023-01-08',\n",
      "               '2023-01-09', '2023-01-10',\n",
      "               ...\n",
      "               '2023-09-05', '2023-09-06', '2023-09-07', '2023-09-08',\n",
      "               '2023-09-09', '2023-09-10', '2023-09-11', '2023-09-12',\n",
      "               '2023-09-13', '2023-09-14'],\n",
      "              dtype='datetime64[ns]', length=257, freq='D')\n"
     ]
    }
   ],
   "source": [
    "# pd.date_range is a pandas function, generates a calendar\n",
    "# from jan 1 to sep 15\n",
    "dates = pd.date_range(start=\"2023-01-01\", end=\"2023-09-14\")\n",
    "print(dates)\n"
   ]
  },
  {
   "cell_type": "code",
   "execution_count": 21,
   "metadata": {},
   "outputs": [],
   "source": [
    "#create a business of perfume sales\n",
    "men_perfumes = np.array([\n",
    "    \"Acqua di Gio by Giorgio Armani\",\n",
    "    \"Sauvage by Dior\",\n",
    "    \"Le Mâle by Jean Paul Gaultier\",\n",
    "    \"Terre d'Hermès by Hermès\",\n",
    "    \"Bleu de Chanel by Chanel\",\n",
    "    \"Creed Aventus by Creed\",\n",
    "    \"The One by Dolce & Gabbana\",\n",
    "    \"Spicebomb by Viktor & Rolf\",\n",
    "    \"Eros by Versace\",\n",
    "    \"Fahrenheit by Dior\"\n",
    "])\n",
    "\n",
    "women_perfumes = np.array([\n",
    "    \"Chanel No. 5 by Chanel\",\n",
    "    \"J'adore by Dior\",\n",
    "    \"La Vie Est Belle by Lancôme\",\n",
    "    \"Coco Mademoiselle by Chanel\",\n",
    "    \"Flowerbomb by Viktor & Rolf\",\n",
    "    \"Black Opium by Yves Saint Laurent\",\n",
    "    \"Daisy by Marc Jacobs\",\n",
    "    \"Angel by Mugler\",\n",
    "    \"Miss Dior by Dior\",\n",
    "    \"Good Girl by Carolina Herrera\"\n",
    "])"
   ]
  },
  {
   "cell_type": "code",
   "execution_count": null,
   "metadata": {},
   "outputs": [],
   "source": [
    "men_perfume_prices = np.array([\n",
    "    110,  # Acqua di Gio by Giorgio Armani\n",
    "    115,  # Sauvage by Dior\n",
    "    95,   # Le Mâle by Jean Paul Gaultier\n",
    "    120,  # Terre d'Hermès by Hermès\n",
    "    140,  # Bleu de Chanel by Chanel\n",
    "    425,  # Creed Aventus by Creed \n",
    "    90,   # The One by Dolce & Gabbana\n",
    "    120,  # Spicebomb by Viktor & Rolf\n",
    "    100,  # Eros by Versace\n",
    "    100   # Fahrenheit by Dior\n",
    "])\n",
    "women_perfume_prices = np.array([\n",
    "    150,  # Chanel No. 5 by Chanel\n",
    "    125,  # J'adore by Dior\n",
    "    105,  # La Vie Est Belle by Lancôme\n",
    "    150,  # Coco Mademoiselle by Chanel\n",
    "    128,  # Flowerbomb by Viktor & Rolf\n",
    "    105,  # Black Opium by Yves Saint Laurent\n",
    "    95,   # Daisy by Marc Jacobs\n",
    "    115,  # Angel by Mugler\n",
    "    125,  # Miss Dior by Dior\n",
    "    120   # Good Girl by Carolina Herrera\n",
    "])\n",
    "\n"
   ]
  },
  {
   "cell_type": "code",
   "execution_count": 22,
   "metadata": {},
   "outputs": [],
   "source": [
    "# randomly simulate the daily sales\n",
    "men_daily_sales = np.random.randint(0,5+1,len(men_perfumes))\n",
    "women_daily_sales = np.random.randint(0,7,len(women_perfumes))"
   ]
  },
  {
   "cell_type": "code",
   "execution_count": null,
   "metadata": {},
   "outputs": [],
   "source": []
  }
 ],
 "metadata": {
  "kernelspec": {
   "display_name": "Python 3",
   "language": "python",
   "name": "python3"
  },
  "language_info": {
   "codemirror_mode": {
    "name": "ipython",
    "version": 3
   },
   "file_extension": ".py",
   "mimetype": "text/x-python",
   "name": "python",
   "nbconvert_exporter": "python",
   "pygments_lexer": "ipython3",
   "version": "3.11.1"
  },
  "orig_nbformat": 4
 },
 "nbformat": 4,
 "nbformat_minor": 2
}
