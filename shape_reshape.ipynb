{
 "cells": [
  {
   "cell_type": "code",
   "execution_count": 1,
   "metadata": {},
   "outputs": [],
   "source": [
    "#import numpy library\n",
    "import numpy as np"
   ]
  },
  {
   "cell_type": "code",
   "execution_count": 6,
   "metadata": {},
   "outputs": [
    {
     "data": {
      "text/plain": [
       "array([[95, 47, 18, 37, 17, 44, 74, 79, 35, 33],\n",
       "       [78, 81, 11, 88,  2, 32, 95, 46, 33, 65],\n",
       "       [54, 86, 39, 93,  9, 14, 66, 68, 88, 44],\n",
       "       [98, 30, 30, 86, 88,  6, 35, 85, 34, 29],\n",
       "       [32, 43, 69, 46, 60, 31, 11, 81, 20, 14],\n",
       "       [10, 67, 69, 72, 50, 89,  1, 32, 41, 41],\n",
       "       [93, 85, 21,  5, 72, 48, 32, 21,  7, 13],\n",
       "       [64, 40, 95,  5, 60, 98, 93, 34, 18, 36],\n",
       "       [89, 45, 86, 30, 62, 68,  7, 49, 37, 77]])"
      ]
     },
     "execution_count": 6,
     "metadata": {},
     "output_type": "execute_result"
    }
   ],
   "source": [
    "arr1 = np.random.randint(1, 100, (9,10))\n",
    "arr1"
   ]
  },
  {
   "cell_type": "code",
   "execution_count": 7,
   "metadata": {},
   "outputs": [
    {
     "data": {
      "text/plain": [
       "(9, 10)"
      ]
     },
     "execution_count": 7,
     "metadata": {},
     "output_type": "execute_result"
    }
   ],
   "source": [
    "# .shape is a tuple that gives dimensions of the array\n",
    "arr1.shape"
   ]
  },
  {
   "cell_type": "code",
   "execution_count": 8,
   "metadata": {},
   "outputs": [
    {
     "data": {
      "text/plain": [
       "2"
      ]
     },
     "execution_count": 8,
     "metadata": {},
     "output_type": "execute_result"
    }
   ],
   "source": [
    "# .ndim gives the number of dimensions of the array\n",
    "arr1.ndim"
   ]
  },
  {
   "cell_type": "code",
   "execution_count": 10,
   "metadata": {},
   "outputs": [
    {
     "data": {
      "text/plain": [
       "array([[95, 47, 18, 37, 17, 44, 74, 79, 35, 33, 78, 81, 11, 88,  2],\n",
       "       [32, 95, 46, 33, 65, 54, 86, 39, 93,  9, 14, 66, 68, 88, 44],\n",
       "       [98, 30, 30, 86, 88,  6, 35, 85, 34, 29, 32, 43, 69, 46, 60],\n",
       "       [31, 11, 81, 20, 14, 10, 67, 69, 72, 50, 89,  1, 32, 41, 41],\n",
       "       [93, 85, 21,  5, 72, 48, 32, 21,  7, 13, 64, 40, 95,  5, 60],\n",
       "       [98, 93, 34, 18, 36, 89, 45, 86, 30, 62, 68,  7, 49, 37, 77]])"
      ]
     },
     "execution_count": 10,
     "metadata": {},
     "output_type": "execute_result"
    }
   ],
   "source": [
    "# .reshape reshapes the array\n",
    "# 90 = 2 * 3 * 3 * 5\n",
    "arr1.reshape(6,15)"
   ]
  },
  {
   "cell_type": "code",
   "execution_count": 21,
   "metadata": {},
   "outputs": [
    {
     "data": {
      "text/plain": [
       "array([[[[95, 47, 18, 37, 17],\n",
       "         [44, 74, 79, 35, 33],\n",
       "         [78, 81, 11, 88,  2]],\n",
       "\n",
       "        [[32, 95, 46, 33, 65],\n",
       "         [54, 86, 39, 93,  9],\n",
       "         [14, 66, 68, 88, 44]]],\n",
       "\n",
       "\n",
       "       [[[98, 30, 30, 86, 88],\n",
       "         [ 6, 35, 85, 34, 29],\n",
       "         [32, 43, 69, 46, 60]],\n",
       "\n",
       "        [[31, 11, 81, 20, 14],\n",
       "         [10, 67, 69, 72, 50],\n",
       "         [89,  1, 32, 41, 41]]],\n",
       "\n",
       "\n",
       "       [[[93, 85, 21,  5, 72],\n",
       "         [48, 32, 21,  7, 13],\n",
       "         [64, 40, 95,  5, 60]],\n",
       "\n",
       "        [[98, 93, 34, 18, 36],\n",
       "         [89, 45, 86, 30, 62],\n",
       "         [68,  7, 49, 37, 77]]]])"
      ]
     },
     "execution_count": 21,
     "metadata": {},
     "output_type": "execute_result"
    }
   ],
   "source": [
    "# we can reshape the array to a higher dimension tensor\n",
    "arr1.reshape(3,2,3,5)"
   ]
  },
  {
   "cell_type": "code",
   "execution_count": null,
   "metadata": {},
   "outputs": [],
   "source": [
    "# by default, reshape() uses C-style ordering\n",
    "# error occurs if the new shape does not match the original shape"
   ]
  }
 ],
 "metadata": {
  "kernelspec": {
   "display_name": "Python 3",
   "language": "python",
   "name": "python3"
  },
  "language_info": {
   "codemirror_mode": {
    "name": "ipython",
    "version": 3
   },
   "file_extension": ".py",
   "mimetype": "text/x-python",
   "name": "python",
   "nbconvert_exporter": "python",
   "pygments_lexer": "ipython3",
   "version": "3.11.1"
  },
  "orig_nbformat": 4
 },
 "nbformat": 4,
 "nbformat_minor": 2
}
