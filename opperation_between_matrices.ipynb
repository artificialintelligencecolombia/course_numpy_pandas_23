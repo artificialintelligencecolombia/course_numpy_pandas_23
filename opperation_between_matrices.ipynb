{
 "cells": [
  {
   "cell_type": "code",
   "execution_count": null,
   "metadata": {},
   "outputs": [],
   "source": [
    "import numpy as np"
   ]
  },
  {
   "cell_type": "code",
   "execution_count": 11,
   "metadata": {},
   "outputs": [
    {
     "data": {
      "text/plain": [
       "array([[-79,  16, -21, -61, -37,  -2, -21,  16],\n",
       "       [-50,  38, -88, -86, -59,  -9,  50, -50],\n",
       "       [-37,  88, -25, -34, -31, -18,  10, -91],\n",
       "       [-29, -75,  -9, -31, -63,   8,  49,  84],\n",
       "       [-62, -90,  -2,  97, -74,  67,  -6,  49],\n",
       "       [-32,  62, -60,  63, -23, -27,  20,  90],\n",
       "       [ 47,  82,  91,  33, -87, -29, -98,  13],\n",
       "       [ 79,  57, -86, -34, -56, -18,  54,  50]])"
      ]
     },
     "execution_count": 11,
     "metadata": {},
     "output_type": "execute_result"
    }
   ],
   "source": [
    "# create a 8x8 matrix with random integers from -100 to 100 \n",
    "matrix1 = np.random.randint(-100, 101, size=(8, 8))\n",
    "matrix1"
   ]
  },
  {
   "cell_type": "code",
   "execution_count": null,
   "metadata": {},
   "outputs": [],
   "source": [
    "# bool matrix with bools > -25\n",
    "greater_than_min25_num = matrix1 > -25\n",
    "print(greater_than_min25_num)"
   ]
  },
  {
   "cell_type": "code",
   "execution_count": 13,
   "metadata": {},
   "outputs": [
    {
     "name": "stdout",
     "output_type": "stream",
     "text": [
      "[[-26.307   5.328  -6.993 -20.313 -12.321  -0.666  -6.993   5.328]\n",
      " [-16.65   12.654 -29.304 -28.638 -19.647  -2.997  16.65  -16.65 ]\n",
      " [-12.321  29.304  -8.325 -11.322 -10.323  -5.994   3.33  -30.303]\n",
      " [ -9.657 -24.975  -2.997 -10.323 -20.979   2.664  16.317  27.972]\n",
      " [-20.646 -29.97   -0.666  32.301 -24.642  22.311  -1.998  16.317]\n",
      " [-10.656  20.646 -19.98   20.979  -7.659  -8.991   6.66   29.97 ]\n",
      " [ 15.651  27.306  30.303  10.989 -28.971  -9.657 -32.634   4.329]\n",
      " [ 26.307  18.981 -28.638 -11.322 -18.648  -5.994  17.982  16.65 ]]\n"
     ]
    }
   ],
   "source": [
    "# opperatig with matrix elements\n",
    "matrix1_product = matrix1 * -0.333\n",
    "print(matrix1_product)"
   ]
  },
  {
   "cell_type": "code",
   "execution_count": 16,
   "metadata": {},
   "outputs": [
    {
     "name": "stdout",
     "output_type": "stream",
     "text": [
      "[[-52.693  10.672 -14.007 -40.687 -24.679  -1.334 -14.007  10.672]\n",
      " [-33.35   25.346 -58.696 -57.362 -39.353  -6.003  33.35  -33.35 ]\n",
      " [-24.679  58.696 -16.675 -22.678 -20.677 -12.006   6.67  -60.697]\n",
      " [-19.343 -50.025  -6.003 -20.677 -42.021   5.336  32.683  56.028]\n",
      " [-41.354 -60.03   -1.334  64.699 -49.358  44.689  -4.002  32.683]\n",
      " [-21.344  41.354 -40.02   42.021 -15.341 -18.009  13.34   60.03 ]\n",
      " [ 31.349  54.694  60.697  22.011 -58.029 -19.343 -65.366   8.671]\n",
      " [ 52.693  38.019 -57.362 -22.678 -37.352 -12.006  36.018  33.35 ]]\n"
     ]
    }
   ],
   "source": [
    "# opperation between matrices\n",
    "matrix2 = matrix1 + matrix1_product\n",
    "print(matrix2)"
   ]
  },
  {
   "cell_type": "code",
   "execution_count": 20,
   "metadata": {},
   "outputs": [
    {
     "data": {
      "text/plain": [
       "array([[-52.693, -40.687, -24.679, -14.007, -14.007,  -1.334,  10.672,\n",
       "         10.672],\n",
       "       [-58.696, -57.362, -39.353, -33.35 , -33.35 ,  -6.003,  25.346,\n",
       "         33.35 ],\n",
       "       [-60.697, -24.679, -22.678, -20.677, -16.675, -12.006,   6.67 ,\n",
       "         58.696],\n",
       "       [-50.025, -42.021, -20.677, -19.343,  -6.003,   5.336,  32.683,\n",
       "         56.028],\n",
       "       [-60.03 , -49.358, -41.354,  -4.002,  -1.334,  32.683,  44.689,\n",
       "         64.699],\n",
       "       [-40.02 , -21.344, -18.009, -15.341,  13.34 ,  41.354,  42.021,\n",
       "         60.03 ],\n",
       "       [-65.366, -58.029, -19.343,   8.671,  22.011,  31.349,  54.694,\n",
       "         60.697],\n",
       "       [-57.362, -37.352, -22.678, -12.006,  33.35 ,  36.018,  38.019,\n",
       "         52.693]])"
      ]
     },
     "execution_count": 20,
     "metadata": {},
     "output_type": "execute_result"
    }
   ],
   "source": [
    "# sorted matrix axis 1\n",
    "sorted_matrix = np.sort(matrix2, axis=1)\n",
    "sorted_matrix"
   ]
  },
  {
   "cell_type": "code",
   "execution_count": 21,
   "metadata": {},
   "outputs": [
    {
     "data": {
      "text/plain": [
       "array([[-52.693, -60.03 , -58.696, -57.362, -58.029, -19.343, -65.366,\n",
       "        -60.697],\n",
       "       [-41.354, -50.025, -57.362, -40.687, -49.358, -18.009, -14.007,\n",
       "        -33.35 ],\n",
       "       [-33.35 ,  10.672, -40.02 , -22.678, -42.021, -12.006,  -4.002,\n",
       "          8.671],\n",
       "       [-24.679,  25.346, -16.675, -22.678, -39.353, -12.006,   6.67 ,\n",
       "         10.672],\n",
       "       [-21.344,  38.019, -14.007, -20.677, -37.352,  -6.003,  13.34 ,\n",
       "         32.683],\n",
       "       [-19.343,  41.354,  -6.003,  22.011, -24.679,  -1.334,  32.683,\n",
       "         33.35 ],\n",
       "       [ 31.349,  54.694,  -1.334,  42.021, -20.677,   5.336,  33.35 ,\n",
       "         56.028],\n",
       "       [ 52.693,  58.696,  60.697,  64.699, -15.341,  44.689,  36.018,\n",
       "         60.03 ]])"
      ]
     },
     "execution_count": 21,
     "metadata": {},
     "output_type": "execute_result"
    }
   ],
   "source": [
    "# sorted matrix axis 0\n",
    "sorted_matrix_zero_axis = np.sort(matrix2, axis=0)\n",
    "sorted_matrix_zero_axis"
   ]
  },
  {
   "cell_type": "code",
   "execution_count": null,
   "metadata": {},
   "outputs": [],
   "source": []
  }
 ],
 "metadata": {
  "kernelspec": {
   "display_name": "Python 3",
   "language": "python",
   "name": "python3"
  },
  "language_info": {
   "codemirror_mode": {
    "name": "ipython",
    "version": 3
   },
   "file_extension": ".py",
   "mimetype": "text/x-python",
   "name": "python",
   "nbconvert_exporter": "python",
   "pygments_lexer": "ipython3",
   "version": "3.11.1"
  },
  "orig_nbformat": 4
 },
 "nbformat": 4,
 "nbformat_minor": 2
}
