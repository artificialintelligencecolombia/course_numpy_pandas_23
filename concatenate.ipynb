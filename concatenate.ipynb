{
 "cells": [
  {
   "cell_type": "code",
   "execution_count": 1,
   "metadata": {},
   "outputs": [],
   "source": [
    "import numpy as np"
   ]
  },
  {
   "cell_type": "code",
   "execution_count": 14,
   "metadata": {},
   "outputs": [
    {
     "name": "stdout",
     "output_type": "stream",
     "text": [
      "array 1:\n",
      " [[3 4 9]\n",
      " [7 8 7]\n",
      " [6 2 6]]\n",
      "array 2:\n",
      " [[8 7 8]\n",
      " [4 5 8]\n",
      " [5 5 7]\n",
      " [1 5 2]\n",
      " [5 5 4]]\n"
     ]
    }
   ],
   "source": [
    "# arr creation\n",
    "arr1 = np.random.randint(1, 10, size=(3, 3))\n",
    "arr2 = np.random.randint(1, 10, size=(5, 3))\n",
    "print('array 1:\\n', arr1)\n",
    "print('array 2:\\n', arr2)"
   ]
  },
  {
   "cell_type": "code",
   "execution_count": 19,
   "metadata": {},
   "outputs": [
    {
     "name": "stdout",
     "output_type": "stream",
     "text": [
      "[[3 4 9]\n",
      " [7 8 7]\n",
      " [6 2 6]\n",
      " [8 7 8]\n",
      " [4 5 8]\n",
      " [5 5 7]\n",
      " [1 5 2]\n",
      " [5 5 4]]\n"
     ]
    }
   ],
   "source": [
    "# concatenation\n",
    "arr3 = np.concatenate((arr1, arr2), axis=0)\n",
    "print(arr3)\n",
    "# For concatenation in axis 0, the number of columns must be the same.\n",
    "# If the number of columns is different, a ValueError will be raised.\n",
    "# a ValueError will be raised."
   ]
  },
  {
   "cell_type": "code",
   "execution_count": 22,
   "metadata": {},
   "outputs": [
    {
     "data": {
      "text/plain": [
       "array([[3, 7, 6, 8, 4, 5, 1, 5],\n",
       "       [4, 8, 2, 7, 5, 5, 5, 5],\n",
       "       [9, 7, 6, 8, 8, 7, 2, 4]])"
      ]
     },
     "execution_count": 22,
     "metadata": {},
     "output_type": "execute_result"
    }
   ],
   "source": [
    "# Transpose is a method that changes the shape of an array.\n",
    "transposed_arr3 = arr3.T\n",
    "transposed_arr3"
   ]
  },
  {
   "cell_type": "code",
   "execution_count": null,
   "metadata": {},
   "outputs": [],
   "source": []
  }
 ],
 "metadata": {
  "kernelspec": {
   "display_name": "Python 3",
   "language": "python",
   "name": "python3"
  },
  "language_info": {
   "codemirror_mode": {
    "name": "ipython",
    "version": 3
   },
   "file_extension": ".py",
   "mimetype": "text/x-python",
   "name": "python",
   "nbconvert_exporter": "python",
   "pygments_lexer": "ipython3",
   "version": "3.11.1"
  },
  "orig_nbformat": 4
 },
 "nbformat": 4,
 "nbformat_minor": 2
}
