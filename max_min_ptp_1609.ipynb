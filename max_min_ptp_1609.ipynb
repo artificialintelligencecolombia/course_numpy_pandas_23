{
 "cells": [
  {
   "cell_type": "code",
   "execution_count": 2,
   "metadata": {},
   "outputs": [],
   "source": [
    "import numpy as np"
   ]
  },
  {
   "cell_type": "code",
   "execution_count": 4,
   "metadata": {},
   "outputs": [
    {
     "data": {
      "text/plain": [
       "array([[2, 5, 2, ..., 6, 9, 1],\n",
       "       [7, 3, 7, ..., 2, 7, 9],\n",
       "       [3, 2, 1, ..., 1, 9, 6],\n",
       "       ...,\n",
       "       [5, 6, 3, ..., 9, 1, 8],\n",
       "       [2, 5, 9, ..., 5, 3, 1],\n",
       "       [4, 2, 6, ..., 3, 8, 8]])"
      ]
     },
     "execution_count": 4,
     "metadata": {},
     "output_type": "execute_result"
    }
   ],
   "source": [
    "arr1 = np.random.randint(1, 10, size=(30, 40))\n",
    "arr1"
   ]
  },
  {
   "cell_type": "code",
   "execution_count": 6,
   "metadata": {},
   "outputs": [
    {
     "data": {
      "text/plain": [
       "array([9, 9, 9, 9, 9, 9, 9, 9, 9, 9, 9, 9, 9, 9, 9, 9, 9, 9, 9, 9, 9, 9,\n",
       "       9, 9, 9, 9, 9, 9, 9, 9])"
      ]
     },
     "execution_count": 6,
     "metadata": {},
     "output_type": "execute_result"
    }
   ],
   "source": [
    "# maximum value of each row\n",
    "np.max(arr1, axis=1) # axis=1 means row"
   ]
  },
  {
   "cell_type": "code",
   "execution_count": 20,
   "metadata": {},
   "outputs": [
    {
     "name": "stdout",
     "output_type": "stream",
     "text": [
      "[9 9 9 9 9 9 9 9 9 9 9 9 9 9 9 9 9 9 9 9 9 9 9 9 9 9 9 9 9 9 9 9 9 9 9 9 9\n",
      " 9 9 9]\n",
      "(40,) 1 int32\n"
     ]
    }
   ],
   "source": [
    "nines_to_zeros = np.max(arr1, axis=0) # axis=0 means column\n",
    "print(nines_to_zeros)\n",
    "print(nines_to_zeros.shape, nines_to_zeros.ndim, nines_to_zeros.dtype)\n",
    "# ERROR zeros = np.zeros(nines_to_zeros)"
   ]
  },
  {
   "cell_type": "code",
   "execution_count": 25,
   "metadata": {},
   "outputs": [
    {
     "data": {
      "text/plain": [
       "array([[ 77, -50, -32,  58, -37,  12, -89, -21, -69,  58, -85,  -3, -32],\n",
       "       [ 55, -71,  39, -71,  87,  75, -15, -62, -31, -97,  77,  30,  87],\n",
       "       [ 62, -65, -31,  29,  16,  50, -15, -16, -29,   3, -76,  32, -99],\n",
       "       [-78,  77, -94,  78,  20,  54,  12,  -2,  45,  16,   3, -62,  77],\n",
       "       [-19, -18,  38, -31,  35,   8, -79, -37, -48, -45, -23, -41,  -1],\n",
       "       [ 70,  -6,  27, -12,   1, -30,  14, -61,  56, -94, -29,  38, -43],\n",
       "       [-35, -12, -35,  23,  68, -78, -50,  75,  -7,  99, -90, -51,  58],\n",
       "       [ 21, -67, -61, -63, -85, -31,  85, -91,  18,  62,  19, -21,  94]])"
      ]
     },
     "execution_count": 25,
     "metadata": {},
     "output_type": "execute_result"
    }
   ],
   "source": [
    "# matrix of random integers from -100 to 100\n",
    "\n",
    "matrix = np.random.randint(-99,99+1, size=(8,13))\n",
    "matrix"
   ]
  },
  {
   "cell_type": "code",
   "execution_count": 27,
   "metadata": {},
   "outputs": [
    {
     "data": {
      "text/plain": [
       "array([77, 87, 62, 78, 38, 70, 99, 94])"
      ]
     },
     "execution_count": 27,
     "metadata": {},
     "output_type": "execute_result"
    }
   ],
   "source": [
    "# maximum value of each row: axis=1, column: axis=0\n",
    "max_values = np.max(matrix, axis=1)\n",
    "max_values"
   ]
  },
  {
   "cell_type": "code",
   "execution_count": 30,
   "metadata": {},
   "outputs": [
    {
     "data": {
      "text/plain": [
       "array([ 0,  4,  0,  3,  2,  0,  9, 12], dtype=int64)"
      ]
     },
     "execution_count": 30,
     "metadata": {},
     "output_type": "execute_result"
    }
   ],
   "source": [
    "# argmax of each row: axis=1, column: axis=0\n",
    "args_max_values = np.argmax(matrix, axis=1)\n",
    "args_max_values"
   ]
  },
  {
   "cell_type": "code",
   "execution_count": 34,
   "metadata": {},
   "outputs": [
    {
     "data": {
      "text/plain": [
       "array([ 6,  9, 12,  2,  6,  9, 10,  7], dtype=int64)"
      ]
     },
     "execution_count": 34,
     "metadata": {},
     "output_type": "execute_result"
    }
   ],
   "source": [
    "# argmin of each row: axis=1, column: axis=0\n",
    "args_min_values = np.argmin(matrix, axis=1)\n",
    "args_min_values\n"
   ]
  },
  {
   "cell_type": "code",
   "execution_count": 35,
   "metadata": {},
   "outputs": [
    {
     "data": {
      "text/plain": [
       "array([166, 184, 161, 172, 117, 164, 189, 185])"
      ]
     },
     "execution_count": 35,
     "metadata": {},
     "output_type": "execute_result"
    }
   ],
   "source": [
    "# represents the difference between the maximum and minimum values of each\n",
    "# row: axis=1, column: axis=0\n",
    "matrix.ptp(axis=1) # peak to peak"
   ]
  },
  {
   "cell_type": "code",
   "execution_count": null,
   "metadata": {},
   "outputs": [],
   "source": []
  }
 ],
 "metadata": {
  "kernelspec": {
   "display_name": "Python 3",
   "language": "python",
   "name": "python3"
  },
  "language_info": {
   "codemirror_mode": {
    "name": "ipython",
    "version": 3
   },
   "file_extension": ".py",
   "mimetype": "text/x-python",
   "name": "python",
   "nbconvert_exporter": "python",
   "pygments_lexer": "ipython3",
   "version": "3.11.1"
  },
  "orig_nbformat": 4
 },
 "nbformat": 4,
 "nbformat_minor": 2
}
