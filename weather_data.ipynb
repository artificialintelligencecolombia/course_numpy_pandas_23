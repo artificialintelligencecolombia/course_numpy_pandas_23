{
 "cells": [
  {
   "cell_type": "code",
   "execution_count": 1,
   "metadata": {},
   "outputs": [
    {
     "name": "stdout",
     "output_type": "stream",
     "text": [
      "Medellín Temperatures (°C):\n",
      "Min: 15 Max: 30\n"
     ]
    }
   ],
   "source": [
    "import numpy as np\n",
    "\n",
    "def generate_temperatures(low, high):\n",
    "    return np.random.randint(low, high+1, 365)\n",
    "\n",
    "import numpy as np\n",
    "\n",
    "def generate_temperatures(low, high):\n",
    "    return np.random.randint(low, high+1, 365)\n",
    "\n",
    "medellin_temps_celsius = generate_temperatures(15, 30)\n",
    "san_vicente_ferrer_temps_celsius = generate_temperatures(13, 28)\n",
    "rionegro_temps_celsius = generate_temperatures(11, 26)\n",
    "marinilla_temps_celsius = generate_temperatures(14, 29)\n",
    "\n",
    "print(\"Medellín Temperatures (°C):\")\n",
    "print(\"Min:\", medellin_temps_celsius.min(), \"Max:\", medellin_temps_celsius.max())\n",
    "\n",
    "\n",
    "\n",
    "\n"
   ]
  },
  {
   "cell_type": "code",
   "execution_count": 6,
   "metadata": {},
   "outputs": [
    {
     "name": "stdout",
     "output_type": "stream",
     "text": [
      "[28 25 19 27 24 21 30 30 19 22 21 21 15 25 23 17 25 28 20 30 17 26 18 26\n",
      " 15 25 22 16 16 20 21 25 29 24 19 21 22 28 18 22 30 18 15 28 20 23 28 24\n",
      " 15 25 21 25 15 21 18 20 21 21 22 19 27 24 27 18 15 16 22 17 21 16 24 28\n",
      " 19 19 30 27 16 20 17 22 27 24 27 25 23 20 20 15 20 15 22 21 24 15 21 20\n",
      " 29 23 28 23 22 18 25 23 21 26 30 28 29 24 25 19 22 26 22 27 17 17 28 29\n",
      " 28 24 26 17 17 22 20 21 20 21 19 18 29 28 19 23 16 24 17 26 21 25 17 15\n",
      " 26 21 20 16 29 29 26 28 15 30 18 23 16 26 22 30 20 16 20 27 15 18 25 15\n",
      " 26 29 30 17 28 26 15 26 27 30 27 21 25 15 29 28 15 29 17 19 29 28 17 15\n",
      " 17 19 15 22 19 23 22 24 17 26 27 18 15 29 25 30 24 25 23 24 22 29 22 30\n",
      " 20 26 18 24 21 25 29 29 28 15 15 18 25 28 26 30 15 23 16 26 16 19 24 30\n",
      " 19 16 15 25 24 15 27 23 15 26 30 17 24 24 29 20 21 24 15 25 26 29 20 30\n",
      " 26 29 29 17 20 30 26 29 28 15 25 25 26 24 21 23 27 17 21 18 22 16 15 21\n",
      " 18 19 16 30 29 15 22 20 21 21 27 15 17 15 21 22 16 26 19 19 22 23 23 21\n",
      " 22 23 19 29 19 17 19 22 30 22 22 19 24 24 15 18 26 26 15 22 29 29 17 18\n",
      " 22 18 29 30 28 17 18 25 15 24 22 15 20 19 22 28 23 29 29 20 27 21 21 22\n",
      " 22 20 26 17 15]\n"
     ]
    }
   ],
   "source": [
    "print(medellin_temps_celsius)"
   ]
  },
  {
   "cell_type": "code",
   "execution_count": 16,
   "metadata": {},
   "outputs": [
    {
     "name": "stdout",
     "output_type": "stream",
     "text": [
      "[15 15 15 15 15 15 15 15 15 15 15 15 15 15 15 15 15 15 15 15 15 15 15 15\n",
      " 15 15 15 15 15 15 15 15 15 15 15 15 16 16 16 16 16 16 16 16 16 16 16 16\n",
      " 16 16 16 17 17 17 17 17 17 17 17 17 17 17 17 17 17 17 17 17 17 17 17 17\n",
      " 17 17 18 18 18 18 18 18 18 18 18 18 18 18 18 18 18 18 18 18 19 19 19 19\n",
      " 19 19 19 19 19 19 19 19 19 19 19 19 19 19 19 19 19 19 20 20 20 20 20 20\n",
      " 20 20 20 20 20 20 20 20 20 20 20 20 20 20 20 20 21 21 21 21 21 21 21 21\n",
      " 21 21 21 21 21 21 21 21 21 21 21 21 21 21 21 21 21 21 21 21 21 22 22 22\n",
      " 22 22 22 22 22 22 22 22 22 22 22 22 22 22 22 22 22 22 22 22 22 22 22 22\n",
      " 22 22 22 22 23 23 23 23 23 23 23 23 23 23 23 23 23 23 23 23 23 24 24 24\n",
      " 24 24 24 24 24 24 24 24 24 24 24 24 24 24 24 24 24 24 24 24 25 25 25 25\n",
      " 25 25 25 25 25 25 25 25 25 25 25 25 25 25 25 25 25 25 26 26 26 26 26 26\n",
      " 26 26 26 26 26 26 26 26 26 26 26 26 26 26 26 26 26 26 26 27 27 27 27 27\n",
      " 27 27 27 27 27 27 27 27 27 27 28 28 28 28 28 28 28 28 28 28 28 28 28 28\n",
      " 28 28 28 28 28 28 29 29 29 29 29 29 29 29 29 29 29 29 29 29 29 29 29 29\n",
      " 29 29 29 29 29 29 29 29 29 30 30 30 30 30 30 30 30 30 30 30 30 30 30 30\n",
      " 30 30 30 30 30]\n",
      "Max: 30 Min: 15\n",
      "Mean:  22.28767123287671\n",
      "Median:  22.0\n"
     ]
    }
   ],
   "source": [
    "# Sort dataset\n",
    "\n",
    "sorted_temps = np.sort(medellin_temps_celsius)\n",
    "print(sorted_temps)\n",
    "\n",
    "# Maximum temperature and its day number of the year\n",
    "max_val = np.amax(medellin_temps_celsius)\n",
    "max_idx = np.argmax(medellin_temps_celsius)\n",
    "\n",
    "# Minimum temperature and its day number of the year\n",
    "min_val = np.amin(medellin_temps_celsius)\n",
    "min_idx = np.argmin(medellin_temps_celsius)\n",
    "print(\"Max:\", max_val, \"Min:\", min_val)\n",
    "\n",
    "#mean average of a dataset. Add up all numbers, then divide by the number of numbers.\n",
    "mean_mde = np.mean(medellin_temps_celsius)\n",
    "print(\"Mean: \",mean_mde)\n",
    "\n",
    "# median the middle number in a sorted dataset. If there's two middle numbers, it's the\n",
    "# average of those two.\n",
    "median_mde = np.median(medellin_temps_celsius)\n",
    "print(\"Median: \",median_mde)\n"
   ]
  },
  {
   "cell_type": "code",
   "execution_count": 21,
   "metadata": {},
   "outputs": [
    {
     "name": "stdout",
     "output_type": "stream",
     "text": [
      "Values: [15 16 17 18 19 20 21 22 23 24 25 26 27 28 29 30]\n",
      "Counts: [36 15 23 18 22 22 29 31 17 23 22 25 15 20 27 20]\n",
      "Index of maximum count('counts' array): 0 with corresponding value: 15\n",
      "The mode(s) is/are: 15\n"
     ]
    }
   ],
   "source": [
    "# Using np.unique to get unique values and their counts\n",
    "\n",
    "# If you set the return_counts parameter to True, the function will return two arrays.\n",
    "# The first array contains the unique values, and the second array contains the counts \n",
    "# of each unique value (i.e., how many times each unique value appears in the original array).\n",
    "\n",
    "(values, counts) = np.unique(sorted_temps, return_counts=True)\n",
    "print(\"Values:\", values)\n",
    "print(\"Counts:\", counts)\n",
    "\n",
    "\n",
    "# Finding the index of the maximum count using np.argmax\n",
    "index = np.argmax(counts)\n",
    "print(\"Index of maximum count('counts' array):\", index, \"with corresponding Value:\", values[index])\n",
    "\n",
    "# Extracting the mode(s) using boolean indexing\n",
    "modes = values[counts == counts[index]]\n",
    "\n",
    "# Displaying the result\n",
    "print(f\"The mode(s), the most repeated value is/are: {', '.join(map(str, modes))}\")\n",
    "\n"
   ]
  },
  {
   "cell_type": "code",
   "execution_count": null,
   "metadata": {},
   "outputs": [],
   "source": [
    "def generate_temperatures(low, high):\n",
    "    return np.random.randint(low, high+1, 365)\n",
    "\n",
    "import numpy as np\n",
    "\n",
    "def generate_temperatures(low, high):\n",
    "    return np.random.randint(low, high+1, 365)\n",
    "\n",
    "medellin_temps_celsius = generate_temperatures(15, 30)\n",
    "san_vicente_ferrer_temps_celsius = generate_temperatures(13, 28)\n",
    "rionegro_temps_celsius = generate_temperatures(11, 26)\n",
    "marinilla_temps_celsius = generate_temperatures(14, 29)\n",
    "\n",
    "print(\"Medellín Temperatures (°C):\")\n",
    "print(\"Min:\", medellin_temps_celsius.min(), \"Max:\", medellin_temps_celsius.max())\n",
    "\n",
    "\n",
    "\n",
    "\n"
   ]
  }
 ],
 "metadata": {
  "kernelspec": {
   "display_name": "Python 3",
   "language": "python",
   "name": "python3"
  },
  "language_info": {
   "codemirror_mode": {
    "name": "ipython",
    "version": 3
   },
   "file_extension": ".py",
   "mimetype": "text/x-python",
   "name": "python",
   "nbconvert_exporter": "python",
   "pygments_lexer": "ipython3",
   "version": "3.11.1"
  },
  "orig_nbformat": 4
 },
 "nbformat": 4,
 "nbformat_minor": 2
}
