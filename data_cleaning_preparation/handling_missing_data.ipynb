{
 "cells": [
  {
   "cell_type": "code",
   "execution_count": 1,
   "metadata": {},
   "outputs": [],
   "source": [
    "import pandas as pd\n",
    "import numpy as np"
   ]
  },
  {
   "cell_type": "code",
   "execution_count": 2,
   "metadata": {},
   "outputs": [
    {
     "data": {
      "text/plain": [
       "0    El Poblado\n",
       "1      Laureles\n",
       "2           NaN\n",
       "3         Belén\n",
       "4      Envigado\n",
       "dtype: object"
      ]
     },
     "execution_count": 2,
     "metadata": {},
     "output_type": "execute_result"
    }
   ],
   "source": [
    "neighborhoods = [\n",
    "    \"El Poblado\", \"Laureles\", np.nan, \"Belén\", \"Envigado\", \"Sabaneta\", \n",
    "    \"Itagüí\", \"Bello\", np.nan, \"La Estrella\", np.nan, \"Robledo\", \"Aranjuez\", \n",
    "    \"Manrique\", \"Popular\", np.nan,\"Santa Cruz\", \"Castilla\", \"Doce de Octubre\", \n",
    "    np.nan, \"San Javier\", \"Guayabal\", \"Buenos Aires\", np.nan, \n",
    "    \"La Candelaria\", np.nan, np.nan, \"Villa Hermosa\"\n",
    "]\n",
    "\n",
    "neighborhoods_series = pd.Series(neighborhoods)\n",
    "neighborhoods_series.head()"
   ]
  },
  {
   "cell_type": "code",
   "execution_count": 3,
   "metadata": {},
   "outputs": [
    {
     "name": "stdout",
     "output_type": "stream",
     "text": [
      "0    El Poblado\n",
      "1      Laureles\n",
      "2             -\n",
      "3         Belén\n",
      "4      Envigado\n",
      "dtype: object\n",
      "<class 'pandas.core.series.Series'>\n",
      "RangeIndex: 28 entries, 0 to 27\n",
      "Series name: None\n",
      "Non-Null Count  Dtype \n",
      "--------------  ----- \n",
      "28 non-null     object\n",
      "dtypes: object(1)\n",
      "memory usage: 352.0+ bytes\n",
      "\n",
      "\n",
      " None\n"
     ]
    }
   ],
   "source": [
    "# Replacing NaN values\n",
    "\n",
    "neighborhoods_series.isna() # .isna() == .isnull(). # Prints the dataframe with the boolean indicator where\n",
    "# there are NaN values.\n",
    "# .notnull() is the ~.isnull() function\n",
    "neighborhoods_series.fillna('-', inplace=True)\n",
    "print(neighborhoods_series.head())\n",
    "print('\\n\\n', neighborhoods_series.info())"
   ]
  },
  {
   "cell_type": "code",
   "execution_count": 24,
   "metadata": {},
   "outputs": [
    {
     "name": "stdout",
     "output_type": "stream",
     "text": [
      "0    El Poblado\n",
      "1      Laureles\n",
      "2           NaN\n",
      "3         Belén\n",
      "4      Envigado\n",
      "dtype: object\n",
      "<class 'pandas.core.series.Series'>\n",
      "Index: 20 entries, 0 to 27\n",
      "Series name: None\n",
      "Non-Null Count  Dtype \n",
      "--------------  ----- \n",
      "20 non-null     object\n",
      "dtypes: object(1)\n",
      "memory usage: 320.0+ bytes\n",
      "None\n"
     ]
    }
   ],
   "source": [
    "# Parsing empty records with symbols to NaN values \n",
    "neighborhoods_series.replace('-',np.nan,inplace=True)\n",
    "print(neighborhoods_series.head())\n",
    "\n",
    "# Drop\n",
    "cleaned_neighb = neighborhoods_series.dropna()\n",
    "print(cleaned_neighb.info())"
   ]
  },
  {
   "cell_type": "code",
   "execution_count": 5,
   "metadata": {},
   "outputs": [
    {
     "name": "stdout",
     "output_type": "stream",
     "text": [
      "0    18.248470\n",
      "1    25.069756\n",
      "2          NaN\n",
      "3          NaN\n",
      "4    34.954850\n",
      "dtype: float64\n"
     ]
    }
   ],
   "source": [
    "# Example 2\n",
    "\n",
    "data = [18.24847012856791,25.069755775400054,np.nan,np.nan,34.95485027542394,\n",
    "        np.nan,26.99015518619707,16.22051135879878,18.07404180152308,np.nan,31.521621502190584,\n",
    "        26.5217217929312,13.890201504138854,31.574186105161843,25.251897146673507,27.125918573526302,np.nan,\n",
    "        25.11553576361868,27.932871068810364,np.nan,29.369613745283267,np.nan,np.nan,12.531413939086674,np.nan,\n",
    "        33.67613185279017,np.nan,33.09850480505955,16.008134061618577,33.37805321007452]\n",
    "data_series = pd.Series(data)\n",
    "print(data_series.head())\n"
   ]
  },
  {
   "cell_type": "code",
   "execution_count": 7,
   "metadata": {},
   "outputs": [
    {
     "data": {
      "text/plain": [
       "0    False\n",
       "1    False\n",
       "2     True\n",
       "3     True\n",
       "4    False\n",
       "dtype: bool"
      ]
     },
     "execution_count": 7,
     "metadata": {},
     "output_type": "execute_result"
    }
   ],
   "source": [
    "data_series.isna().head() # verifies if there're NaN values\n"
   ]
  },
  {
   "cell_type": "code",
   "execution_count": 18,
   "metadata": {},
   "outputs": [
    {
     "data": {
      "text/plain": [
       "0      18.24847\n",
       "1     25.069756\n",
       "2           ---\n",
       "3           ---\n",
       "4      34.95485\n",
       "5           ---\n",
       "6     26.990155\n",
       "7     16.220511\n",
       "8     18.074042\n",
       "9           ---\n",
       "10    31.521622\n",
       "11    26.521722\n",
       "12    13.890202\n",
       "13    31.574186\n",
       "14    25.251897\n",
       "15    27.125919\n",
       "16          ---\n",
       "17    25.115536\n",
       "18    27.932871\n",
       "19          ---\n",
       "20    29.369614\n",
       "21          ---\n",
       "22          ---\n",
       "23    12.531414\n",
       "24          ---\n",
       "25    33.676132\n",
       "26          ---\n",
       "27    33.098505\n",
       "28    16.008134\n",
       "29    33.378053\n",
       "dtype: object"
      ]
     },
     "execution_count": 18,
     "metadata": {},
     "output_type": "execute_result"
    }
   ],
   "source": [
    "data_series2 = data_series.fillna('---') # Fills the NaN values\n",
    "data_series2"
   ]
  },
  {
   "cell_type": "code",
   "execution_count": null,
   "metadata": {},
   "outputs": [],
   "source": []
  }
 ],
 "metadata": {
  "kernelspec": {
   "display_name": "base",
   "language": "python",
   "name": "python3"
  },
  "language_info": {
   "codemirror_mode": {
    "name": "ipython",
    "version": 3
   },
   "file_extension": ".py",
   "mimetype": "text/x-python",
   "name": "python",
   "nbconvert_exporter": "python",
   "pygments_lexer": "ipython3",
   "version": "3.11.1"
  }
 },
 "nbformat": 4,
 "nbformat_minor": 2
}
