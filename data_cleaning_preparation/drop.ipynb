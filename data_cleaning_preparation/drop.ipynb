{
 "cells": [
  {
   "cell_type": "code",
   "execution_count": 2,
   "metadata": {},
   "outputs": [],
   "source": [
    "import numpy as np\n",
    "import pandas as pd\n",
    "\n",
    "\n",
    "# Define the size of the DataFrame\n",
    "rows, columns = 10, 7\n",
    "\n",
    "# Create a DataFrame with random numbers\n",
    "df = pd.DataFrame(np.random.rand(rows, columns), columns=[f'Feature_{i+1}' for i in range(columns)])\n",
    "\n",
    "# Injecting NaN values randomly\n",
    "# Setting a seed for reproducibility\n",
    "np.random.seed(0)\n",
    "for col in df.columns:\n",
    "    df.loc[df.sample(frac=0.2).index, col] = np.nan"
   ]
  },
  {
   "cell_type": "code",
   "execution_count": 3,
   "metadata": {},
   "outputs": [
    {
     "name": "stdout",
     "output_type": "stream",
     "text": [
      "   Feature_1  Feature_2  Feature_3  Feature_4  Feature_5  Feature_6  Feature_7\n",
      "0   0.713060   0.694234   0.306163   0.674100   0.568915   0.713550   0.310003\n",
      "4   0.814792   0.981854   0.064045   0.278849   0.173012   0.212161   0.293995\n",
      "7   0.722752   0.056887   0.493711   0.965266   0.336244   0.327615   0.081382\n",
      "9   0.688096   0.260883   0.124426   0.360036   0.536794   0.919505   0.902734\n"
     ]
    }
   ],
   "source": [
    "# Drop NaN values\n",
    "\n",
    "cleaned_df = df.dropna() # we can choose to drop by rows or by columns. Default: drops rows.\n",
    "print(cleaned_df.head())\n",
    "\n",
    "# dropna(how='all') drops only those rows or columns that are all NaN values\n",
    "# dropna(axis='1') drops vertically only those columns that contain any NaN values."
   ]
  },
  {
   "cell_type": "code",
   "execution_count": null,
   "metadata": {},
   "outputs": [],
   "source": []
  }
 ],
 "metadata": {
  "kernelspec": {
   "display_name": "base",
   "language": "python",
   "name": "python3"
  },
  "language_info": {
   "codemirror_mode": {
    "name": "ipython",
    "version": 3
   },
   "file_extension": ".py",
   "mimetype": "text/x-python",
   "name": "python",
   "nbconvert_exporter": "python",
   "pygments_lexer": "ipython3",
   "version": "3.11.5"
  }
 },
 "nbformat": 4,
 "nbformat_minor": 2
}
