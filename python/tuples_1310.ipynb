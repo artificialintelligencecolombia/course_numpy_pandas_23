{
 "cells": [
  {
   "cell_type": "code",
   "execution_count": 11,
   "metadata": {},
   "outputs": [
    {
     "name": "stdout",
     "output_type": "stream",
     "text": [
      "(1, 2, 3, 4, 5, 6, 7)\n",
      "3\n"
     ]
    }
   ],
   "source": [
    "# tuple: fixed lenght, and immutable\n",
    "tuple = (1,2,3,4,5,6,7)\n",
    "print(tuple)\n",
    "print(tuple[2])"
   ]
  },
  {
   "cell_type": "code",
   "execution_count": 14,
   "metadata": {},
   "outputs": [
    {
     "name": "stdout",
     "output_type": "stream",
     "text": [
      "(None, [1, 2, 3], 'bar', (1, 2), 8, 9)\n"
     ]
    }
   ],
   "source": [
    "# the objects of the tuple can be modified if they can be, like lists.\n",
    "tup = (None, [1,2], 'bar', (1,2),8,9)\n",
    "tup[1].append(3)\n",
    "print(tup)"
   ]
  },
  {
   "cell_type": "code",
   "execution_count": 15,
   "metadata": {},
   "outputs": [
    {
     "name": "stdout",
     "output_type": "stream",
     "text": [
      "(1, 2, 5, -5, -7, 'foo', 'bar')\n"
     ]
    }
   ],
   "source": [
    "#tuples can be concatenated\n",
    "tup1 = (1,2,5)\n",
    "tup2 = (-5,-7)\n",
    "tup3 = (\"foo\", \"bar\")\n",
    "super_tup = tup1 + tup2 + tup3\n",
    "print(super_tup)"
   ]
  },
  {
   "cell_type": "code",
   "execution_count": 19,
   "metadata": {},
   "outputs": [
    {
     "name": "stdout",
     "output_type": "stream",
     "text": [
      "a:  2 b:  6 c:  5\n",
      "d: 7\n"
     ]
    }
   ],
   "source": [
    "# we can assign varaible to a tuple's elements. it works with nested tuples\n",
    "tup = (2,6,5)\n",
    "a, b, c = tup\n",
    "print(\"a: \",a, \"b: \",b, \"c: \",c)\n",
    "tup2 = 4, 5, (6, 7)\n",
    "a, b, (c, d) = tup2\n",
    "print(\"d:\",d)"
   ]
  },
  {
   "cell_type": "code",
   "execution_count": 23,
   "metadata": {},
   "outputs": [
    {
     "name": "stdout",
     "output_type": "stream",
     "text": [
      "a=85, b=65, c=4\n",
      "a=2, b=74, c=32\n",
      "a=40, b=23, c=0\n"
     ]
    }
   ],
   "source": [
    "tuple_sequence = [(85,65,4),(2,74,32),(40,23,0)]\n",
    "for a, b, c in tuple_sequence:\n",
    "    print('a={0}, b={1}, c={2}'.format(a, b, c))"
   ]
  },
  {
   "cell_type": "code",
   "execution_count": 25,
   "metadata": {},
   "outputs": [
    {
     "name": "stdout",
     "output_type": "stream",
     "text": [
      "a =  3 b =  9 unwanted =  [5, 4, 2, 1]\n"
     ]
    }
   ],
   "source": [
    "values = (3,9,7,5,4,2,1)\n",
    "a, b, c, *_ = values\n",
    "print('a = ',a, 'b = ',b, 'unwanted = ',_)"
   ]
  },
  {
   "cell_type": "code",
   "execution_count": 27,
   "metadata": {},
   "outputs": [
    {
     "data": {
      "text/plain": [
       "6"
      ]
     },
     "execution_count": 27,
     "metadata": {},
     "output_type": "execute_result"
    }
   ],
   "source": [
    "# count method\n",
    "tuple1 = (1,2,3,4,1,5,7,2,1,2,6,5,8,9,4,2,3,6,5,1,7,4,5,5,1,2,3,6,5,4,8,9,7,1)\n",
    "tuple1.count(5)"
   ]
  },
  {
   "cell_type": "code",
   "execution_count": null,
   "metadata": {},
   "outputs": [],
   "source": []
  }
 ],
 "metadata": {
  "kernelspec": {
   "display_name": "Python 3",
   "language": "python",
   "name": "python3"
  },
  "language_info": {
   "codemirror_mode": {
    "name": "ipython",
    "version": 3
   },
   "file_extension": ".py",
   "mimetype": "text/x-python",
   "name": "python",
   "nbconvert_exporter": "python",
   "pygments_lexer": "ipython3",
   "version": "3.11.1"
  }
 },
 "nbformat": 4,
 "nbformat_minor": 2
}
