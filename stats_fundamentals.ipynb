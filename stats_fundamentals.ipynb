{
 "cells": [
  {
   "cell_type": "code",
   "execution_count": 1,
   "metadata": {},
   "outputs": [],
   "source": [
    "import numpy as np"
   ]
  },
  {
   "cell_type": "code",
   "execution_count": 12,
   "metadata": {},
   "outputs": [
    {
     "name": "stdout",
     "output_type": "stream",
     "text": [
      "[[-98 -79 -52 -42 -25   7  32  56  75  80]\n",
      " [-67 -63 -59 -45 -27  -7  18  23  23  62]\n",
      " [-98 -91 -59 -57 -17  -1   8  12  26  34]\n",
      " [-91 -89 -85 -21  -9  -4  17  25  69  75]\n",
      " [-41 -33 -28 -19  -2  12  32  50  73  82]\n",
      " [-99 -91 -77 -61 -18  19  25  36  49  71]\n",
      " [-91 -61 -54 -52 -41  -9  -8  31  39  67]\n",
      " [-90 -12   1   9  28  45  52  81  88  94]\n",
      " [-96 -73 -54 -19 -13  -3   8  28  55  99]\n",
      " [-98 -72 -55   9  23  52  61  80  84  91]\n",
      " [-99 -66 -46 -28   5  19  24  43  55  82]\n",
      " [-68 -58 -51 -23   1  25  36  40  46  93]\n",
      " [-97 -72 -63 -53 -31 -25 -13  42  80  86]]\n"
     ]
    }
   ],
   "source": [
    "# matrix random creation\n",
    "\n",
    "matrix = np.random.randint(-100, 100, size=(13, 10))\n",
    "# print(matrix)\n",
    "matrix.sort()\n",
    "print(matrix)"
   ]
  },
  {
   "cell_type": "code",
   "execution_count": 21,
   "metadata": {},
   "outputs": [],
   "source": [
    "# extract the percentiles\n",
    "# in a sorted list, if 0 is initial value and 100 is final value\n",
    "# percentiles are were the values are divided in 100 parts\n",
    "percentiles = [0, 25, 50, 75, 100]\n",
    "\n",
    "# percentile 50 is the median"
   ]
  },
  {
   "cell_type": "code",
   "execution_count": 23,
   "metadata": {},
   "outputs": [
    {
     "data": {
      "text/plain": [
       "-1.5"
      ]
     },
     "execution_count": 23,
     "metadata": {},
     "output_type": "execute_result"
    }
   ],
   "source": [
    "# note: you must take into account that the percentile is a value, not\n",
    "# a position in the list nor a value in the list\n",
    "percentile_50_matrix_as_array = np.percentile(matrix, percentiles[2])\n",
    "percentile_50_matrix_as_array"
   ]
  },
  {
   "cell_type": "code",
   "execution_count": 30,
   "metadata": {},
   "outputs": [
    {
     "name": "stdout",
     "output_type": "stream",
     "text": [
      "percentile 50 is [ -9.  -17.   -9.   -6.5   5.    0.5 -25.   36.5  -8.   37.5  12.   13.\n",
      " -28. ]\n"
     ]
    }
   ],
   "source": [
    "for p in percentiles[2:3]:\n",
    "    values = np.percentile(matrix, p, axis=1)\n",
    "    print(f'percentile {p} is {values}')"
   ]
  },
  {
   "cell_type": "code",
   "execution_count": 34,
   "metadata": {},
   "outputs": [
    {
     "data": {
      "text/plain": [
       "array([15, 68, 85, 12,  5, 87, 14, 33,  2, 48,  1, 82, 70, 59, 14, 22, 79,\n",
       "       51,  2, 89, 79, 51, 30, 53, 34, 56, 80, 96, 68, 55, 73, 99, 13, 34,\n",
       "       87, 12, 36, 32, 22, 62, 63, 65, 64, 19, 92, 97, 65, 44, 67, 54, 98,\n",
       "       92, 99, 28, 26,  8, 43, 12, 58,  4, 13, 41,  1, 61, 83, 64, 32, 56,\n",
       "       34, 94, 96, 78, 87, 29, 45, 23, 55, 36, 85,  4,  7, 39, 79, 37, 75,\n",
       "       43, 35,  3, 27, 67, 23,  7,  3,  4,  9, 32, 52, 37, 74, 73, 74, 93,\n",
       "       16, 73,  3, 16, 26, 24, 47, 60, 57,  9, 79, 87, 93, 33, 97, 23, 39,\n",
       "       60])"
      ]
     },
     "execution_count": 34,
     "metadata": {},
     "output_type": "execute_result"
    }
   ],
   "source": [
    "arr1 = np.random.randint(1, 100, size=120)\n",
    "arr1"
   ]
  },
  {
   "cell_type": "code",
   "execution_count": 40,
   "metadata": {},
   "outputs": [
    {
     "name": "stdout",
     "output_type": "stream",
     "text": [
      "Average:  48.0\n",
      "Median:  47.5\n",
      "Std:  29.785063370756827\n",
      "Variance:  887.15\n"
     ]
    }
   ],
   "source": [
    "# std is the std deviation, sqrt of variance. Avg distance between each\n",
    "# value and the mean\n",
    "# mean is the average of the values\n",
    "# median is the value in the middle of the values\n",
    "st1 = np.std(arr1)\n",
    "median1 = np.median(arr1)\n",
    "average1 = np.mean(arr1)\n",
    "variance1 = np.var(arr1)\n",
    "print('Average: ', average1) \n",
    "print('Median: ', median1)\n",
    "print('Std: ', st1)\n",
    "print('Variance: ', variance1)"
   ]
  },
  {
   "cell_type": "code",
   "execution_count": null,
   "metadata": {},
   "outputs": [],
   "source": []
  }
 ],
 "metadata": {
  "kernelspec": {
   "display_name": "Python 3",
   "language": "python",
   "name": "python3"
  },
  "language_info": {
   "codemirror_mode": {
    "name": "ipython",
    "version": 3
   },
   "file_extension": ".py",
   "mimetype": "text/x-python",
   "name": "python",
   "nbconvert_exporter": "python",
   "pygments_lexer": "ipython3",
   "version": "3.11.1"
  },
  "orig_nbformat": 4
 },
 "nbformat": 4,
 "nbformat_minor": 2
}
